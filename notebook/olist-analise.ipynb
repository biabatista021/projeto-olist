{
 "cells": [
  {
   "cell_type": "markdown",
   "id": "d336abfd",
   "metadata": {},
   "source": [
    "## 1. Preparação dos Dados"
   ]
  },
  {
   "cell_type": "code",
   "execution_count": 1,
   "id": "82887a9d",
   "metadata": {},
   "outputs": [],
   "source": [
    "## BIBLIOTECAS UTILIZADAS\n",
    "import pandas as pd\n",
    "import numpy as np\n",
    "import sqlite3\n",
    "from datetime import datetime\n",
    "import matplotlib.pyplot as plt\n",
    "import seaborn as sns\n",
    "import plotly.express as px\n",
    "import os\n",
    "os.chdir(r'C:\\Users\\bianc\\Documents\\projeto-olist')\n",
    "from sklearn.model_selection import train_test_split\n",
    "from sklearn.ensemble import RandomForestClassifier\n",
    "from sklearn.metrics import classification_report, confusion_matrix\n",
    "from sklearn.preprocessing import StandardScaler\n",
    "from sklearn.cluster import KMeans\n",
    "from sklearn.decomposition import PCA"
   ]
  },
  {
   "cell_type": "code",
   "execution_count": 2,
   "id": "60de669e",
   "metadata": {},
   "outputs": [],
   "source": [
    "# CARREGANDO OS DADOS\n",
    "clientes = pd.read_csv('dados\\olist_customers_dataset.csv')\n",
    "geolocalizacao = pd.read_csv('dados\\olist_geolocation_dataset.csv')\n",
    "itens_pedidos = pd.read_csv('dados\\olist_order_items_dataset.csv')\n",
    "pedidos_pagamentos = pd.read_csv('dados\\olist_order_payments_dataset.csv')\n",
    "comentarios_pedidos = pd.read_csv('dados\\olist_order_reviews_dataset.csv')\n",
    "pedidos = pd.read_csv('dados\\olist_orders_dataset.csv')\n",
    "produtos = pd.read_csv('dados\\olist_products_dataset.csv')\n",
    "vendedores = pd.read_csv('dados\\olist_sellers_dataset.csv')\n",
    "traducao_de_produto = pd.read_csv('dados\\product_category_name_translation.csv')"
   ]
  },
  {
   "cell_type": "markdown",
   "id": "d45fcc88",
   "metadata": {},
   "source": [
    "### 1.1 Carregando dados de Clientes"
   ]
  },
  {
   "cell_type": "code",
   "execution_count": 3,
   "id": "2105c2b4",
   "metadata": {},
   "outputs": [
    {
     "data": {
      "text/html": [
       "<div>\n",
       "<style scoped>\n",
       "    .dataframe tbody tr th:only-of-type {\n",
       "        vertical-align: middle;\n",
       "    }\n",
       "\n",
       "    .dataframe tbody tr th {\n",
       "        vertical-align: top;\n",
       "    }\n",
       "\n",
       "    .dataframe thead th {\n",
       "        text-align: right;\n",
       "    }\n",
       "</style>\n",
       "<table border=\"1\" class=\"dataframe\">\n",
       "  <thead>\n",
       "    <tr style=\"text-align: right;\">\n",
       "      <th></th>\n",
       "      <th>customer_id</th>\n",
       "      <th>customer_unique_id</th>\n",
       "      <th>customer_zip_code_prefix</th>\n",
       "      <th>customer_city</th>\n",
       "      <th>customer_state</th>\n",
       "    </tr>\n",
       "  </thead>\n",
       "  <tbody>\n",
       "    <tr>\n",
       "      <th>0</th>\n",
       "      <td>06b8999e2fba1a1fbc88172c00ba8bc7</td>\n",
       "      <td>861eff4711a542e4b93843c6dd7febb0</td>\n",
       "      <td>14409</td>\n",
       "      <td>Franca</td>\n",
       "      <td>SP</td>\n",
       "    </tr>\n",
       "    <tr>\n",
       "      <th>1</th>\n",
       "      <td>18955e83d337fd6b2def6b18a428ac77</td>\n",
       "      <td>290c77bc529b7ac935b93aa66c333dc3</td>\n",
       "      <td>9790</td>\n",
       "      <td>Sao Bernardo Do Campo</td>\n",
       "      <td>SP</td>\n",
       "    </tr>\n",
       "    <tr>\n",
       "      <th>2</th>\n",
       "      <td>4e7b3e00288586ebd08712fdd0374a03</td>\n",
       "      <td>060e732b5b29e8181a18229c7b0b2b5e</td>\n",
       "      <td>1151</td>\n",
       "      <td>Sao Paulo</td>\n",
       "      <td>SP</td>\n",
       "    </tr>\n",
       "    <tr>\n",
       "      <th>3</th>\n",
       "      <td>b2b6027bc5c5109e529d4dc6358b12c3</td>\n",
       "      <td>259dac757896d24d7702b9acbbff3f3c</td>\n",
       "      <td>8775</td>\n",
       "      <td>Mogi Das Cruzes</td>\n",
       "      <td>SP</td>\n",
       "    </tr>\n",
       "    <tr>\n",
       "      <th>4</th>\n",
       "      <td>4f2d8ab171c80ec8364f7c12e35b23ad</td>\n",
       "      <td>345ecd01c38d18a9036ed96c73b8d066</td>\n",
       "      <td>13056</td>\n",
       "      <td>Campinas</td>\n",
       "      <td>SP</td>\n",
       "    </tr>\n",
       "  </tbody>\n",
       "</table>\n",
       "</div>"
      ],
      "text/plain": [
       "                        customer_id                customer_unique_id  \\\n",
       "0  06b8999e2fba1a1fbc88172c00ba8bc7  861eff4711a542e4b93843c6dd7febb0   \n",
       "1  18955e83d337fd6b2def6b18a428ac77  290c77bc529b7ac935b93aa66c333dc3   \n",
       "2  4e7b3e00288586ebd08712fdd0374a03  060e732b5b29e8181a18229c7b0b2b5e   \n",
       "3  b2b6027bc5c5109e529d4dc6358b12c3  259dac757896d24d7702b9acbbff3f3c   \n",
       "4  4f2d8ab171c80ec8364f7c12e35b23ad  345ecd01c38d18a9036ed96c73b8d066   \n",
       "\n",
       "   customer_zip_code_prefix          customer_city customer_state  \n",
       "0                     14409                 Franca             SP  \n",
       "1                      9790  Sao Bernardo Do Campo             SP  \n",
       "2                      1151              Sao Paulo             SP  \n",
       "3                      8775        Mogi Das Cruzes             SP  \n",
       "4                     13056               Campinas             SP  "
      ]
     },
     "execution_count": 3,
     "metadata": {},
     "output_type": "execute_result"
    }
   ],
   "source": [
    "# Convertendo os nomes das cidades para maiúsculo\n",
    "clientes['customer_city'] = clientes['customer_city'].str.title()\n",
    "\n",
    "#exibindo apenas as 5 primeiras linhas\n",
    "clientes.head(5)"
   ]
  },
  {
   "cell_type": "code",
   "execution_count": 4,
   "id": "e3651171",
   "metadata": {},
   "outputs": [
    {
     "data": {
      "text/plain": [
       "customer_id                 0\n",
       "customer_unique_id          0\n",
       "customer_zip_code_prefix    0\n",
       "customer_city               0\n",
       "customer_state              0\n",
       "dtype: int64"
      ]
     },
     "execution_count": 4,
     "metadata": {},
     "output_type": "execute_result"
    }
   ],
   "source": [
    "# Verificando existência de valores ausentes\n",
    "clientes.isnull().sum()"
   ]
  },
  {
   "cell_type": "code",
   "execution_count": 5,
   "id": "dda07cd0",
   "metadata": {},
   "outputs": [
    {
     "name": "stdout",
     "output_type": "stream",
     "text": [
      "Linhas completamente duplicadas: 0\n"
     ]
    }
   ],
   "source": [
    "# Verificando linhas completamente duplicadas\n",
    "duplicados_completos = clientes.duplicated().sum()\n",
    "print(f\"Linhas completamente duplicadas: {duplicados_completos}\")"
   ]
  },
  {
   "cell_type": "markdown",
   "id": "c55d25e6",
   "metadata": {},
   "source": [
    "### 1.2 Carregando dados de Geolocalização"
   ]
  },
  {
   "cell_type": "code",
   "execution_count": 6,
   "id": "9d3f0252",
   "metadata": {},
   "outputs": [
    {
     "data": {
      "text/html": [
       "<div>\n",
       "<style scoped>\n",
       "    .dataframe tbody tr th:only-of-type {\n",
       "        vertical-align: middle;\n",
       "    }\n",
       "\n",
       "    .dataframe tbody tr th {\n",
       "        vertical-align: top;\n",
       "    }\n",
       "\n",
       "    .dataframe thead th {\n",
       "        text-align: right;\n",
       "    }\n",
       "</style>\n",
       "<table border=\"1\" class=\"dataframe\">\n",
       "  <thead>\n",
       "    <tr style=\"text-align: right;\">\n",
       "      <th></th>\n",
       "      <th>geolocation_zip_code_prefix</th>\n",
       "      <th>geolocation_lat</th>\n",
       "      <th>geolocation_lng</th>\n",
       "      <th>geolocation_city</th>\n",
       "      <th>geolocation_state</th>\n",
       "    </tr>\n",
       "  </thead>\n",
       "  <tbody>\n",
       "    <tr>\n",
       "      <th>0</th>\n",
       "      <td>1037</td>\n",
       "      <td>-23.545621</td>\n",
       "      <td>-46.639292</td>\n",
       "      <td>Sao Paulo</td>\n",
       "      <td>SP</td>\n",
       "    </tr>\n",
       "    <tr>\n",
       "      <th>1</th>\n",
       "      <td>1046</td>\n",
       "      <td>-23.546081</td>\n",
       "      <td>-46.644820</td>\n",
       "      <td>Sao Paulo</td>\n",
       "      <td>SP</td>\n",
       "    </tr>\n",
       "    <tr>\n",
       "      <th>2</th>\n",
       "      <td>1046</td>\n",
       "      <td>-23.546129</td>\n",
       "      <td>-46.642951</td>\n",
       "      <td>Sao Paulo</td>\n",
       "      <td>SP</td>\n",
       "    </tr>\n",
       "    <tr>\n",
       "      <th>3</th>\n",
       "      <td>1041</td>\n",
       "      <td>-23.544392</td>\n",
       "      <td>-46.639499</td>\n",
       "      <td>Sao Paulo</td>\n",
       "      <td>SP</td>\n",
       "    </tr>\n",
       "    <tr>\n",
       "      <th>4</th>\n",
       "      <td>1035</td>\n",
       "      <td>-23.541578</td>\n",
       "      <td>-46.641607</td>\n",
       "      <td>Sao Paulo</td>\n",
       "      <td>SP</td>\n",
       "    </tr>\n",
       "  </tbody>\n",
       "</table>\n",
       "</div>"
      ],
      "text/plain": [
       "   geolocation_zip_code_prefix  geolocation_lat  geolocation_lng  \\\n",
       "0                         1037       -23.545621       -46.639292   \n",
       "1                         1046       -23.546081       -46.644820   \n",
       "2                         1046       -23.546129       -46.642951   \n",
       "3                         1041       -23.544392       -46.639499   \n",
       "4                         1035       -23.541578       -46.641607   \n",
       "\n",
       "  geolocation_city geolocation_state  \n",
       "0        Sao Paulo                SP  \n",
       "1        Sao Paulo                SP  \n",
       "2        Sao Paulo                SP  \n",
       "3        Sao Paulo                SP  \n",
       "4        Sao Paulo                SP  "
      ]
     },
     "execution_count": 6,
     "metadata": {},
     "output_type": "execute_result"
    }
   ],
   "source": [
    "# Convertendo os nomes das cidades para maiúsculo\n",
    "geolocalizacao['geolocation_city'] = geolocalizacao['geolocation_city'].str.title()\n",
    "\n",
    "# exibindo apenas as 5 primeiras linhas\n",
    "geolocalizacao.head(5)"
   ]
  },
  {
   "cell_type": "code",
   "execution_count": 7,
   "id": "ecf0fd3c",
   "metadata": {},
   "outputs": [
    {
     "data": {
      "text/plain": [
       "geolocation_zip_code_prefix    0\n",
       "geolocation_lat                0\n",
       "geolocation_lng                0\n",
       "geolocation_city               0\n",
       "geolocation_state              0\n",
       "dtype: int64"
      ]
     },
     "execution_count": 7,
     "metadata": {},
     "output_type": "execute_result"
    }
   ],
   "source": [
    "# Verificando existência de valores ausentes\n",
    "geolocalizacao.isnull().sum()"
   ]
  },
  {
   "cell_type": "markdown",
   "id": "1126a24b",
   "metadata": {},
   "source": [
    "### 1.3 Carregando dados de Itens Pedidos"
   ]
  },
  {
   "cell_type": "code",
   "execution_count": 8,
   "id": "65d3c3e8",
   "metadata": {},
   "outputs": [
    {
     "data": {
      "text/html": [
       "<div>\n",
       "<style scoped>\n",
       "    .dataframe tbody tr th:only-of-type {\n",
       "        vertical-align: middle;\n",
       "    }\n",
       "\n",
       "    .dataframe tbody tr th {\n",
       "        vertical-align: top;\n",
       "    }\n",
       "\n",
       "    .dataframe thead th {\n",
       "        text-align: right;\n",
       "    }\n",
       "</style>\n",
       "<table border=\"1\" class=\"dataframe\">\n",
       "  <thead>\n",
       "    <tr style=\"text-align: right;\">\n",
       "      <th></th>\n",
       "      <th>order_id</th>\n",
       "      <th>order_item_id</th>\n",
       "      <th>product_id</th>\n",
       "      <th>seller_id</th>\n",
       "      <th>shipping_limit_date</th>\n",
       "      <th>price</th>\n",
       "      <th>freight_value</th>\n",
       "    </tr>\n",
       "  </thead>\n",
       "  <tbody>\n",
       "    <tr>\n",
       "      <th>0</th>\n",
       "      <td>00010242fe8c5a6d1ba2dd792cb16214</td>\n",
       "      <td>1</td>\n",
       "      <td>4244733e06e7ecb4970a6e2683c13e61</td>\n",
       "      <td>48436dade18ac8b2bce089ec2a041202</td>\n",
       "      <td>2017-09-19 09:45:35</td>\n",
       "      <td>58.90</td>\n",
       "      <td>13.29</td>\n",
       "    </tr>\n",
       "    <tr>\n",
       "      <th>1</th>\n",
       "      <td>00018f77f2f0320c557190d7a144bdd3</td>\n",
       "      <td>1</td>\n",
       "      <td>e5f2d52b802189ee658865ca93d83a8f</td>\n",
       "      <td>dd7ddc04e1b6c2c614352b383efe2d36</td>\n",
       "      <td>2017-05-03 11:05:13</td>\n",
       "      <td>239.90</td>\n",
       "      <td>19.93</td>\n",
       "    </tr>\n",
       "    <tr>\n",
       "      <th>2</th>\n",
       "      <td>000229ec398224ef6ca0657da4fc703e</td>\n",
       "      <td>1</td>\n",
       "      <td>c777355d18b72b67abbeef9df44fd0fd</td>\n",
       "      <td>5b51032eddd242adc84c38acab88f23d</td>\n",
       "      <td>2018-01-18 14:48:30</td>\n",
       "      <td>199.00</td>\n",
       "      <td>17.87</td>\n",
       "    </tr>\n",
       "    <tr>\n",
       "      <th>3</th>\n",
       "      <td>00024acbcdf0a6daa1e931b038114c75</td>\n",
       "      <td>1</td>\n",
       "      <td>7634da152a4610f1595efa32f14722fc</td>\n",
       "      <td>9d7a1d34a5052409006425275ba1c2b4</td>\n",
       "      <td>2018-08-15 10:10:18</td>\n",
       "      <td>12.99</td>\n",
       "      <td>12.79</td>\n",
       "    </tr>\n",
       "    <tr>\n",
       "      <th>4</th>\n",
       "      <td>00042b26cf59d7ce69dfabb4e55b4fd9</td>\n",
       "      <td>1</td>\n",
       "      <td>ac6c3623068f30de03045865e4e10089</td>\n",
       "      <td>df560393f3a51e74553ab94004ba5c87</td>\n",
       "      <td>2017-02-13 13:57:51</td>\n",
       "      <td>199.90</td>\n",
       "      <td>18.14</td>\n",
       "    </tr>\n",
       "  </tbody>\n",
       "</table>\n",
       "</div>"
      ],
      "text/plain": [
       "                           order_id  order_item_id  \\\n",
       "0  00010242fe8c5a6d1ba2dd792cb16214              1   \n",
       "1  00018f77f2f0320c557190d7a144bdd3              1   \n",
       "2  000229ec398224ef6ca0657da4fc703e              1   \n",
       "3  00024acbcdf0a6daa1e931b038114c75              1   \n",
       "4  00042b26cf59d7ce69dfabb4e55b4fd9              1   \n",
       "\n",
       "                         product_id                         seller_id  \\\n",
       "0  4244733e06e7ecb4970a6e2683c13e61  48436dade18ac8b2bce089ec2a041202   \n",
       "1  e5f2d52b802189ee658865ca93d83a8f  dd7ddc04e1b6c2c614352b383efe2d36   \n",
       "2  c777355d18b72b67abbeef9df44fd0fd  5b51032eddd242adc84c38acab88f23d   \n",
       "3  7634da152a4610f1595efa32f14722fc  9d7a1d34a5052409006425275ba1c2b4   \n",
       "4  ac6c3623068f30de03045865e4e10089  df560393f3a51e74553ab94004ba5c87   \n",
       "\n",
       "   shipping_limit_date   price  freight_value  \n",
       "0  2017-09-19 09:45:35   58.90          13.29  \n",
       "1  2017-05-03 11:05:13  239.90          19.93  \n",
       "2  2018-01-18 14:48:30  199.00          17.87  \n",
       "3  2018-08-15 10:10:18   12.99          12.79  \n",
       "4  2017-02-13 13:57:51  199.90          18.14  "
      ]
     },
     "execution_count": 8,
     "metadata": {},
     "output_type": "execute_result"
    }
   ],
   "source": [
    "# exibindo apenas as 5 primeiras linhas do dataset\n",
    "itens_pedidos.head(5)"
   ]
  },
  {
   "cell_type": "code",
   "execution_count": 9,
   "id": "6c59ac8a",
   "metadata": {},
   "outputs": [
    {
     "name": "stdout",
     "output_type": "stream",
     "text": [
      "<class 'pandas.core.frame.DataFrame'>\n",
      "RangeIndex: 112650 entries, 0 to 112649\n",
      "Data columns (total 7 columns):\n",
      " #   Column               Non-Null Count   Dtype  \n",
      "---  ------               --------------   -----  \n",
      " 0   order_id             112650 non-null  object \n",
      " 1   order_item_id        112650 non-null  int64  \n",
      " 2   product_id           112650 non-null  object \n",
      " 3   seller_id            112650 non-null  object \n",
      " 4   shipping_limit_date  112650 non-null  object \n",
      " 5   price                112650 non-null  float64\n",
      " 6   freight_value        112650 non-null  float64\n",
      "dtypes: float64(2), int64(1), object(4)\n",
      "memory usage: 6.0+ MB\n"
     ]
    }
   ],
   "source": [
    "# Imprimindo informações sobre o dataset\n",
    "itens_pedidos.info()"
   ]
  },
  {
   "cell_type": "code",
   "execution_count": 10,
   "id": "2a916aa7",
   "metadata": {},
   "outputs": [
    {
     "data": {
      "text/plain": [
       "order_id               0\n",
       "order_item_id          0\n",
       "product_id             0\n",
       "seller_id              0\n",
       "shipping_limit_date    0\n",
       "price                  0\n",
       "freight_value          0\n",
       "dtype: int64"
      ]
     },
     "execution_count": 10,
     "metadata": {},
     "output_type": "execute_result"
    }
   ],
   "source": [
    "# Verificando existência de valores ausentes\n",
    "itens_pedidos.isnull().sum()"
   ]
  },
  {
   "cell_type": "code",
   "execution_count": 11,
   "id": "73e44b50",
   "metadata": {},
   "outputs": [
    {
     "name": "stdout",
     "output_type": "stream",
     "text": [
      "Linhas completamente duplicadas: 0\n"
     ]
    }
   ],
   "source": [
    "# Verificando linhas completamente duplicadas\n",
    "duplicados_completos = itens_pedidos.duplicated().sum()\n",
    "print(f\"Linhas completamente duplicadas: {duplicados_completos}\")"
   ]
  },
  {
   "cell_type": "markdown",
   "id": "d2380158",
   "metadata": {},
   "source": [
    "### 1.4 Carregando dados de Pagamentos"
   ]
  },
  {
   "cell_type": "code",
   "execution_count": 12,
   "id": "51773c15",
   "metadata": {},
   "outputs": [
    {
     "data": {
      "text/html": [
       "<div>\n",
       "<style scoped>\n",
       "    .dataframe tbody tr th:only-of-type {\n",
       "        vertical-align: middle;\n",
       "    }\n",
       "\n",
       "    .dataframe tbody tr th {\n",
       "        vertical-align: top;\n",
       "    }\n",
       "\n",
       "    .dataframe thead th {\n",
       "        text-align: right;\n",
       "    }\n",
       "</style>\n",
       "<table border=\"1\" class=\"dataframe\">\n",
       "  <thead>\n",
       "    <tr style=\"text-align: right;\">\n",
       "      <th></th>\n",
       "      <th>order_id</th>\n",
       "      <th>payment_sequential</th>\n",
       "      <th>payment_type</th>\n",
       "      <th>payment_installments</th>\n",
       "      <th>payment_value</th>\n",
       "    </tr>\n",
       "  </thead>\n",
       "  <tbody>\n",
       "    <tr>\n",
       "      <th>0</th>\n",
       "      <td>b81ef226f3fe1789b1e8b2acac839d17</td>\n",
       "      <td>1</td>\n",
       "      <td>credit_card</td>\n",
       "      <td>8</td>\n",
       "      <td>99.33</td>\n",
       "    </tr>\n",
       "    <tr>\n",
       "      <th>1</th>\n",
       "      <td>a9810da82917af2d9aefd1278f1dcfa0</td>\n",
       "      <td>1</td>\n",
       "      <td>credit_card</td>\n",
       "      <td>1</td>\n",
       "      <td>24.39</td>\n",
       "    </tr>\n",
       "    <tr>\n",
       "      <th>2</th>\n",
       "      <td>25e8ea4e93396b6fa0d3dd708e76c1bd</td>\n",
       "      <td>1</td>\n",
       "      <td>credit_card</td>\n",
       "      <td>1</td>\n",
       "      <td>65.71</td>\n",
       "    </tr>\n",
       "    <tr>\n",
       "      <th>3</th>\n",
       "      <td>ba78997921bbcdc1373bb41e913ab953</td>\n",
       "      <td>1</td>\n",
       "      <td>credit_card</td>\n",
       "      <td>8</td>\n",
       "      <td>107.78</td>\n",
       "    </tr>\n",
       "    <tr>\n",
       "      <th>4</th>\n",
       "      <td>42fdf880ba16b47b59251dd489d4441a</td>\n",
       "      <td>1</td>\n",
       "      <td>credit_card</td>\n",
       "      <td>2</td>\n",
       "      <td>128.45</td>\n",
       "    </tr>\n",
       "  </tbody>\n",
       "</table>\n",
       "</div>"
      ],
      "text/plain": [
       "                           order_id  payment_sequential payment_type  \\\n",
       "0  b81ef226f3fe1789b1e8b2acac839d17                   1  credit_card   \n",
       "1  a9810da82917af2d9aefd1278f1dcfa0                   1  credit_card   \n",
       "2  25e8ea4e93396b6fa0d3dd708e76c1bd                   1  credit_card   \n",
       "3  ba78997921bbcdc1373bb41e913ab953                   1  credit_card   \n",
       "4  42fdf880ba16b47b59251dd489d4441a                   1  credit_card   \n",
       "\n",
       "   payment_installments  payment_value  \n",
       "0                     8          99.33  \n",
       "1                     1          24.39  \n",
       "2                     1          65.71  \n",
       "3                     8         107.78  \n",
       "4                     2         128.45  "
      ]
     },
     "execution_count": 12,
     "metadata": {},
     "output_type": "execute_result"
    }
   ],
   "source": [
    "# imprimindo apenas as 5 primeiras linhas\n",
    "pedidos_pagamentos.head(5)"
   ]
  },
  {
   "cell_type": "code",
   "execution_count": 13,
   "id": "4d0087a4",
   "metadata": {},
   "outputs": [
    {
     "data": {
      "text/plain": [
       "order_id                0\n",
       "payment_sequential      0\n",
       "payment_type            0\n",
       "payment_installments    0\n",
       "payment_value           0\n",
       "dtype: int64"
      ]
     },
     "execution_count": 13,
     "metadata": {},
     "output_type": "execute_result"
    }
   ],
   "source": [
    "# Verificando existência de valores ausentes\n",
    "pedidos_pagamentos.isnull().sum()"
   ]
  },
  {
   "cell_type": "code",
   "execution_count": 14,
   "id": "53e84691",
   "metadata": {},
   "outputs": [
    {
     "name": "stdout",
     "output_type": "stream",
     "text": [
      "Linhas completamente duplicadas: 0\n"
     ]
    }
   ],
   "source": [
    "# Verificando linhas completamente duplicadas\n",
    "duplicados_completos = pedidos_pagamentos.duplicated().sum()\n",
    "print(f\"Linhas completamente duplicadas: {duplicados_completos}\")"
   ]
  },
  {
   "cell_type": "markdown",
   "id": "dbf72ebc",
   "metadata": {},
   "source": [
    "### 1.5 Carregando dados de Comentários/Avaliações"
   ]
  },
  {
   "cell_type": "code",
   "execution_count": 15,
   "id": "969f1957",
   "metadata": {},
   "outputs": [
    {
     "data": {
      "text/html": [
       "<div>\n",
       "<style scoped>\n",
       "    .dataframe tbody tr th:only-of-type {\n",
       "        vertical-align: middle;\n",
       "    }\n",
       "\n",
       "    .dataframe tbody tr th {\n",
       "        vertical-align: top;\n",
       "    }\n",
       "\n",
       "    .dataframe thead th {\n",
       "        text-align: right;\n",
       "    }\n",
       "</style>\n",
       "<table border=\"1\" class=\"dataframe\">\n",
       "  <thead>\n",
       "    <tr style=\"text-align: right;\">\n",
       "      <th></th>\n",
       "      <th>review_id</th>\n",
       "      <th>order_id</th>\n",
       "      <th>review_score</th>\n",
       "      <th>review_comment_title</th>\n",
       "      <th>review_comment_message</th>\n",
       "      <th>review_creation_date</th>\n",
       "      <th>review_answer_timestamp</th>\n",
       "    </tr>\n",
       "  </thead>\n",
       "  <tbody>\n",
       "    <tr>\n",
       "      <th>0</th>\n",
       "      <td>7bc2406110b926393aa56f80a40eba40</td>\n",
       "      <td>73fc7af87114b39712e6da79b0a377eb</td>\n",
       "      <td>4</td>\n",
       "      <td>NaN</td>\n",
       "      <td>NaN</td>\n",
       "      <td>2018-01-18</td>\n",
       "      <td>2018-01-18 21:46:59</td>\n",
       "    </tr>\n",
       "    <tr>\n",
       "      <th>1</th>\n",
       "      <td>80e641a11e56f04c1ad469d5645fdfde</td>\n",
       "      <td>a548910a1c6147796b98fdf73dbeba33</td>\n",
       "      <td>5</td>\n",
       "      <td>NaN</td>\n",
       "      <td>NaN</td>\n",
       "      <td>2018-03-10</td>\n",
       "      <td>2018-03-11 03:05:13</td>\n",
       "    </tr>\n",
       "    <tr>\n",
       "      <th>2</th>\n",
       "      <td>228ce5500dc1d8e020d8d1322874b6f0</td>\n",
       "      <td>f9e4b658b201a9f2ecdecbb34bed034b</td>\n",
       "      <td>5</td>\n",
       "      <td>NaN</td>\n",
       "      <td>NaN</td>\n",
       "      <td>2018-02-17</td>\n",
       "      <td>2018-02-18 14:36:24</td>\n",
       "    </tr>\n",
       "    <tr>\n",
       "      <th>3</th>\n",
       "      <td>e64fb393e7b32834bb789ff8bb30750e</td>\n",
       "      <td>658677c97b385a9be170737859d3511b</td>\n",
       "      <td>5</td>\n",
       "      <td>NaN</td>\n",
       "      <td>Recebi bem antes do prazo estipulado.</td>\n",
       "      <td>2017-04-21</td>\n",
       "      <td>2017-04-21 22:02:06</td>\n",
       "    </tr>\n",
       "    <tr>\n",
       "      <th>4</th>\n",
       "      <td>f7c4243c7fe1938f181bec41a392bdeb</td>\n",
       "      <td>8e6bfb81e283fa7e4f11123a3fb894f1</td>\n",
       "      <td>5</td>\n",
       "      <td>NaN</td>\n",
       "      <td>Parabéns lojas lannister adorei comprar pela I...</td>\n",
       "      <td>2018-03-01</td>\n",
       "      <td>2018-03-02 10:26:53</td>\n",
       "    </tr>\n",
       "  </tbody>\n",
       "</table>\n",
       "</div>"
      ],
      "text/plain": [
       "                          review_id                          order_id  \\\n",
       "0  7bc2406110b926393aa56f80a40eba40  73fc7af87114b39712e6da79b0a377eb   \n",
       "1  80e641a11e56f04c1ad469d5645fdfde  a548910a1c6147796b98fdf73dbeba33   \n",
       "2  228ce5500dc1d8e020d8d1322874b6f0  f9e4b658b201a9f2ecdecbb34bed034b   \n",
       "3  e64fb393e7b32834bb789ff8bb30750e  658677c97b385a9be170737859d3511b   \n",
       "4  f7c4243c7fe1938f181bec41a392bdeb  8e6bfb81e283fa7e4f11123a3fb894f1   \n",
       "\n",
       "   review_score review_comment_title  \\\n",
       "0             4                  NaN   \n",
       "1             5                  NaN   \n",
       "2             5                  NaN   \n",
       "3             5                  NaN   \n",
       "4             5                  NaN   \n",
       "\n",
       "                              review_comment_message review_creation_date  \\\n",
       "0                                                NaN           2018-01-18   \n",
       "1                                                NaN           2018-03-10   \n",
       "2                                                NaN           2018-02-17   \n",
       "3              Recebi bem antes do prazo estipulado.           2017-04-21   \n",
       "4  Parabéns lojas lannister adorei comprar pela I...           2018-03-01   \n",
       "\n",
       "  review_answer_timestamp  \n",
       "0     2018-01-18 21:46:59  \n",
       "1     2018-03-11 03:05:13  \n",
       "2     2018-02-18 14:36:24  \n",
       "3     2017-04-21 22:02:06  \n",
       "4     2018-03-02 10:26:53  "
      ]
     },
     "execution_count": 15,
     "metadata": {},
     "output_type": "execute_result"
    }
   ],
   "source": [
    "# Limpando e tratando os dados\n",
    "# 1. Convertendo datas\n",
    "comentarios_pedidos['review_creation_date'] = pd.to_datetime(comentarios_pedidos['review_creation_date'])\n",
    "comentarios_pedidos['review_answer_timestamp'] = pd.to_datetime(comentarios_pedidos['review_answer_timestamp'])\n",
    "\n",
    "# Imprimindo as 5 primeiras linhas\n",
    "comentarios_pedidos.head(5)"
   ]
  },
  {
   "cell_type": "code",
   "execution_count": 16,
   "id": "1c149476",
   "metadata": {},
   "outputs": [
    {
     "name": "stdout",
     "output_type": "stream",
     "text": [
      "<class 'pandas.core.frame.DataFrame'>\n",
      "RangeIndex: 99224 entries, 0 to 99223\n",
      "Data columns (total 7 columns):\n",
      " #   Column                   Non-Null Count  Dtype         \n",
      "---  ------                   --------------  -----         \n",
      " 0   review_id                99224 non-null  object        \n",
      " 1   order_id                 99224 non-null  object        \n",
      " 2   review_score             99224 non-null  int64         \n",
      " 3   review_comment_title     11568 non-null  object        \n",
      " 4   review_comment_message   40977 non-null  object        \n",
      " 5   review_creation_date     99224 non-null  datetime64[ns]\n",
      " 6   review_answer_timestamp  99224 non-null  datetime64[ns]\n",
      "dtypes: datetime64[ns](2), int64(1), object(4)\n",
      "memory usage: 5.3+ MB\n"
     ]
    }
   ],
   "source": [
    "# Imprimindo informações do dataset\n",
    "comentarios_pedidos.info()"
   ]
  },
  {
   "cell_type": "code",
   "execution_count": 17,
   "id": "908efbdc",
   "metadata": {},
   "outputs": [
    {
     "data": {
      "text/plain": [
       "review_id                      0\n",
       "order_id                       0\n",
       "review_score                   0\n",
       "review_comment_title       87656\n",
       "review_comment_message     58247\n",
       "review_creation_date           0\n",
       "review_answer_timestamp        0\n",
       "dtype: int64"
      ]
     },
     "execution_count": 17,
     "metadata": {},
     "output_type": "execute_result"
    }
   ],
   "source": [
    "# Verificando existência de valores ausentes\n",
    "comentarios_pedidos.isnull().sum()"
   ]
  },
  {
   "cell_type": "markdown",
   "id": "023fd4eb",
   "metadata": {},
   "source": [
    "### 1.6 Carregando dados de Pedidos"
   ]
  },
  {
   "cell_type": "code",
   "execution_count": 18,
   "id": "249f29ce",
   "metadata": {},
   "outputs": [],
   "source": [
    "# Limpando e tratando os dados\n",
    "# 1. Convertendo datas\n",
    "pedidos['order_purchase_timestamp'] = pd.to_datetime(pedidos['order_purchase_timestamp'])\n",
    "pedidos['order_delivered_customer_date'] = pd.to_datetime(pedidos['order_delivered_customer_date'])\n",
    "pedidos['order_estimated_delivery_date'] = pd.to_datetime(pedidos['order_estimated_delivery_date'])"
   ]
  },
  {
   "cell_type": "code",
   "execution_count": 19,
   "id": "8b5eca9c",
   "metadata": {},
   "outputs": [
    {
     "data": {
      "text/html": [
       "<div>\n",
       "<style scoped>\n",
       "    .dataframe tbody tr th:only-of-type {\n",
       "        vertical-align: middle;\n",
       "    }\n",
       "\n",
       "    .dataframe tbody tr th {\n",
       "        vertical-align: top;\n",
       "    }\n",
       "\n",
       "    .dataframe thead th {\n",
       "        text-align: right;\n",
       "    }\n",
       "</style>\n",
       "<table border=\"1\" class=\"dataframe\">\n",
       "  <thead>\n",
       "    <tr style=\"text-align: right;\">\n",
       "      <th></th>\n",
       "      <th>order_id</th>\n",
       "      <th>customer_id</th>\n",
       "      <th>order_status</th>\n",
       "      <th>order_purchase_timestamp</th>\n",
       "      <th>order_approved_at</th>\n",
       "      <th>order_delivered_carrier_date</th>\n",
       "      <th>order_delivered_customer_date</th>\n",
       "      <th>order_estimated_delivery_date</th>\n",
       "    </tr>\n",
       "  </thead>\n",
       "  <tbody>\n",
       "    <tr>\n",
       "      <th>0</th>\n",
       "      <td>e481f51cbdc54678b7cc49136f2d6af7</td>\n",
       "      <td>9ef432eb6251297304e76186b10a928d</td>\n",
       "      <td>delivered</td>\n",
       "      <td>2017-10-02 10:56:33</td>\n",
       "      <td>2017-10-02 11:07:15</td>\n",
       "      <td>2017-10-04 19:55:00</td>\n",
       "      <td>2017-10-10 21:25:13</td>\n",
       "      <td>2017-10-18</td>\n",
       "    </tr>\n",
       "    <tr>\n",
       "      <th>1</th>\n",
       "      <td>53cdb2fc8bc7dce0b6741e2150273451</td>\n",
       "      <td>b0830fb4747a6c6d20dea0b8c802d7ef</td>\n",
       "      <td>delivered</td>\n",
       "      <td>2018-07-24 20:41:37</td>\n",
       "      <td>2018-07-26 03:24:27</td>\n",
       "      <td>2018-07-26 14:31:00</td>\n",
       "      <td>2018-08-07 15:27:45</td>\n",
       "      <td>2018-08-13</td>\n",
       "    </tr>\n",
       "    <tr>\n",
       "      <th>2</th>\n",
       "      <td>47770eb9100c2d0c44946d9cf07ec65d</td>\n",
       "      <td>41ce2a54c0b03bf3443c3d931a367089</td>\n",
       "      <td>delivered</td>\n",
       "      <td>2018-08-08 08:38:49</td>\n",
       "      <td>2018-08-08 08:55:23</td>\n",
       "      <td>2018-08-08 13:50:00</td>\n",
       "      <td>2018-08-17 18:06:29</td>\n",
       "      <td>2018-09-04</td>\n",
       "    </tr>\n",
       "    <tr>\n",
       "      <th>3</th>\n",
       "      <td>949d5b44dbf5de918fe9c16f97b45f8a</td>\n",
       "      <td>f88197465ea7920adcdbec7375364d82</td>\n",
       "      <td>delivered</td>\n",
       "      <td>2017-11-18 19:28:06</td>\n",
       "      <td>2017-11-18 19:45:59</td>\n",
       "      <td>2017-11-22 13:39:59</td>\n",
       "      <td>2017-12-02 00:28:42</td>\n",
       "      <td>2017-12-15</td>\n",
       "    </tr>\n",
       "    <tr>\n",
       "      <th>4</th>\n",
       "      <td>ad21c59c0840e6cb83a9ceb5573f8159</td>\n",
       "      <td>8ab97904e6daea8866dbdbc4fb7aad2c</td>\n",
       "      <td>delivered</td>\n",
       "      <td>2018-02-13 21:18:39</td>\n",
       "      <td>2018-02-13 22:20:29</td>\n",
       "      <td>2018-02-14 19:46:34</td>\n",
       "      <td>2018-02-16 18:17:02</td>\n",
       "      <td>2018-02-26</td>\n",
       "    </tr>\n",
       "  </tbody>\n",
       "</table>\n",
       "</div>"
      ],
      "text/plain": [
       "                           order_id                       customer_id  \\\n",
       "0  e481f51cbdc54678b7cc49136f2d6af7  9ef432eb6251297304e76186b10a928d   \n",
       "1  53cdb2fc8bc7dce0b6741e2150273451  b0830fb4747a6c6d20dea0b8c802d7ef   \n",
       "2  47770eb9100c2d0c44946d9cf07ec65d  41ce2a54c0b03bf3443c3d931a367089   \n",
       "3  949d5b44dbf5de918fe9c16f97b45f8a  f88197465ea7920adcdbec7375364d82   \n",
       "4  ad21c59c0840e6cb83a9ceb5573f8159  8ab97904e6daea8866dbdbc4fb7aad2c   \n",
       "\n",
       "  order_status order_purchase_timestamp    order_approved_at  \\\n",
       "0    delivered      2017-10-02 10:56:33  2017-10-02 11:07:15   \n",
       "1    delivered      2018-07-24 20:41:37  2018-07-26 03:24:27   \n",
       "2    delivered      2018-08-08 08:38:49  2018-08-08 08:55:23   \n",
       "3    delivered      2017-11-18 19:28:06  2017-11-18 19:45:59   \n",
       "4    delivered      2018-02-13 21:18:39  2018-02-13 22:20:29   \n",
       "\n",
       "  order_delivered_carrier_date order_delivered_customer_date  \\\n",
       "0          2017-10-04 19:55:00           2017-10-10 21:25:13   \n",
       "1          2018-07-26 14:31:00           2018-08-07 15:27:45   \n",
       "2          2018-08-08 13:50:00           2018-08-17 18:06:29   \n",
       "3          2017-11-22 13:39:59           2017-12-02 00:28:42   \n",
       "4          2018-02-14 19:46:34           2018-02-16 18:17:02   \n",
       "\n",
       "  order_estimated_delivery_date  \n",
       "0                    2017-10-18  \n",
       "1                    2018-08-13  \n",
       "2                    2018-09-04  \n",
       "3                    2017-12-15  \n",
       "4                    2018-02-26  "
      ]
     },
     "execution_count": 19,
     "metadata": {},
     "output_type": "execute_result"
    }
   ],
   "source": [
    "# Verificando as 5 primeiras linhas\n",
    "pedidos.head(5)"
   ]
  },
  {
   "cell_type": "code",
   "execution_count": 20,
   "id": "4e0bc9a9",
   "metadata": {},
   "outputs": [
    {
     "data": {
      "text/plain": [
       "order_id                            0\n",
       "customer_id                         0\n",
       "order_status                        0\n",
       "order_purchase_timestamp            0\n",
       "order_approved_at                 160\n",
       "order_delivered_carrier_date     1783\n",
       "order_delivered_customer_date    2965\n",
       "order_estimated_delivery_date       0\n",
       "dtype: int64"
      ]
     },
     "execution_count": 20,
     "metadata": {},
     "output_type": "execute_result"
    }
   ],
   "source": [
    "# Verificando as existência de valores nulos\n",
    "pedidos.isnull().sum()"
   ]
  },
  {
   "cell_type": "markdown",
   "id": "d1994ce7",
   "metadata": {},
   "source": [
    "### 1.6.1 Limpando dados de Pedidos"
   ]
  },
  {
   "cell_type": "code",
   "execution_count": 21,
   "id": "aebf4f0a",
   "metadata": {},
   "outputs": [
    {
     "name": "stdout",
     "output_type": "stream",
     "text": [
      "Composição original dos nulos:\n",
      "order_status\n",
      "canceled     141\n",
      "delivered     14\n",
      "created        5\n",
      "Name: count, dtype: int64\n"
     ]
    }
   ],
   "source": [
    "# Verificar composição dos nulos - order_approved_at\n",
    "print(\"Composição original dos nulos:\")\n",
    "print(pedidos[pedidos['order_approved_at'].isnull()]['order_status'].value_counts())"
   ]
  },
  {
   "cell_type": "markdown",
   "id": "56edcb5d",
   "metadata": {},
   "source": [
    "1. Para status \"canceled\" (141 registros):\n",
    "\n",
    "- São esperados: pedidos cancelados não precisam ter data de aprovação;\n",
    "\n",
    "2. Para status \"delivered\" (14 registros):\n",
    "\n",
    "- Pedidos entregues deveriam ter sido aprovados, realizar correção."
   ]
  },
  {
   "cell_type": "code",
   "execution_count": 22,
   "id": "5f560801",
   "metadata": {},
   "outputs": [],
   "source": [
    "# Usando a data de compra como aproximação\n",
    "pedidos.loc[(pedidos['order_approved_at'].isnull()) & \n",
    "           (pedidos['order_status'] == 'delivered'),\n",
    "           'order_approved_at'] = pedidos['order_purchase_timestamp']"
   ]
  },
  {
   "cell_type": "markdown",
   "id": "0e8ef239",
   "metadata": {},
   "source": [
    "3. Para status \"created\" (5 registros):\n",
    "- Pedidos que nunca saíram do status inicial"
   ]
  },
  {
   "cell_type": "code",
   "execution_count": 23,
   "id": "5212b7b5",
   "metadata": {},
   "outputs": [
    {
     "name": "stdout",
     "output_type": "stream",
     "text": [
      "Composição original dos nulos:\n",
      "order_status\n",
      "unavailable    609\n",
      "canceled       550\n",
      "invoiced       314\n",
      "processing     301\n",
      "created          5\n",
      "approved         2\n",
      "delivered        2\n",
      "Name: count, dtype: int64\n"
     ]
    }
   ],
   "source": [
    "# Verificar composição dos nulos - order_delivered_carrier_date\n",
    "print(\"Composição original dos nulos:\")\n",
    "print(pedidos[pedidos['order_delivered_carrier_date'].isnull()]['order_status'].value_counts())"
   ]
  },
  {
   "cell_type": "markdown",
   "id": "3fdbec82",
   "metadata": {},
   "source": [
    "- **unavailable**  ->  609  ->  Indica que o produto não estava disponível para envio.\n",
    "- **canceled** -> 550 -> Pedidos cancelados nunca são enviados.\n",
    "- **invoiced** -> 314 -> Fatura gerada, mas ainda não enviado ao transportador.\n",
    "- **processing** -> 301 -> Pedido em processamento (não enviado ainda).\n",
    "- **created** -> 5 -> Pedido recém-criado (não aprovado nem enviado)."
   ]
  },
  {
   "cell_type": "markdown",
   "id": "707e3112",
   "metadata": {},
   "source": [
    "##### Analisando pedidos 'Approved' - order_delivered_carrier_date"
   ]
  },
  {
   "cell_type": "code",
   "execution_count": 24,
   "id": "303fb07d",
   "metadata": {},
   "outputs": [
    {
     "name": "stdout",
     "output_type": "stream",
     "text": [
      "Pedidos aprovados sem data de envio:\n",
      "                               order_id order_purchase_timestamp\n",
      "44897  a2e4c44360b4a57bdff22f3a4630c173      2017-02-06 20:18:17\n",
      "88457  132f1e724165a07f6362532bfb97486e      2017-04-25 01:25:34\n"
     ]
    }
   ],
   "source": [
    "# Filtrando pedidos aprovados com nulos\n",
    "nulos_aprovados = pedidos[\n",
    "    (pedidos['order_status'] == 'approved') & \n",
    "    (pedidos['order_delivered_carrier_date'].isnull())\n",
    "]\n",
    "\n",
    "print(\"Pedidos aprovados sem data de envio:\")\n",
    "print(nulos_aprovados[['order_id', 'order_purchase_timestamp']])"
   ]
  },
  {
   "cell_type": "code",
   "execution_count": 25,
   "id": "4cfc6ee6",
   "metadata": {},
   "outputs": [
    {
     "name": "stdout",
     "output_type": "stream",
     "text": [
      "                               order_id  payment_sequential payment_type  \\\n",
      "20877  a2e4c44360b4a57bdff22f3a4630c173                   1  credit_card   \n",
      "\n",
      "       payment_installments  payment_value  \n",
      "20877                     1          61.62  \n"
     ]
    }
   ],
   "source": [
    "# Verificando se houve pagamento nesse pedido aprovado\n",
    "print(pedidos_pagamentos[pedidos_pagamentos['order_id'] == 'a2e4c44360b4a57bdff22f3a4630c173'])"
   ]
  },
  {
   "cell_type": "markdown",
   "id": "ab44e8a8",
   "metadata": {},
   "source": [
    "- O pedido foi realmente aprovado (status approved faz sentido).\n",
    "\n",
    "- Pagamento único no cartão (sem parcelamento).\n",
    "\n",
    "- Tratamento escolhido: marcar como 'cancelado' pois o pedido nunca foi despachado."
   ]
  },
  {
   "cell_type": "code",
   "execution_count": 26,
   "id": "22816a56",
   "metadata": {},
   "outputs": [],
   "source": [
    "# Alterando pedido para cancelado\n",
    "pedidos.loc[\n",
    "    pedidos['order_id'] == 'a2e4c44360b4a57bdff22f3a4630c173',\n",
    "    ['order_status', 'order_delivered_carrier_date']\n",
    "] = ['canceled', pd.NaT]  # Status + limpeza da data"
   ]
  },
  {
   "cell_type": "code",
   "execution_count": 27,
   "id": "b964b48d",
   "metadata": {},
   "outputs": [
    {
     "name": "stdout",
     "output_type": "stream",
     "text": [
      "                             order_id  payment_sequential payment_type  \\\n",
      "746  132f1e724165a07f6362532bfb97486e                   1  credit_card   \n",
      "\n",
      "     payment_installments  payment_value  \n",
      "746                     5         179.46  \n"
     ]
    }
   ],
   "source": [
    "# Verificando se pedido aprovado foi pago\n",
    "print(pedidos_pagamentos[pedidos_pagamentos['order_id'] == '132f1e724165a07f6362532bfb97486e'])"
   ]
  },
  {
   "cell_type": "markdown",
   "id": "99806e9b",
   "metadata": {},
   "source": [
    "- Status approved mas sem order_delivered_carrier_date.\n",
    "\n",
    "- Situação idêntica ao pedido anterior.\n",
    "\n",
    "- Tratamento: marcar como cancelado pois não houve envio."
   ]
  },
  {
   "cell_type": "code",
   "execution_count": 28,
   "id": "43115d68",
   "metadata": {},
   "outputs": [],
   "source": [
    "# Atualizando pedido aprovado para cancelado\n",
    "pedidos.loc[\n",
    "    pedidos['order_id'] == '132f1e724165a07f6362532bfb97486e',\n",
    "    ['order_status', 'order_delivered_carrier_date']\n",
    "] = ['canceled', pd.NaT]"
   ]
  },
  {
   "cell_type": "markdown",
   "id": "eeb7440e",
   "metadata": {},
   "source": [
    "##### Analisando pedidos 'Delivered' - order_delivered_carrier_date"
   ]
  },
  {
   "cell_type": "code",
   "execution_count": 29,
   "id": "6c0d1078",
   "metadata": {},
   "outputs": [
    {
     "name": "stdout",
     "output_type": "stream",
     "text": [
      "Pedidos entregues com order_delivered_carrier_date nulo:\n",
      "                               order_id order_purchase_timestamp  \\\n",
      "73222  2aa91108853cecb43c84a5dc5b277475      2017-09-29 08:52:58   \n",
      "92643  2d858f451373b04fb5c984a1cc2defaf      2017-05-25 23:22:43   \n",
      "\n",
      "      order_delivered_customer_date  \n",
      "73222           2017-11-20 19:44:47  \n",
      "92643                           NaT  \n"
     ]
    }
   ],
   "source": [
    "# Identificando os pedidos entregues com data de carrier nula\n",
    "entrega_inconsistente = pedidos[\n",
    "    (pedidos['order_status'] == 'delivered') & \n",
    "    (pedidos['order_delivered_carrier_date'].isnull())\n",
    "]\n",
    "\n",
    "print(\"Pedidos entregues com order_delivered_carrier_date nulo:\")\n",
    "print(entrega_inconsistente[['order_id', 'order_purchase_timestamp', 'order_delivered_customer_date']])"
   ]
  },
  {
   "cell_type": "code",
   "execution_count": 30,
   "id": "51898671",
   "metadata": {},
   "outputs": [
    {
     "name": "stdout",
     "output_type": "stream",
     "text": [
      "                              review_id                          order_id  \\\n",
      "74309  e945d1831a3d98008913fc31dcbb804d  2aa91108853cecb43c84a5dc5b277475   \n",
      "\n",
      "       review_score review_comment_title review_comment_message  \\\n",
      "74309             5                  NaN                    NaN   \n",
      "\n",
      "      review_creation_date review_answer_timestamp  \n",
      "74309           2017-10-17     2017-10-17 10:56:02  \n"
     ]
    }
   ],
   "source": [
    "# Veridicando se houve comentário feito para esse pedido\n",
    "print(comentarios_pedidos[comentarios_pedidos['order_id'] == '2aa91108853cecb43c84a5dc5b277475'])"
   ]
  },
  {
   "cell_type": "markdown",
   "id": "d452d3e2",
   "metadata": {},
   "source": [
    "- Sistema falhou em registrar a data de envio ao transportador\n",
    "\n",
    "- Mas todas as evidências indicam que o pedido foi completado normalmente"
   ]
  },
  {
   "cell_type": "code",
   "execution_count": 31,
   "id": "63aabeed",
   "metadata": {},
   "outputs": [],
   "source": [
    "# Convertendo todas as colunas de data\n",
    "# Lista de colunas de data para converter\n",
    "date_cols = ['order_purchase_timestamp', 'order_approved_at', \n",
    "             'order_delivered_carrier_date', 'order_delivered_customer_date']\n",
    "\n",
    "# Converter para datetime com tratamento de erros\n",
    "for col in date_cols:\n",
    "    pedidos[col] = pd.to_datetime(pedidos[col], errors='coerce')"
   ]
  },
  {
   "cell_type": "code",
   "execution_count": 32,
   "id": "42c08b06",
   "metadata": {},
   "outputs": [],
   "source": [
    "# Cálculo do tempo médio\n",
    "# Filtrar pedidos entregues com datas válidas\n",
    "pedidos_entregues = pedidos[\n",
    "    (pedidos['order_status'] == 'delivered') & \n",
    "    (pedidos['order_delivered_carrier_date'].notna()) & \n",
    "    (pedidos['order_approved_at'].notna())\n",
    "]\n",
    "\n",
    "# Calcular diferença em dias\n",
    "if not pedidos_entregues.empty:\n",
    "    tempo_medio = (pedidos_entregues['order_delivered_carrier_date'] - \n",
    "                  pedidos_entregues['order_approved_at']).dt.days.mean()\n",
    "else:\n",
    "    tempo_medio = 3  # Valor padrão se não houver dados"
   ]
  },
  {
   "cell_type": "code",
   "execution_count": 33,
   "id": "0a3d917f",
   "metadata": {},
   "outputs": [],
   "source": [
    "# Preenchimento seguro da data estimada\n",
    "# Verificar se o pedido existe\n",
    "pedido_alvo = '2aa91108853cecb43c84a5dc5b277475'\n",
    "if pedido_alvo in pedidos['order_id'].values:\n",
    "    # Obter a data de aprovação (com verificação)\n",
    "    data_aprovacao = pedidos.loc[pedidos['order_id'] == pedido_alvo, 'order_approved_at'].iloc[0]\n",
    "    \n",
    "    if pd.notna(data_aprovacao):\n",
    "        pedidos.loc[pedidos['order_id'] == pedido_alvo, 'order_delivered_carrier_date'] = (\n",
    "            data_aprovacao + pd.Timedelta(days=tempo_medio))\n",
    "    else:\n",
    "        print(f\"Aviso: Pedido {pedido_alvo} não tem data de aprovação válida\")\n",
    "else:\n",
    "    print(f\"Aviso: Pedido {pedido_alvo} não encontrado\")\n",
    "        "
   ]
  },
  {
   "cell_type": "code",
   "execution_count": 34,
   "id": "60178bff",
   "metadata": {},
   "outputs": [
    {
     "data": {
      "text/html": [
       "<div>\n",
       "<style scoped>\n",
       "    .dataframe tbody tr th:only-of-type {\n",
       "        vertical-align: middle;\n",
       "    }\n",
       "\n",
       "    .dataframe tbody tr th {\n",
       "        vertical-align: top;\n",
       "    }\n",
       "\n",
       "    .dataframe thead th {\n",
       "        text-align: right;\n",
       "    }\n",
       "</style>\n",
       "<table border=\"1\" class=\"dataframe\">\n",
       "  <thead>\n",
       "    <tr style=\"text-align: right;\">\n",
       "      <th></th>\n",
       "      <th>order_id</th>\n",
       "      <th>order_status</th>\n",
       "      <th>order_approved_at</th>\n",
       "      <th>order_delivered_carrier_date</th>\n",
       "    </tr>\n",
       "  </thead>\n",
       "  <tbody>\n",
       "    <tr>\n",
       "      <th>73222</th>\n",
       "      <td>2aa91108853cecb43c84a5dc5b277475</td>\n",
       "      <td>delivered</td>\n",
       "      <td>2017-09-29 09:07:16</td>\n",
       "      <td>2017-10-01 16:13:28.702019155</td>\n",
       "    </tr>\n",
       "  </tbody>\n",
       "</table>\n",
       "</div>"
      ],
      "text/plain": [
       "                               order_id order_status   order_approved_at  \\\n",
       "73222  2aa91108853cecb43c84a5dc5b277475    delivered 2017-09-29 09:07:16   \n",
       "\n",
       "       order_delivered_carrier_date  \n",
       "73222 2017-10-01 16:13:28.702019155  "
      ]
     },
     "metadata": {},
     "output_type": "display_data"
    },
    {
     "name": "stdout",
     "output_type": "stream",
     "text": [
      "\n",
      "Tipos das colunas após conversão:\n",
      "order_purchase_timestamp         datetime64[ns]\n",
      "order_approved_at                datetime64[ns]\n",
      "order_delivered_carrier_date     datetime64[ns]\n",
      "order_delivered_customer_date    datetime64[ns]\n",
      "dtype: object\n"
     ]
    }
   ],
   "source": [
    "# Mostrando o pedido modificado\n",
    "display(pedidos[pedidos['order_id'] == pedido_alvo][[\n",
    "    'order_id', 'order_status', 'order_approved_at', \n",
    "    'order_delivered_carrier_date'\n",
    "]])\n",
    "\n",
    "# Verificando tipos das colunas\n",
    "print(\"\\nTipos das colunas após conversão:\")\n",
    "print(pedidos[date_cols].dtypes)"
   ]
  },
  {
   "cell_type": "code",
   "execution_count": 35,
   "id": "a44d93a3",
   "metadata": {},
   "outputs": [
    {
     "name": "stdout",
     "output_type": "stream",
     "text": [
      "                              review_id                          order_id  \\\n",
      "51996  4e755f114e50d33b9ac6a56e0d7d3ea9  2d858f451373b04fb5c984a1cc2defaf   \n",
      "\n",
      "       review_score review_comment_title review_comment_message  \\\n",
      "51996             5                  NaN                    NaN   \n",
      "\n",
      "      review_creation_date review_answer_timestamp  \n",
      "51996           2017-06-25     2017-06-27 01:49:04  \n"
     ]
    }
   ],
   "source": [
    "# Analisando se o pedido possui comentários do cliente\n",
    "print(comentarios_pedidos[comentarios_pedidos['order_id'] == '2d858f451373b04fb5c984a1cc2defaf'])"
   ]
  },
  {
   "cell_type": "markdown",
   "id": "776fb463",
   "metadata": {},
   "source": [
    " O pedido está marcado como delivered, mas:\n",
    "\n",
    "- order_delivered_carrier_date = NaN (não foi registrado quando foi enviado ao transportador).\n",
    "\n",
    "- order_delivered_customer_date = NaT (não há registro de entrega ao cliente).\n",
    "\n",
    "Porém, o cliente deu nota 5 estrelas, o que sugere que recebeu o pedido sem problemas."
   ]
  },
  {
   "cell_type": "code",
   "execution_count": 36,
   "id": "6a413eac",
   "metadata": {},
   "outputs": [],
   "source": [
    "# Calcular a média de dias entre 'order_approved_at' e 'order_delivered_carrier_date'\n",
    "media_dias = pedidos[\n",
    "    (pedidos['order_status'] == 'delivered') & \n",
    "    (~pedidos['order_delivered_carrier_date'].isnull())\n",
    "].apply(\n",
    "    lambda x: (x['order_delivered_carrier_date'] - x['order_approved_at']).days,\n",
    "    axis=1\n",
    ").mean()\n",
    "\n",
    "# Preencher a data estimada para o pedido problemático\n",
    "pedidos.loc[\n",
    "    pedidos['order_id'] == '2d858f451373b04fb5c984a1cc2defaf',\n",
    "    'order_delivered_carrier_date'\n",
    "] = pedidos['order_approved_at'] + pd.Timedelta(days=media_dias)"
   ]
  },
  {
   "cell_type": "code",
   "execution_count": 37,
   "id": "da4e47d9",
   "metadata": {},
   "outputs": [
    {
     "name": "stdout",
     "output_type": "stream",
     "text": [
      "Composição original dos nulos:\n",
      "order_status\n",
      "shipped        1107\n",
      "canceled        621\n",
      "unavailable     609\n",
      "invoiced        314\n",
      "processing      301\n",
      "delivered         8\n",
      "created           5\n",
      "Name: count, dtype: int64\n"
     ]
    }
   ],
   "source": [
    "# Verificar composição dos nulos - order_delivered_customer_date\n",
    "print(\"Composição original dos nulos:\")\n",
    "print(pedidos[pedidos['order_delivered_customer_date'].isnull()]['order_status'].value_counts())"
   ]
  },
  {
   "cell_type": "markdown",
   "id": "e1581954",
   "metadata": {},
   "source": [
    "##### Status \"shipped\" - order_delivered_customer_date"
   ]
  },
  {
   "cell_type": "code",
   "execution_count": 38,
   "id": "49bb86a8",
   "metadata": {},
   "outputs": [],
   "source": [
    "# Pedidos marcados com enviados mas sem data de entrega\n",
    "# Verificar se há data de transporte como fallback\n",
    "pedidos.loc[(pedidos['order_status'] == 'shipped') & \n",
    "           (pedidos['order_delivered_customer_date'].isnull()),\n",
    "           'order_delivered_customer_date'] = pedidos['order_delivered_carrier_date'] + pd.Timedelta(days=5)  # estimativa média"
   ]
  },
  {
   "cell_type": "markdown",
   "id": "f4018e9d",
   "metadata": {},
   "source": [
    "##### Status 'delivered' - order_delivered_customer_date"
   ]
  },
  {
   "cell_type": "code",
   "execution_count": 39,
   "id": "0e079ce9",
   "metadata": {},
   "outputs": [],
   "source": [
    "# Usando data estimada\n",
    "pedidos.loc[(pedidos['order_status'] == 'delivered') & \n",
    "           (pedidos['order_delivered_customer_date'].isnull()),\n",
    "           'order_delivered_customer_date'] = pedidos['order_estimated_delivery_date']"
   ]
  },
  {
   "cell_type": "code",
   "execution_count": 40,
   "id": "f7516656",
   "metadata": {},
   "outputs": [
    {
     "data": {
      "text/plain": [
       "order_id                            0\n",
       "customer_id                         0\n",
       "order_status                        0\n",
       "order_purchase_timestamp            0\n",
       "order_approved_at                 146\n",
       "order_delivered_carrier_date     1781\n",
       "order_delivered_customer_date    1850\n",
       "order_estimated_delivery_date       0\n",
       "dtype: int64"
      ]
     },
     "execution_count": 40,
     "metadata": {},
     "output_type": "execute_result"
    }
   ],
   "source": [
    "# Após correções\n",
    "pedidos.isnull().sum()"
   ]
  },
  {
   "cell_type": "markdown",
   "id": "8d403a93",
   "metadata": {},
   "source": [
    "### 1.7 Carregando dados de Produtos"
   ]
  },
  {
   "cell_type": "code",
   "execution_count": 41,
   "id": "0d2bd735",
   "metadata": {},
   "outputs": [
    {
     "data": {
      "text/html": [
       "<div>\n",
       "<style scoped>\n",
       "    .dataframe tbody tr th:only-of-type {\n",
       "        vertical-align: middle;\n",
       "    }\n",
       "\n",
       "    .dataframe tbody tr th {\n",
       "        vertical-align: top;\n",
       "    }\n",
       "\n",
       "    .dataframe thead th {\n",
       "        text-align: right;\n",
       "    }\n",
       "</style>\n",
       "<table border=\"1\" class=\"dataframe\">\n",
       "  <thead>\n",
       "    <tr style=\"text-align: right;\">\n",
       "      <th></th>\n",
       "      <th>product_id</th>\n",
       "      <th>product_category_name</th>\n",
       "      <th>product_name_lenght</th>\n",
       "      <th>product_description_lenght</th>\n",
       "      <th>product_photos_qty</th>\n",
       "      <th>product_weight_g</th>\n",
       "      <th>product_length_cm</th>\n",
       "      <th>product_height_cm</th>\n",
       "      <th>product_width_cm</th>\n",
       "    </tr>\n",
       "  </thead>\n",
       "  <tbody>\n",
       "    <tr>\n",
       "      <th>0</th>\n",
       "      <td>1e9e8ef04dbcff4541ed26657ea517e5</td>\n",
       "      <td>perfumaria</td>\n",
       "      <td>40.0</td>\n",
       "      <td>287.0</td>\n",
       "      <td>1.0</td>\n",
       "      <td>225.0</td>\n",
       "      <td>16.0</td>\n",
       "      <td>10.0</td>\n",
       "      <td>14.0</td>\n",
       "    </tr>\n",
       "    <tr>\n",
       "      <th>1</th>\n",
       "      <td>3aa071139cb16b67ca9e5dea641aaa2f</td>\n",
       "      <td>artes</td>\n",
       "      <td>44.0</td>\n",
       "      <td>276.0</td>\n",
       "      <td>1.0</td>\n",
       "      <td>1000.0</td>\n",
       "      <td>30.0</td>\n",
       "      <td>18.0</td>\n",
       "      <td>20.0</td>\n",
       "    </tr>\n",
       "    <tr>\n",
       "      <th>2</th>\n",
       "      <td>96bd76ec8810374ed1b65e291975717f</td>\n",
       "      <td>esporte_lazer</td>\n",
       "      <td>46.0</td>\n",
       "      <td>250.0</td>\n",
       "      <td>1.0</td>\n",
       "      <td>154.0</td>\n",
       "      <td>18.0</td>\n",
       "      <td>9.0</td>\n",
       "      <td>15.0</td>\n",
       "    </tr>\n",
       "    <tr>\n",
       "      <th>3</th>\n",
       "      <td>cef67bcfe19066a932b7673e239eb23d</td>\n",
       "      <td>bebes</td>\n",
       "      <td>27.0</td>\n",
       "      <td>261.0</td>\n",
       "      <td>1.0</td>\n",
       "      <td>371.0</td>\n",
       "      <td>26.0</td>\n",
       "      <td>4.0</td>\n",
       "      <td>26.0</td>\n",
       "    </tr>\n",
       "    <tr>\n",
       "      <th>4</th>\n",
       "      <td>9dc1a7de274444849c219cff195d0b71</td>\n",
       "      <td>utilidades_domesticas</td>\n",
       "      <td>37.0</td>\n",
       "      <td>402.0</td>\n",
       "      <td>4.0</td>\n",
       "      <td>625.0</td>\n",
       "      <td>20.0</td>\n",
       "      <td>17.0</td>\n",
       "      <td>13.0</td>\n",
       "    </tr>\n",
       "  </tbody>\n",
       "</table>\n",
       "</div>"
      ],
      "text/plain": [
       "                         product_id  product_category_name  \\\n",
       "0  1e9e8ef04dbcff4541ed26657ea517e5             perfumaria   \n",
       "1  3aa071139cb16b67ca9e5dea641aaa2f                  artes   \n",
       "2  96bd76ec8810374ed1b65e291975717f          esporte_lazer   \n",
       "3  cef67bcfe19066a932b7673e239eb23d                  bebes   \n",
       "4  9dc1a7de274444849c219cff195d0b71  utilidades_domesticas   \n",
       "\n",
       "   product_name_lenght  product_description_lenght  product_photos_qty  \\\n",
       "0                 40.0                       287.0                 1.0   \n",
       "1                 44.0                       276.0                 1.0   \n",
       "2                 46.0                       250.0                 1.0   \n",
       "3                 27.0                       261.0                 1.0   \n",
       "4                 37.0                       402.0                 4.0   \n",
       "\n",
       "   product_weight_g  product_length_cm  product_height_cm  product_width_cm  \n",
       "0             225.0               16.0               10.0              14.0  \n",
       "1            1000.0               30.0               18.0              20.0  \n",
       "2             154.0               18.0                9.0              15.0  \n",
       "3             371.0               26.0                4.0              26.0  \n",
       "4             625.0               20.0               17.0              13.0  "
      ]
     },
     "execution_count": 41,
     "metadata": {},
     "output_type": "execute_result"
    }
   ],
   "source": [
    "# analisando as 5 primeiras linhas\n",
    "produtos.head(5)"
   ]
  },
  {
   "cell_type": "code",
   "execution_count": 42,
   "id": "ab2f44d6",
   "metadata": {},
   "outputs": [
    {
     "data": {
      "text/plain": [
       "product_id                      0\n",
       "product_category_name         610\n",
       "product_name_lenght           610\n",
       "product_description_lenght    610\n",
       "product_photos_qty            610\n",
       "product_weight_g                2\n",
       "product_length_cm               2\n",
       "product_height_cm               2\n",
       "product_width_cm                2\n",
       "dtype: int64"
      ]
     },
     "execution_count": 42,
     "metadata": {},
     "output_type": "execute_result"
    }
   ],
   "source": [
    "# Verificando existência de valores ausentes\n",
    "produtos.isnull().sum()"
   ]
  },
  {
   "cell_type": "markdown",
   "id": "9ca65e97",
   "metadata": {},
   "source": [
    "### 1.7.1 Limpando dados de Produtos"
   ]
  },
  {
   "cell_type": "markdown",
   "id": "b8c6dbdd",
   "metadata": {},
   "source": [
    "Correção - product_category_name"
   ]
  },
  {
   "cell_type": "code",
   "execution_count": 43,
   "id": "8459d93b",
   "metadata": {},
   "outputs": [],
   "source": [
    "# Preenchendo categoria nome com 'nao_informado'\n",
    "produtos['product_category_name'] = produtos['product_category_name'].fillna('nao_informado')"
   ]
  },
  {
   "cell_type": "markdown",
   "id": "144401cd",
   "metadata": {},
   "source": [
    "Correção - product_weight_g, product_length_cm, product_height_cm, product_width_cm "
   ]
  },
  {
   "cell_type": "code",
   "execution_count": 44,
   "id": "50c9d904",
   "metadata": {},
   "outputs": [],
   "source": [
    "# Preencher com médias da categoria\n",
    "for col in ['product_weight_g', 'product_length_cm', 'product_height_cm', 'product_width_cm']:\n",
    "    produtos[col] = produtos.groupby('product_category_name')[col].transform(\n",
    "        lambda x: x.fillna(x.median()))  # Usar mediana por ser menos sensível a outliers"
   ]
  },
  {
   "cell_type": "markdown",
   "id": "5f7712e9",
   "metadata": {},
   "source": [
    "Correção - product_name_lenght, product_description_lenght, product_photos_qty"
   ]
  },
  {
   "cell_type": "code",
   "execution_count": 45,
   "id": "4c57cb52",
   "metadata": {},
   "outputs": [],
   "source": [
    "# Versão alternativa que preenche primeiro com a média global quando a média do grupo é NaN\n",
    "for col in ['product_name_lenght', 'product_description_lenght', 'product_photos_qty']:\n",
    "    # Calcular médias por categoria\n",
    "    group_means = produtos.groupby('product_category_name')[col].transform('mean')\n",
    "    \n",
    "    # Calcular média global\n",
    "    global_mean = produtos[col].mean()\n",
    "    \n",
    "    # Preencher: primeiro tenta com a média do grupo, depois com a global\n",
    "    produtos[col] = produtos[col].fillna(group_means).fillna(global_mean)"
   ]
  },
  {
   "cell_type": "code",
   "execution_count": 46,
   "id": "14e02948",
   "metadata": {},
   "outputs": [
    {
     "data": {
      "text/plain": [
       "product_id                    0\n",
       "product_category_name         0\n",
       "product_name_lenght           0\n",
       "product_description_lenght    0\n",
       "product_photos_qty            0\n",
       "product_weight_g              0\n",
       "product_length_cm             0\n",
       "product_height_cm             0\n",
       "product_width_cm              0\n",
       "dtype: int64"
      ]
     },
     "execution_count": 46,
     "metadata": {},
     "output_type": "execute_result"
    }
   ],
   "source": [
    "# Verificando resultado após correções\n",
    "produtos.isnull().sum()"
   ]
  },
  {
   "cell_type": "markdown",
   "id": "8212206e",
   "metadata": {},
   "source": [
    "### 1.8 Carregando dados de Vendedores"
   ]
  },
  {
   "cell_type": "code",
   "execution_count": 47,
   "id": "68bec635",
   "metadata": {},
   "outputs": [
    {
     "data": {
      "text/html": [
       "<div>\n",
       "<style scoped>\n",
       "    .dataframe tbody tr th:only-of-type {\n",
       "        vertical-align: middle;\n",
       "    }\n",
       "\n",
       "    .dataframe tbody tr th {\n",
       "        vertical-align: top;\n",
       "    }\n",
       "\n",
       "    .dataframe thead th {\n",
       "        text-align: right;\n",
       "    }\n",
       "</style>\n",
       "<table border=\"1\" class=\"dataframe\">\n",
       "  <thead>\n",
       "    <tr style=\"text-align: right;\">\n",
       "      <th></th>\n",
       "      <th>seller_id</th>\n",
       "      <th>seller_zip_code_prefix</th>\n",
       "      <th>seller_city</th>\n",
       "      <th>seller_state</th>\n",
       "    </tr>\n",
       "  </thead>\n",
       "  <tbody>\n",
       "    <tr>\n",
       "      <th>0</th>\n",
       "      <td>3442f8959a84dea7ee197c632cb2df15</td>\n",
       "      <td>13023</td>\n",
       "      <td>Campinas</td>\n",
       "      <td>SP</td>\n",
       "    </tr>\n",
       "    <tr>\n",
       "      <th>1</th>\n",
       "      <td>d1b65fc7debc3361ea86b5f14c68d2e2</td>\n",
       "      <td>13844</td>\n",
       "      <td>Mogi Guacu</td>\n",
       "      <td>SP</td>\n",
       "    </tr>\n",
       "    <tr>\n",
       "      <th>2</th>\n",
       "      <td>ce3ad9de960102d0677a81f5d0bb7b2d</td>\n",
       "      <td>20031</td>\n",
       "      <td>Rio De Janeiro</td>\n",
       "      <td>RJ</td>\n",
       "    </tr>\n",
       "    <tr>\n",
       "      <th>3</th>\n",
       "      <td>c0f3eea2e14555b6faeea3dd58c1b1c3</td>\n",
       "      <td>4195</td>\n",
       "      <td>Sao Paulo</td>\n",
       "      <td>SP</td>\n",
       "    </tr>\n",
       "    <tr>\n",
       "      <th>4</th>\n",
       "      <td>51a04a8a6bdcb23deccc82b0b80742cf</td>\n",
       "      <td>12914</td>\n",
       "      <td>Braganca Paulista</td>\n",
       "      <td>SP</td>\n",
       "    </tr>\n",
       "  </tbody>\n",
       "</table>\n",
       "</div>"
      ],
      "text/plain": [
       "                          seller_id  seller_zip_code_prefix  \\\n",
       "0  3442f8959a84dea7ee197c632cb2df15                   13023   \n",
       "1  d1b65fc7debc3361ea86b5f14c68d2e2                   13844   \n",
       "2  ce3ad9de960102d0677a81f5d0bb7b2d                   20031   \n",
       "3  c0f3eea2e14555b6faeea3dd58c1b1c3                    4195   \n",
       "4  51a04a8a6bdcb23deccc82b0b80742cf                   12914   \n",
       "\n",
       "         seller_city seller_state  \n",
       "0           Campinas           SP  \n",
       "1         Mogi Guacu           SP  \n",
       "2     Rio De Janeiro           RJ  \n",
       "3          Sao Paulo           SP  \n",
       "4  Braganca Paulista           SP  "
      ]
     },
     "execution_count": 47,
     "metadata": {},
     "output_type": "execute_result"
    }
   ],
   "source": [
    "# Convertendo a primeira letra das cidade para maiúcula\n",
    "vendedores['seller_city'] = vendedores['seller_city'].str.title()\n",
    "\n",
    "# Verificando apenas as 5 primeiras linhas\n",
    "vendedores.head(5)"
   ]
  },
  {
   "cell_type": "code",
   "execution_count": 48,
   "id": "1bd21ead",
   "metadata": {},
   "outputs": [
    {
     "data": {
      "text/plain": [
       "seller_id                 0\n",
       "seller_zip_code_prefix    0\n",
       "seller_city               0\n",
       "seller_state              0\n",
       "dtype: int64"
      ]
     },
     "execution_count": 48,
     "metadata": {},
     "output_type": "execute_result"
    }
   ],
   "source": [
    "# Verificnando exitência de valores nulos\n",
    "vendedores.isnull().sum()"
   ]
  },
  {
   "cell_type": "markdown",
   "id": "c7f0c027",
   "metadata": {},
   "source": [
    "### 📝 Histórico de Tratamento - Olist\n",
    "1. **Pedidos**: \n",
    "   - Nulos em `order_approved_at` → preenchidos com data de compra como aproximação\n",
    "   - Nulos em `order_delivered_carrier_date` → marcados como cancelados pois os pedidos nunca foram despachados\n",
    "   - Nulos em `order_delivered_customer_date` → preenchidos com datas estimadas\n",
    "2. **Produtos**:\n",
    "   - Categorias nulas → marcadas como \"nao_informado\"\n",
    "   - Tratando categorias descritivas nulas → preenchidas com média do grupo ou média global\n",
    "   - Tratando medidas físicas nulas → preenchidas com médias da categoria"
   ]
  },
  {
   "cell_type": "markdown",
   "id": "4ea90079",
   "metadata": {},
   "source": [
    "## 2. Análise Exploratória de Dados"
   ]
  },
  {
   "cell_type": "markdown",
   "id": "69660fd1",
   "metadata": {},
   "source": [
    "### 2.1 Qual o volume de pedidos por mês? Existe sazonalidade nas vendas?"
   ]
  },
  {
   "cell_type": "markdown",
   "id": "f61c5e72",
   "metadata": {},
   "source": [
    "1. Objetivo:\n",
    "\n",
    "- Entender como as vendas se comportam ao longo do tempo e se há padrões repetitivos (sazonalidade), como picos em certos meses.\n",
    "\n",
    "2. Base usada:\n",
    "\n",
    "- Tabela: pedidos\n",
    "- Coluna principal: order_purchase_timestamp\n",
    "- Cada linha representa um pedido."
   ]
  },
  {
   "cell_type": "code",
   "execution_count": 49,
   "id": "1625fdd4",
   "metadata": {},
   "outputs": [],
   "source": [
    "# Criando banco\n",
    "conn = sqlite3.connect('olist.db')"
   ]
  },
  {
   "cell_type": "code",
   "execution_count": 50,
   "id": "0dac0779",
   "metadata": {},
   "outputs": [
    {
     "data": {
      "text/plain": [
       "99441"
      ]
     },
     "execution_count": 50,
     "metadata": {},
     "output_type": "execute_result"
    }
   ],
   "source": [
    "# Carregando os dados do CSV para o banco\n",
    "pedidos.to_sql('pedidos', conn, if_exists='replace', index=False)"
   ]
  },
  {
   "cell_type": "code",
   "execution_count": 51,
   "id": "88cf3ec7",
   "metadata": {},
   "outputs": [
    {
     "name": "stdout",
     "output_type": "stream",
     "text": [
      "   order_month  total_orders\n",
      "0      2016-09             4\n",
      "1      2016-10           324\n",
      "2      2016-12             1\n",
      "3      2017-01           800\n",
      "4      2017-02          1780\n",
      "5      2017-03          2682\n",
      "6      2017-04          2404\n",
      "7      2017-05          3700\n",
      "8      2017-06          3245\n",
      "9      2017-07          4026\n",
      "10     2017-08          4331\n",
      "11     2017-09          4285\n",
      "12     2017-10          4631\n",
      "13     2017-11          7544\n",
      "14     2017-12          5673\n",
      "15     2018-01          7269\n",
      "16     2018-02          6728\n",
      "17     2018-03          7211\n",
      "18     2018-04          6939\n",
      "19     2018-05          6873\n",
      "20     2018-06          6167\n",
      "21     2018-07          6292\n",
      "22     2018-08          6512\n",
      "23     2018-09            16\n",
      "24     2018-10             4\n"
     ]
    }
   ],
   "source": [
    "# Executando query SQL\n",
    "query = \"\"\"\n",
    "SELECT \n",
    "    strftime('%Y-%m', order_purchase_timestamp) as order_month,\n",
    "    COUNT(order_id) as total_orders\n",
    "FROM pedidos\n",
    "GROUP BY order_month\n",
    "ORDER BY order_month;\n",
    "\"\"\"\n",
    "\n",
    "volume_mensal = pd.read_sql_query(query, conn)\n",
    "\n",
    "print(volume_mensal)"
   ]
  },
  {
   "cell_type": "markdown",
   "id": "b5462ac9",
   "metadata": {},
   "source": [
    "- Os meses 2016-09, 2016-12, 2018-09, e 2018-10 têm volumes anormalmente baixos (ex: 1, 4, 16).\n",
    "- Irei removê-los da análise de sazonalidade, para não enviesar os resultados."
   ]
  },
  {
   "cell_type": "code",
   "execution_count": 52,
   "id": "2a013489",
   "metadata": {},
   "outputs": [
    {
     "name": "stdout",
     "output_type": "stream",
     "text": [
      "   order_month  total_orders\n",
      "1      2016-10           324\n",
      "3      2017-01           800\n",
      "4      2017-02          1780\n",
      "5      2017-03          2682\n",
      "6      2017-04          2404\n",
      "7      2017-05          3700\n",
      "8      2017-06          3245\n",
      "9      2017-07          4026\n",
      "10     2017-08          4331\n",
      "11     2017-09          4285\n",
      "12     2017-10          4631\n",
      "13     2017-11          7544\n",
      "14     2017-12          5673\n",
      "15     2018-01          7269\n",
      "16     2018-02          6728\n",
      "17     2018-03          7211\n",
      "18     2018-04          6939\n",
      "19     2018-05          6873\n",
      "20     2018-06          6167\n",
      "21     2018-07          6292\n",
      "22     2018-08          6512\n"
     ]
    }
   ],
   "source": [
    "# Excluindo manualmente os meses incompletos com volume anormalmente baixo\n",
    "meses_incompletos = ['2016-09', '2016-12', '2018-09', '2018-10']\n",
    "\n",
    "# Criando novo DataFrame sem esses meses\n",
    "volume_mensal_filtrado = volume_mensal[~volume_mensal['order_month'].isin(meses_incompletos)]\n",
    "\n",
    "print(volume_mensal_filtrado)"
   ]
  },
  {
   "cell_type": "code",
   "execution_count": 53,
   "id": "4ae74f7e",
   "metadata": {},
   "outputs": [
    {
     "data": {
      "image/png": "[encoded data removed]",
      "text/plain": [
       "<Figure size 1100x500 with 1 Axes>"
      ]
     },
     "metadata": {},
     "output_type": "display_data"
    }
   ],
   "source": [
    "# Plotando o volume mensal\n",
    "plt.figure(figsize=(11, 5))\n",
    "sns.lineplot(data=volume_mensal_filtrado, x='order_month', y='total_orders', marker='o', color = 'purple')\n",
    "plt.title('Volume de Pedidos por Mês')\n",
    "plt.xlabel('Mês do Pedido')\n",
    "plt.ylabel('Total de Pedidos')\n",
    "plt.xticks(rotation=45)\n",
    "plt.grid(True)\n",
    "plt.tight_layout()\n",
    "plt.show()"
   ]
  },
  {
   "cell_type": "markdown",
   "id": "97805ae5",
   "metadata": {},
   "source": [
    "1. Picos de vendas em:\n",
    "\n",
    "- Novembro de 2017: Provável influência da Black Friday\n",
    "\n",
    "- Janeiro de 2018: Alta pós-festas, possível efeito de trocas e promoções\n",
    "\n",
    "2. Queda em:\n",
    "\n",
    "- Fevereiro (mês curto)\n",
    "\n",
    "- Junho e julho têm pequenas quedas, sugerindo sazonalidade moderada\n",
    "\n",
    "Tendência geral de crescimento até metade de 2018."
   ]
  },
  {
   "cell_type": "markdown",
   "id": "c22d3beb",
   "metadata": {},
   "source": [
    "### 2.2 Qual a distribuição do tempo de entrega dos pedidos?"
   ]
  },
  {
   "cell_type": "markdown",
   "id": "1c67b130",
   "metadata": {},
   "source": [
    "1. Objetivo:\n",
    "- Calcular a diferença em dias entre a data de compra (`order_purchase_timestamp`) e a data de entrega ao cliente (`order_delivered_customer_date`)."
   ]
  },
  {
   "cell_type": "code",
   "execution_count": 54,
   "id": "96cc4fda",
   "metadata": {},
   "outputs": [
    {
     "data": {
      "text/plain": [
       "99441"
      ]
     },
     "execution_count": 54,
     "metadata": {},
     "output_type": "execute_result"
    }
   ],
   "source": [
    "# Conectando ao SQLite e salva a tabela\n",
    "pedidos.to_sql(\"pedidos\", conn, if_exists=\"replace\", index=False)"
   ]
  },
  {
   "cell_type": "code",
   "execution_count": 55,
   "id": "fd4011b3",
   "metadata": {},
   "outputs": [],
   "source": [
    "# Query SQL para calcular o tempo de entrega\n",
    "# - Essa query calcula o tempo de entrega em dias com a função julianday() (SQLite), e filtra apenas as entregas que aconteceram (evita nulos e negativas).\n",
    "query = '''SELECT\n",
    "    order_id,\n",
    "    order_purchase_timestamp,\n",
    "    order_delivered_customer_date,\n",
    "    julianday(order_delivered_customer_date) - julianday(order_purchase_timestamp) AS delivery_time_days\n",
    "FROM\n",
    "    pedidos\n",
    "WHERE\n",
    "    order_delivered_customer_date IS NOT NULL\n",
    "    AND order_purchase_timestamp IS NOT NULL\n",
    "    AND julianday(order_delivered_customer_date) - julianday(order_purchase_timestamp) > 0;\n",
    "'''\n",
    "\n",
    "tempo_entrega = pd.read_sql_query(query, conn)\n"
   ]
  },
  {
   "cell_type": "code",
   "execution_count": 56,
   "id": "d3fbc78b",
   "metadata": {},
   "outputs": [
    {
     "name": "stdout",
     "output_type": "stream",
     "text": [
      "   media_dias_entrega  entrega_mais_rapida  entrega_mais_demorada\n",
      "0               12.52                 0.53                 209.63\n"
     ]
    }
   ],
   "source": [
    "query = '''SELECT\n",
    "    ROUND(AVG(julianday(order_delivered_customer_date) - julianday(order_purchase_timestamp)), 2) AS media_dias_entrega,\n",
    "    ROUND(MIN(julianday(order_delivered_customer_date) - julianday(order_purchase_timestamp)), 2) AS entrega_mais_rapida,\n",
    "    ROUND(MAX(julianday(order_delivered_customer_date) - julianday(order_purchase_timestamp)), 2) AS entrega_mais_demorada\n",
    "FROM\n",
    "    pedidos\n",
    "WHERE\n",
    "    order_delivered_customer_date IS NOT NULL\n",
    "    AND order_purchase_timestamp IS NOT NULL\n",
    "    AND julianday(order_delivered_customer_date) - julianday(order_purchase_timestamp) > 0;\n",
    "'''\n",
    "\n",
    "tempo_medio = pd.read_sql_query(query, conn)\n",
    "\n",
    "print(tempo_medio)"
   ]
  },
  {
   "cell_type": "code",
   "execution_count": 57,
   "id": "85a9de98",
   "metadata": {},
   "outputs": [
    {
     "data": {
      "image/png": "[encoded data removed]",
      "text/plain": [
       "<Figure size 1000x500 with 1 Axes>"
      ]
     },
     "metadata": {},
     "output_type": "display_data"
    }
   ],
   "source": [
    "# Visualizando com python\n",
    "plt.figure(figsize=(10, 5))\n",
    "sns.histplot(tempo_entrega['delivery_time_days'], bins=30, kde=True, color='purple')\n",
    "plt.title('Distribuição do Tempo de Entrega (dias)')\n",
    "plt.xlabel('Dias para Entrega')\n",
    "plt.ylabel('Frequência')\n",
    "plt.grid(True)\n",
    "plt.show()"
   ]
  },
  {
   "cell_type": "markdown",
   "id": "6f4e4833",
   "metadata": {},
   "source": [
    "- Pico em torno de 7 a 15 dias: Condiz com a média de ~12,5 dias encontrada.\n",
    "- Entrega mais rápida: 0,53 dias.\n",
    "- Entrega mais demorada: 209,63 dias.\n",
    "- Distribuição assimétrica à direita: Isso é esperado em dados de entrega — a maioria dos pedidos chega em poucos dias, mas há outliers com entregas muito demoradas."
   ]
  },
  {
   "cell_type": "markdown",
   "id": "4e5c99d2",
   "metadata": {},
   "source": [
    "### 2.3 Qual a relação entre o valor do frete e a distância de entrega?"
   ]
  },
  {
   "cell_type": "markdown",
   "id": "a0ca985f",
   "metadata": {},
   "source": [
    "1. Objetivo:\n",
    "- Analisar a relação entre o valor do frete e a distância da entrega.\n",
    "\n",
    "2. Colunas necessárias:\n",
    "- `freight_value` → valor do frete (está no dataset `order_items`)\n",
    "- `distance` → distância entre o vendedor e o cliente (não tem)\n",
    "3. Calculando a distância - requisitos necessários:\n",
    "- Tabela `geolocalizacao` com latitude/longitude por CEP, tabela `pedidos` e tabela `itens_pedidos`\n",
    "- Tabela `clientes` com `customer_zip_code`\n",
    "- Tabela `vendedores` com `seller_zip_code`\n",
    "- Aplicar a fórmula de Haversine para calcular a distância entre cliente e vendedor\n",
    "\n",
    "Passo a passo:\n",
    "\n",
    "I) Criando uma tabela com lat/long de clientes e vendedores"
   ]
  },
  {
   "cell_type": "code",
   "execution_count": 58,
   "id": "9413e29f",
   "metadata": {},
   "outputs": [
    {
     "data": {
      "text/plain": [
       "112650"
      ]
     },
     "execution_count": 58,
     "metadata": {},
     "output_type": "execute_result"
    }
   ],
   "source": [
    "# Conectando ao SQLite e salva a tabela\n",
    "conn = sqlite3.connect(\"olist.db\")\n",
    "geolocalizacao.to_sql(\"geolocalizacao\", conn, if_exists=\"replace\", index=False)\n",
    "clientes.to_sql(\"clientes\", conn, if_exists=\"replace\", index=False)\n",
    "vendedores.to_sql(\"vendedores\", conn, if_exists=\"replace\", index=False)\n",
    "itens_pedidos.to_sql(\"itens_pedidos\", conn, if_exists=\"replace\", index=False)\n"
   ]
  },
  {
   "cell_type": "code",
   "execution_count": 59,
   "id": "e6d2026b",
   "metadata": {},
   "outputs": [
    {
     "data": {
      "text/plain": [
       "<sqlite3.Cursor at 0x1a412cccc40>"
      ]
     },
     "execution_count": 59,
     "metadata": {},
     "output_type": "execute_result"
    }
   ],
   "source": [
    "# Drop se já existir\n",
    "conn.execute(\"DROP VIEW IF EXISTS geolocation_avg\")\n",
    "\n",
    "query = '''CREATE VIEW geolocation_avg AS\n",
    "SELECT\n",
    "    geolocation_zip_code_prefix AS zip_code_prefix,\n",
    "    AVG(geolocation_lat) AS latitude,\n",
    "    AVG(geolocation_lng) AS longitude\n",
    "FROM geolocalizacao\n",
    "GROUP BY zip_code_prefix;\n",
    "'''\n",
    "\n",
    "conn.execute(query)"
   ]
  },
  {
   "cell_type": "markdown",
   "id": "8b8b45a2",
   "metadata": {},
   "source": [
    "II) Criando tabela com coordenadas dos clientes e vendedores por pedido"
   ]
  },
  {
   "cell_type": "code",
   "execution_count": 60,
   "id": "ec650ecd",
   "metadata": {},
   "outputs": [
    {
     "data": {
      "text/plain": [
       "<sqlite3.Cursor at 0x1a414480140>"
      ]
     },
     "execution_count": 60,
     "metadata": {},
     "output_type": "execute_result"
    }
   ],
   "source": [
    "# Drop se já existir\n",
    "conn.execute(\"DROP VIEW IF EXISTS order_coords\")\n",
    "\n",
    "query = '''CREATE VIEW order_coords AS\n",
    "SELECT\n",
    "    o.order_id,\n",
    "    c.customer_id,\n",
    "    s.seller_id,\n",
    "    gc.latitude AS customer_lat,\n",
    "    gc.longitude AS customer_lng,\n",
    "    gs.latitude AS seller_lat,\n",
    "    gs.longitude AS seller_lng\n",
    "FROM pedidos o\n",
    "JOIN clientes c ON o.customer_id = c.customer_id\n",
    "JOIN itens_pedidos oi ON o.order_id = oi.order_id\n",
    "JOIN vendedores s ON oi.seller_id = s.seller_id\n",
    "LEFT JOIN geolocation_avg gc ON c.customer_zip_code_prefix = gc.zip_code_prefix\n",
    "LEFT JOIN geolocation_avg gs ON s.seller_zip_code_prefix = gs.zip_code_prefix;\n",
    "'''\n",
    "\n",
    "conn.execute(query)"
   ]
  },
  {
   "cell_type": "markdown",
   "id": "729af097",
   "metadata": {},
   "source": [
    "III) Criando função Python para calcular distância Haversine"
   ]
  },
  {
   "cell_type": "code",
   "execution_count": 61,
   "id": "66664076",
   "metadata": {},
   "outputs": [],
   "source": [
    "# Função Haversine (retorna distância em km)\n",
    "def haversine_np(lon1, lat1, lon2, lat2):\n",
    "    \"\"\"\n",
    "    Calcula a distância haversine entre dois pares de coordenadas (vetorizado)\n",
    "    \"\"\"\n",
    "    lon1, lat1, lon2, lat2 = map(np.radians, [lon1, lat1, lon2, lat2])\n",
    "    dlon = lon2 - lon1 \n",
    "    dlat = lat2 - lat1 \n",
    "\n",
    "    a = np.sin(dlat / 2.0)**2 + np.cos(lat1) * np.cos(lat2) * np.sin(dlon / 2.0)**2\n",
    "    c = 2 * np.arcsin(np.sqrt(a))\n",
    "    km = 6371 * c\n",
    "    return km"
   ]
  },
  {
   "cell_type": "markdown",
   "id": "6ec067fb",
   "metadata": {},
   "source": [
    "IV) Puxando os dados com pandas + SQL e calculando a distância com a função Haversine"
   ]
  },
  {
   "cell_type": "code",
   "execution_count": 62,
   "id": "0614f93e",
   "metadata": {},
   "outputs": [],
   "source": [
    "query = \"\"\"\n",
    "SELECT\n",
    "    order_id,\n",
    "    customer_lat,\n",
    "    customer_lng,\n",
    "    seller_lat,\n",
    "    seller_lng,\n",
    "    freight_value\n",
    "FROM order_coords\n",
    "JOIN itens_pedidos USING(order_id)\n",
    "\"\"\"\n",
    "dist = pd.read_sql_query(query, conn)\n",
    "\n",
    "dist['distance_km'] = haversine_np(\n",
    "    dist['customer_lng'], dist['customer_lat'],\n",
    "    dist['seller_lng'], dist['seller_lat']\n",
    ")"
   ]
  },
  {
   "cell_type": "markdown",
   "id": "92f9593f",
   "metadata": {},
   "source": [
    "V) Analisando a relação entre frete e distância"
   ]
  },
  {
   "cell_type": "code",
   "execution_count": 63,
   "id": "f3d373c8",
   "metadata": {},
   "outputs": [
    {
     "data": {
      "text/html": [
       "<div>\n",
       "<style scoped>\n",
       "    .dataframe tbody tr th:only-of-type {\n",
       "        vertical-align: middle;\n",
       "    }\n",
       "\n",
       "    .dataframe tbody tr th {\n",
       "        vertical-align: top;\n",
       "    }\n",
       "\n",
       "    .dataframe thead th {\n",
       "        text-align: right;\n",
       "    }\n",
       "</style>\n",
       "<table border=\"1\" class=\"dataframe\">\n",
       "  <thead>\n",
       "    <tr style=\"text-align: right;\">\n",
       "      <th></th>\n",
       "      <th>freight_value</th>\n",
       "      <th>distance_km</th>\n",
       "    </tr>\n",
       "  </thead>\n",
       "  <tbody>\n",
       "    <tr>\n",
       "      <th>freight_value</th>\n",
       "      <td>1.000000</td>\n",
       "      <td>0.376559</td>\n",
       "    </tr>\n",
       "    <tr>\n",
       "      <th>distance_km</th>\n",
       "      <td>0.376559</td>\n",
       "      <td>1.000000</td>\n",
       "    </tr>\n",
       "  </tbody>\n",
       "</table>\n",
       "</div>"
      ],
      "text/plain": [
       "               freight_value  distance_km\n",
       "freight_value       1.000000     0.376559\n",
       "distance_km         0.376559     1.000000"
      ]
     },
     "execution_count": 63,
     "metadata": {},
     "output_type": "execute_result"
    }
   ],
   "source": [
    "dist[['freight_value', 'distance_km']].corr()"
   ]
  },
  {
   "cell_type": "markdown",
   "id": "22b8411a",
   "metadata": {},
   "source": [
    "- O valor 0.3766 indica uma correlação positiva moderada entre a distância e o frete.\n",
    "- Isso significa que, em média, quanto maior a distância entre o cliente e o vendedor, maior tende a ser o valor do frete.\n",
    "- Mas como a correlação não é forte, há outros fatores influenciando o valor do frete (peso, transportadora, tipo de entrega, etc.)."
   ]
  },
  {
   "cell_type": "code",
   "execution_count": 64,
   "id": "568dca65",
   "metadata": {},
   "outputs": [
    {
     "data": {
      "image/png": "[encoded data removed]",
      "text/plain": [
       "<Figure size 1000x600 with 1 Axes>"
      ]
     },
     "metadata": {},
     "output_type": "display_data"
    }
   ],
   "source": [
    "plt.figure(figsize=(10, 6))\n",
    "sns.scatterplot(x='distance_km', y='freight_value', data=dist, alpha=0.5, color = 'purple')\n",
    "plt.title('Relação entre Frete e Distância de Entrega')\n",
    "plt.xlabel('Distância (km)')\n",
    "plt.ylabel('Valor do Frete (R$)')\n",
    "plt.grid(True)\n",
    "plt.show()"
   ]
  },
  {
   "cell_type": "markdown",
   "id": "dbcab6f2",
   "metadata": {},
   "source": [
    "### 2.4 Quais são as categorias de produtos mais vendidos em termos de faturamento?"
   ]
  },
  {
   "cell_type": "markdown",
   "id": "fb5e25b4",
   "metadata": {},
   "source": [
    "Passo a passo:\n",
    "- Juntar as tabelas `itens_pedidos` e `produtos`, usando `product_id`.\n",
    "\n",
    "- Calcular o faturamento total por categoria (`product_category_name`) usando a coluna `price` da `itens_pedidos`.\n",
    "\n",
    "- Ordenar os resultados do maior para o menor"
   ]
  },
  {
   "cell_type": "code",
   "execution_count": 65,
   "id": "59971953",
   "metadata": {},
   "outputs": [
    {
     "name": "stdout",
     "output_type": "stream",
     "text": [
      "    product_category_name  total_faturamento\n",
      "0            beleza_saude         1258681.34\n",
      "1      relogios_presentes         1205005.68\n",
      "2         cama_mesa_banho         1036988.68\n",
      "3           esporte_lazer          988048.97\n",
      "4  informatica_acessorios          911954.32\n",
      "5        moveis_decoracao          729762.49\n",
      "6              cool_stuff          635290.85\n",
      "7   utilidades_domesticas          632248.66\n",
      "8              automotivo          592720.11\n",
      "9      ferramentas_jardim          485256.46\n"
     ]
    }
   ],
   "source": [
    "produtos.to_sql(\"produtos\", conn, if_exists=\"replace\", index=False)\n",
    "\n",
    "query = '''SELECT \n",
    "    p.product_category_name,\n",
    "    ROUND(SUM(oi.price), 2) AS total_faturamento\n",
    "FROM itens_pedidos oi\n",
    "JOIN produtos p ON oi.product_id = p.product_id\n",
    "GROUP BY p.product_category_name\n",
    "ORDER BY total_faturamento DESC\n",
    "LIMIT 10;\n",
    "'''\n",
    "top_categorias_query = pd.read_sql_query(query, conn)\n",
    "\n",
    "print(top_categorias_query)"
   ]
  },
  {
   "cell_type": "code",
   "execution_count": 66,
   "id": "29b44663",
   "metadata": {},
   "outputs": [
    {
     "data": {
      "image/png": "[encoded data removed]",
      "text/plain": [
       "<Figure size 900x500 with 1 Axes>"
      ]
     },
     "metadata": {},
     "output_type": "display_data"
    }
   ],
   "source": [
    "# Organizando os dados\n",
    "top_categorias_query.sort_values(\"total_faturamento\", ascending=True, inplace=True)\n",
    "\n",
    "# Criando o gráfico\n",
    "plt.figure(figsize=(9, 5))\n",
    "plt.barh(top_categorias_query['product_category_name'], top_categorias_query['total_faturamento'], color='purple')\n",
    "plt.xlabel('Faturamento Total (R$)')\n",
    "plt.title('Top 10 Categorias de Produtos por Faturamento')\n",
    "plt.grid(axis='x', linestyle='--', alpha=0.5)\n",
    "plt.tight_layout()\n",
    "plt.show()"
   ]
  },
  {
   "cell_type": "markdown",
   "id": "5b3bc639",
   "metadata": {},
   "source": [
    "- Categorias com maior faturamento: `beleza_saude`, `relogios_presentes` e `cama_mesa_banho`."
   ]
  },
  {
   "cell_type": "markdown",
   "id": "358cfe62",
   "metadata": {},
   "source": [
    "### 2.5 Quais estados brasileiros possuem o maior valor médio de pedido?"
   ]
  },
  {
   "cell_type": "markdown",
   "id": "8ec38a1a",
   "metadata": {},
   "source": [
    "1. Objetivo:\n",
    "- Calcular o valor médio dos pedidos (`freight_value` + `price`) por estado do cliente"
   ]
  },
  {
   "cell_type": "code",
   "execution_count": 67,
   "id": "ba50db92",
   "metadata": {},
   "outputs": [
    {
     "name": "stdout",
     "output_type": "stream",
     "text": [
      "   customer_state  valor_medio_pedido\n",
      "0              PB              234.20\n",
      "1              AL              216.73\n",
      "2              AC              213.80\n",
      "3              RO              207.04\n",
      "4              PA              201.53\n",
      "5              PI              199.51\n",
      "6              AP              198.33\n",
      "7              TO              194.78\n",
      "8              RR              193.55\n",
      "9              RN              192.62\n",
      "10             SE              189.69\n",
      "11             CE              186.47\n",
      "12             MA              183.46\n",
      "13             PE              178.43\n",
      "14             MT              176.46\n",
      "15             AM              168.70\n",
      "16             MS              166.00\n",
      "17             BA              160.97\n",
      "18             GO              149.04\n",
      "19             DF              146.81\n",
      "20             SC              146.12\n",
      "21             RJ              146.08\n",
      "22             ES              143.97\n",
      "23             RS              142.07\n",
      "24             MG              141.38\n",
      "25             PR              139.54\n",
      "26             SP              124.80\n"
     ]
    }
   ],
   "source": [
    "query = '''SELECT \n",
    "    c.customer_state,\n",
    "    ROUND(AVG(oi.price + oi.freight_value), 2) AS valor_medio_pedido\n",
    "FROM pedidos p\n",
    "JOIN clientes c ON p.customer_id = c.customer_id\n",
    "JOIN itens_pedidos oi ON p.order_id = oi.order_id\n",
    "GROUP BY c.customer_state\n",
    "ORDER BY valor_medio_pedido DESC;\n",
    "'''\n",
    "maior_valor_medio = pd.read_sql_query(query, conn)\n",
    "\n",
    "print(maior_valor_medio)"
   ]
  },
  {
   "cell_type": "markdown",
   "id": "5176cd79",
   "metadata": {},
   "source": [
    "- Estados com maior valor médio:\n",
    "1. PB - R$ 234,20\n",
    "2. AL - R$ 216,73\n",
    "3. AC - R$ 213,80\n",
    "4. RO - R$ 207,04\n",
    "5. PA - R$ 201,53\n",
    "\n",
    "- Enquanto SP (São Paulo), apesar de ser um dos maiores mercados, tem o menor valor médio: R$ 124,80."
   ]
  },
  {
   "cell_type": "code",
   "execution_count": 68,
   "id": "442ec820",
   "metadata": {},
   "outputs": [
    {
     "name": "stderr",
     "output_type": "stream",
     "text": [
      "C:\\Users\\bianc\\AppData\\Local\\Temp\\ipykernel_11760\\1391073127.py:6: FutureWarning: \n",
      "\n",
      "Passing `palette` without assigning `hue` is deprecated and will be removed in v0.14.0. Assign the `y` variable to `hue` and set `legend=False` for the same effect.\n",
      "\n",
      "  sns.barplot(x='valor_medio_pedido', y='customer_state', data=maior_valor_medio, palette='viridis')\n"
     ]
    },
    {
     "data": {
      "image/png": "[encoded data removed]",
      "text/plain": [
       "<Figure size 800x800 with 1 Axes>"
      ]
     },
     "metadata": {},
     "output_type": "display_data"
    }
   ],
   "source": [
    "# Ordenando os dados do maior para o menor valor médio de pedido\n",
    "maior_valor_medio = maior_valor_medio.sort_values(by='valor_medio_pedido', ascending=True)\n",
    "\n",
    "# Criando o gráfico\n",
    "plt.figure(figsize=(8, 8))\n",
    "sns.barplot(x='valor_medio_pedido', y='customer_state', data=maior_valor_medio, palette='viridis')\n",
    "plt.title('Valor Médio de Pedido por Estado', fontsize=16)\n",
    "plt.xlabel('Valor Médio do Pedido (R$)')\n",
    "plt.ylabel('Estado')\n",
    "plt.tight_layout()\n",
    "plt.show()"
   ]
  },
  {
   "cell_type": "markdown",
   "id": "2e69030f",
   "metadata": {},
   "source": [
    "## 3. Solução de Problemas de Negócio"
   ]
  },
  {
   "cell_type": "markdown",
   "id": "fbc6c43e",
   "metadata": {},
   "source": [
    "### 3.1 Análise de Retenção (clientes recorrentes)\n",
    "\n",
    "1. Objetivo\n",
    "\n",
    "- Identificar clientes recorrentes, ou seja, aqueles que compraram mais de uma vez no período. Isso ajuda a entender o comportamento dos consumidores mais fiéis e pode servir como base para estratégias de marketing e fidelização.\n",
    "- Um cliente recorrente é aquele com mais de um pedido (`order_id`) ao longo do tempo, identificado por seu `customer_unique_id`."
   ]
  },
  {
   "cell_type": "code",
   "execution_count": 69,
   "id": "3595bf17",
   "metadata": {},
   "outputs": [],
   "source": [
    "# Fazendo o join entre pedidos e clientes para usar o customer_unique_id\n",
    "pedidos_clientes = pedidos.merge(clientes, on='customer_id', how='left')"
   ]
  },
  {
   "cell_type": "code",
   "execution_count": 70,
   "id": "7cfb7a40",
   "metadata": {},
   "outputs": [],
   "source": [
    "# Contando quantos pedidos cada cliente fez\n",
    "pedidos_por_cliente = pedidos_clientes.groupby('customer_unique_id')['order_id'].nunique().reset_index()\n",
    "pedidos_por_cliente.columns = ['customer_unique_id', 'qtd_pedidos']"
   ]
  },
  {
   "cell_type": "code",
   "execution_count": 71,
   "id": "5da774da",
   "metadata": {},
   "outputs": [],
   "source": [
    "# Classificando clientes como recorrentes (mais de 1 pedido)\n",
    "clientes_recorrentes = pedidos_por_cliente[pedidos_por_cliente['qtd_pedidos'] > 1]"
   ]
  },
  {
   "cell_type": "code",
   "execution_count": 72,
   "id": "4b2d998c",
   "metadata": {},
   "outputs": [
    {
     "name": "stdout",
     "output_type": "stream",
     "text": [
      "Taxa de clientes recorrentes: 3.12%\n"
     ]
    }
   ],
   "source": [
    "# Calculando a taxa de clientes recorrentes\n",
    "taxa_recorrencia = len(clientes_recorrentes) / len(pedidos_por_cliente)\n",
    "\n",
    "print(f'Taxa de clientes recorrentes: {taxa_recorrencia:.2%}')"
   ]
  },
  {
   "cell_type": "markdown",
   "id": "f81eb6cd",
   "metadata": {},
   "source": [
    "- Conclusões\n",
    "\n",
    "A taxa de clientes recorrentes foi de 3.12%. Isso indica que apenas 3 em cada 100 clientes fizeram mais de um pedido no período analisado.\n",
    "\n",
    "**Insight 1: Baixa retenção de clientes**\n",
    "- A taxa de clientes recorrentes é relativamente baixa (3,12%).\n",
    "- Isso indica que a maioria dos clientes compra apenas uma vez.\n",
    "\n",
    "**Insight 2: Oportunidade para fidelização**\n",
    "- A empresa pode estar investindo mais em aquisição do que em retenção.\n",
    "- Há uma grande oportunidade de aumentar o LTV (Lifetime Value) ao focar em estratégias de fidelização.\n",
    "\n",
    "**Recomendações de negócio**\n",
    "- Criar programas de fidelidade para incentivar compras recorrentes.\n",
    "- Investir em comunicação pós-venda (ex: e-mails com sugestões de produtos, descontos para segunda compra)."
   ]
  },
  {
   "cell_type": "markdown",
   "id": "b6552ead",
   "metadata": {},
   "source": [
    "### 3.2 Predição de Atraso\n",
    "\n",
    "1. Objetivo\n",
    "\n",
    "- Prever se um pedido será entregue com atraso com base em algumas variáveis disponíveis.\n",
    "\n",
    "- Um pedido é considerado atrasado quando a data real de entrega (`order_delivered_customer_date`) é maior que a data estimada (`order_estimated_delivery_date`)."
   ]
  },
  {
   "cell_type": "code",
   "execution_count": 73,
   "id": "e2fa54b9",
   "metadata": {},
   "outputs": [
    {
     "data": {
      "text/plain": [
       "atrasado\n",
       "0    0.919521\n",
       "1    0.080479\n",
       "Name: proportion, dtype: float64"
      ]
     },
     "execution_count": 73,
     "metadata": {},
     "output_type": "execute_result"
    }
   ],
   "source": [
    "## Criando variável alvo: atrasado\n",
    "# Criando uma nova coluna: 1 = atrasado, 0 = entregue no prazo\n",
    "pedidos['atrasado'] = (pedidos['order_delivered_customer_date'] > pedidos['order_estimated_delivery_date']).astype(int)\n",
    "\n",
    "# Removendo pedidos com datas faltantes (NaN)\n",
    "pedidos_limpos = pedidos.dropna(subset=['order_delivered_customer_date', 'order_estimated_delivery_date', 'order_purchase_timestamp'])\n",
    "\n",
    "# Verificando proporção de atrasos\n",
    "pedidos_limpos['atrasado'].value_counts(normalize=True)"
   ]
  },
  {
   "cell_type": "markdown",
   "id": "1ce153c6",
   "metadata": {},
   "source": [
    "- Isso mostra que apenas cerca de 8% dos pedidos foram entregues com atraso, enquanto 92% chegaram no prazo. Esse desequilíbrio é normal em problemas reais, mas é bom ficar atenta, porque pode impactar o desempenho do modelo."
   ]
  },
  {
   "cell_type": "code",
   "execution_count": 111,
   "id": "443e5642",
   "metadata": {},
   "outputs": [],
   "source": [
    "## Selecionando variáveis para o modelo\n",
    "# usando variáveis temporais e relacionais simples, como:\n",
    "# tempo_entrega_estimada: dias entre a compra e a previsão de entrega\n",
    "# tempo_aprovacao: tempo entre a compra e aprovação\n",
    "\n",
    "# Convertendo colunas para datetime\n",
    "pedidos_limpos.loc[:, 'order_purchase_timestamp'] = pd.to_datetime(pedidos_limpos['order_purchase_timestamp'])\n",
    "pedidos_limpos.loc[:, 'order_estimated_delivery_date'] = pd.to_datetime(pedidos_limpos['order_estimated_delivery_date'])\n",
    "pedidos_limpos.loc[:, 'order_delivered_customer_date'] = pd.to_datetime(pedidos_limpos['order_delivered_customer_date'])\n",
    "pedidos_limpos.loc[:, 'order_approved_at'] = pd.to_datetime(pedidos_limpos['order_approved_at'])\n",
    "\n",
    "# Criando novas colunas\n",
    "pedidos_limpos.loc[:, 'dias_entrega_real'] = (pedidos_limpos['order_delivered_customer_date'] - pedidos_limpos['order_purchase_timestamp']).dt.days\n",
    "pedidos_limpos.loc[:, 'dias_entrega_estimado'] = (pedidos_limpos['order_estimated_delivery_date'] - pedidos_limpos['order_purchase_timestamp']).dt.days\n",
    "pedidos_limpos.loc[:, 'dias_para_aprovar'] = (pedidos_limpos['order_approved_at'] - pedidos_limpos['order_purchase_timestamp']).dt.total_seconds() / 3600\n",
    "\n",
    "# Selecionando features e target\n",
    "X = pedidos_limpos[['dias_entrega_estimado', 'dias_para_aprovar']]\n",
    "y = pedidos_limpos['atrasado']"
   ]
  },
  {
   "cell_type": "code",
   "execution_count": 112,
   "id": "0605d546",
   "metadata": {},
   "outputs": [
    {
     "name": "stdout",
     "output_type": "stream",
     "text": [
      "[[16917  1023]\n",
      " [ 1445   134]]\n",
      "              precision    recall  f1-score   support\n",
      "\n",
      "           0       0.92      0.94      0.93     17940\n",
      "           1       0.12      0.08      0.10      1579\n",
      "\n",
      "    accuracy                           0.87     19519\n",
      "   macro avg       0.52      0.51      0.51     19519\n",
      "weighted avg       0.86      0.87      0.86     19519\n",
      "\n"
     ]
    }
   ],
   "source": [
    "# Treinando modelo de classificação simples\n",
    "# Usando Random Forest por ser eficaz para dados com poucos ajustes\n",
    "\n",
    "# Dividindo em treino e teste\n",
    "X_train, X_test, y_train, y_test = train_test_split(X, y, test_size=0.2, random_state=42)\n",
    "\n",
    "# Criando e treinando o modelo\n",
    "modelo = RandomForestClassifier(random_state=42)\n",
    "modelo.fit(X_train, y_train)\n",
    "\n",
    "# Previsões e avaliação\n",
    "y_pred = modelo.predict(X_test)\n",
    "print(confusion_matrix(y_test, y_pred))\n",
    "print(classification_report(y_test, y_pred))"
   ]
  },
  {
   "cell_type": "markdown",
   "id": "76d31e2e",
   "metadata": {},
   "source": [
    "I) Análise da Matriz de Confusão\n",
    "\n",
    "- O modelo está muito bom para prever entregas no prazo (classe 0), mas muito ruim para prever atrasos (classe 1).\n",
    "\n",
    "[[16917  1023]   --> Classe 0 (não atrasado)  \n",
    " [ 1445   134]]   --> Classe 1 (atrasado)\n",
    "\n",
    "- **16917** = verdadeiros negativos (previu 0, era 0)\n",
    "- **1023** = falsos positivos (previu 1, era 0)\n",
    "- **1445** = falsos negativos (previu 0, era 1)\n",
    "- **134** = verdadeiros positivos (previu 1, era 1)\n",
    "\n",
    "II) Métricas\n",
    "\n",
    "- **Accuracy geral**: 0.87 (inflado pelo desbalanceamento)\n",
    "\n",
    "- **Precision classe 1**: 0.12 → De todas as vezes que o modelo previu atraso, só 12% estavam certos\n",
    "\n",
    "- **Recall classe 1**: 0.08 → Ele detecta só 8% dos casos reais de atraso\n",
    "\n",
    "- **F1-score classe 1**: 0.10 → Ruim para atraso\n",
    "\n",
    "O modelo está viciado em prever que os pedidos NÃO estão atrasados, pois essa é a classe majoritária. Isso acontece porque a variável atrasado é desbalanceada: provavelmente 90% dos pedidos são entregues no prazo."
   ]
  },
  {
   "cell_type": "markdown",
   "id": "f8251575",
   "metadata": {},
   "source": [
    "### 3.3 Segmentação de Clientes com Clustering\n",
    "\n",
    "1. Objetivo\n",
    "\n",
    "- Identificar grupos de clientes com comportamentos de compra semelhantes, para que o time de negócio possa criar ações direcionadas (como ofertas personalizadas, retenção de clientes valiosos etc.).\n",
    "\n",
    "I) Construindo Base de Clientes  \n",
    "Unindo as tabelas para criar uma base por cliente, contendo:\n",
    "\n",
    "- `customer_id` ou `customer_unique_id` - usado para identificar clientes únicos;\n",
    "\n",
    "- Quantidade de pedidos realizados;\n",
    "\n",
    "- Valor total gasto (`payment_value`);\n",
    "\n",
    "- Frete médio por pedido;\n",
    "\n",
    "- Score médio das avaliações;\n",
    "\n",
    "- Localização (estado ou latitude/longitude).\n",
    "\n",
    "II) Normalizando Dados  \n",
    "Como o clustering é sensível a escala, é preciso normalizar os dados.\n",
    "\n",
    "II) Aplicando K-Means  \n",
    "Testando diferentes valores de K (número de clusters).\n",
    "\n",
    "IV) Análise dos Clusters  \n",
    "Analisando as características médias de cada grupo formado."
   ]
  },
  {
   "cell_type": "code",
   "execution_count": 76,
   "id": "de39a0ca",
   "metadata": {},
   "outputs": [],
   "source": [
    "## Juntando pedidos com pagamentos, itens, reviews e localização\n",
    "# Juntando pedidos com clientes (para ter customer_id e estado)\n",
    "df = pedidos.merge(clientes[['customer_id', 'customer_unique_id', 'customer_state']], on='customer_id', how='left')\n",
    "\n",
    "# Juntando com payments\n",
    "df = df.merge(pedidos_pagamentos.groupby('order_id')['payment_value'].sum().reset_index(),\n",
    "              on='order_id', how='left')\n",
    "\n",
    "# Juntando com order_items para pegar frete\n",
    "df = df.merge(itens_pedidos.groupby('order_id')['freight_value'].mean().reset_index(),\n",
    "              on='order_id', how='left')\n",
    "\n",
    "# Juntando com reviews (média das notas por pedido)\n",
    "df = df.merge(comentarios_pedidos.groupby('order_id')['review_score'].mean().reset_index(),\n",
    "              on='order_id', how='left')"
   ]
  },
  {
   "cell_type": "code",
   "execution_count": 77,
   "id": "3af04bbe",
   "metadata": {},
   "outputs": [],
   "source": [
    "## Agrupando por cliente\n",
    "df_clientes = df.groupby('customer_unique_id').agg({\n",
    "    'order_id': 'count',                      # número de pedidos\n",
    "    'freight_value': 'mean',                  # frete médio\n",
    "    'payment_value': 'sum',                   # valor total gasto\n",
    "    'review_score': 'mean',                   # média das avaliações\n",
    "    'customer_state': 'first'                 # estado do cliente\n",
    "}).rename(columns={\n",
    "    'order_id': 'qtde_pedidos',\n",
    "    'freight_value': 'frete_medio',\n",
    "    'payment_value': 'valor_total',\n",
    "    'review_score': 'avaliacao_media'\n",
    "}).reset_index()"
   ]
  },
  {
   "cell_type": "code",
   "execution_count": 78,
   "id": "1a510f20",
   "metadata": {},
   "outputs": [],
   "source": [
    "# Selecionando variáveis para clustering diretamente de df_clientes\n",
    "X = df_clientes[['qtde_pedidos', 'frete_medio', 'valor_total', 'avaliacao_media']]\n",
    "\n",
    "# Removendo clientes com dados faltantes - perdendo só cerca de 1.4% dos clientes\n",
    "X = X.dropna()\n",
    "\n",
    "# Mantendo apenas os clientes com dados completos em df_clientes\n",
    "df_clientes = df_clientes.loc[X.index]\n",
    "\n",
    "# Normalizando os dados\n",
    "scaler = StandardScaler()\n",
    "X_scaled = scaler.fit_transform(X)\n",
    "\n",
    "# Aplicando KMeans\n",
    "kmeans = KMeans(n_clusters=3, random_state=42)\n",
    "df_clientes['cluster'] = kmeans.fit_predict(X_scaled)"
   ]
  },
  {
   "cell_type": "code",
   "execution_count": 79,
   "id": "4235ad44",
   "metadata": {},
   "outputs": [
    {
     "data": {
      "image/png": "[encoded data removed]",
      "text/plain": [
       "<Figure size 800x600 with 1 Axes>"
      ]
     },
     "metadata": {},
     "output_type": "display_data"
    }
   ],
   "source": [
    "pca = PCA(n_components=2)\n",
    "X_pca = pca.fit_transform(X_scaled)\n",
    "\n",
    "df_pca = pd.DataFrame(X_pca, columns=['PCA1', 'PCA2'])\n",
    "df_pca['cluster'] = df_clientes['cluster'].values\n",
    "\n",
    "cores = ['#7B1FA2', '#EC407A', '#64B5F6']\n",
    "\n",
    "plt.figure(figsize=(8,6))\n",
    "sns.scatterplot(data=df_pca, x='PCA1', y='PCA2', hue='cluster', palette=cores, alpha=0.6)\n",
    "plt.title('Clusters de Clientes (PCA)')\n",
    "plt.show()"
   ]
  },
  {
   "cell_type": "code",
   "execution_count": 80,
   "id": "928cc3c9",
   "metadata": {},
   "outputs": [
    {
     "data": {
      "text/plain": [
       "cluster\n",
       "0    69183\n",
       "1    20086\n",
       "2     5452\n",
       "Name: count, dtype: int64"
      ]
     },
     "execution_count": 80,
     "metadata": {},
     "output_type": "execute_result"
    }
   ],
   "source": [
    "df_clientes['cluster'].value_counts()"
   ]
  },
  {
   "cell_type": "code",
   "execution_count": 81,
   "id": "0ea00381",
   "metadata": {},
   "outputs": [
    {
     "data": {
      "text/html": [
       "<div>\n",
       "<style scoped>\n",
       "    .dataframe tbody tr th:only-of-type {\n",
       "        vertical-align: middle;\n",
       "    }\n",
       "\n",
       "    .dataframe tbody tr th {\n",
       "        vertical-align: top;\n",
       "    }\n",
       "\n",
       "    .dataframe thead th {\n",
       "        text-align: right;\n",
       "    }\n",
       "</style>\n",
       "<table border=\"1\" class=\"dataframe\">\n",
       "  <thead>\n",
       "    <tr style=\"text-align: right;\">\n",
       "      <th></th>\n",
       "      <th>qtde_pedidos</th>\n",
       "      <th>frete_medio</th>\n",
       "      <th>valor_total</th>\n",
       "      <th>avaliacao_media</th>\n",
       "      <th>qtde_clientes</th>\n",
       "    </tr>\n",
       "    <tr>\n",
       "      <th>cluster</th>\n",
       "      <th></th>\n",
       "      <th></th>\n",
       "      <th></th>\n",
       "      <th></th>\n",
       "      <th></th>\n",
       "    </tr>\n",
       "  </thead>\n",
       "  <tbody>\n",
       "    <tr>\n",
       "      <th>0</th>\n",
       "      <td>1.00</td>\n",
       "      <td>18.43</td>\n",
       "      <td>133.89</td>\n",
       "      <td>4.75</td>\n",
       "      <td>69183</td>\n",
       "    </tr>\n",
       "    <tr>\n",
       "      <th>1</th>\n",
       "      <td>1.00</td>\n",
       "      <td>19.53</td>\n",
       "      <td>149.85</td>\n",
       "      <td>1.88</td>\n",
       "      <td>20086</td>\n",
       "    </tr>\n",
       "    <tr>\n",
       "      <th>2</th>\n",
       "      <td>1.61</td>\n",
       "      <td>45.54</td>\n",
       "      <td>634.13</td>\n",
       "      <td>4.11</td>\n",
       "      <td>5452</td>\n",
       "    </tr>\n",
       "  </tbody>\n",
       "</table>\n",
       "</div>"
      ],
      "text/plain": [
       "         qtde_pedidos  frete_medio  valor_total  avaliacao_media  \\\n",
       "cluster                                                            \n",
       "0                1.00        18.43       133.89             4.75   \n",
       "1                1.00        19.53       149.85             1.88   \n",
       "2                1.61        45.54       634.13             4.11   \n",
       "\n",
       "         qtde_clientes  \n",
       "cluster                 \n",
       "0                69183  \n",
       "1                20086  \n",
       "2                 5452  "
      ]
     },
     "execution_count": 81,
     "metadata": {},
     "output_type": "execute_result"
    }
   ],
   "source": [
    "# Analisando as médias de cada cluster\n",
    "cluster_summary = df_clientes.groupby('cluster')[['qtde_pedidos', 'frete_medio', 'valor_total', 'avaliacao_media']].mean().round(2)\n",
    "cluster_sizes = df_clientes['cluster'].value_counts().sort_index()\n",
    "cluster_summary['qtde_clientes'] = cluster_sizes.values\n",
    "cluster_summary"
   ]
  },
  {
   "cell_type": "markdown",
   "id": "993923be",
   "metadata": {},
   "source": [
    "#### Análises:\n",
    "\n",
    "**Cluster 0 (Maioria dos clientes)**\n",
    "- Clientes com baixa frequência (1 pedido em média), frete médio razoável, valor total baixo, e avaliação muito alta (4.75). São clientes que compram pouco, mas estão satisfeitos.\n",
    "\n",
    "**Cluster 1**\n",
    "- Também com baixa frequência e valor total próximo ao Cluster 0, mas com avaliação muito baixa (1.88). Esses clientes estão insatisfeitos, o que pode indicar problemas com o serviço ou produto.\n",
    "\n",
    "**Cluster 2 (Menor grupo, clientes mais valiosos)**\n",
    "- Clientes que compram um pouco mais (1,61 pedidos em média), pagam fretes mais altos (45.54), e têm valor total muito maior (634,13). Avaliação média boa (4.11). São clientes importantes para a empresa, que gastam mais apesar do frete mais caro.\n",
    "\n",
    "#### Estratégias de Marketing sugeridas\n",
    "**Cluster 0**\n",
    "\n",
    "- Incentivar maior frequência de compras com promoções de frete grátis ou descontos para compras frequentes.\n",
    "\n",
    "- Enviar conteúdos e ofertas para aumentar o ticket médio.\n",
    "\n",
    "**Cluster 1**\n",
    "\n",
    "- Priorizar entender a causa da baixa avaliação (pesquisas de satisfação, atendimento).\n",
    "\n",
    "- Oferecer compensações, como descontos ou benefícios, para recuperar a confiança desses clientes.\n",
    "\n",
    "**Cluster 2**\n",
    "\n",
    "- Fidelizar esses clientes oferecendo programas exclusivos, descontos progressivos ou benefícios VIP.\n",
    "\n",
    "- Considerar melhorias no custo de frete para aumentar ainda mais o engajamento."
   ]
  },
  {
   "cell_type": "markdown",
   "id": "f4b413bb",
   "metadata": {},
   "source": [
    "### 3.4 Análise de Satisfação"
   ]
  },
  {
   "cell_type": "code",
   "execution_count": 106,
   "id": "86b38629",
   "metadata": {},
   "outputs": [
    {
     "data": {
      "image/png": "[encoded data removed]",
      "text/plain": [
       "<Figure size 1000x500 with 1 Axes>"
      ]
     },
     "metadata": {},
     "output_type": "display_data"
    }
   ],
   "source": [
    "# Distribuição da média das avaliações por cliente\n",
    "plt.figure(figsize=(10, 5))\n",
    "sns.histplot(df_clientes['avaliacao_media'], bins=20, kde=True, color='purple')\n",
    "plt.title('Distribuição da média das avaliações por cliente')\n",
    "plt.xlabel('Avaliação Média')\n",
    "plt.ylabel('Número de Clientes')\n",
    "plt.show()\n"
   ]
  },
  {
   "cell_type": "markdown",
   "id": "c5af4aef",
   "metadata": {},
   "source": [
    "#### Conclusões:\n",
    "\n",
    "- A maioria das avaliações é nota 5, seguida por nota 4 — o que indica um alto nível de satisfação geral.\n",
    "\n",
    "- Há também uma quantidade relevante de avaliações nota 1, o que pode representar uma insatisfação pontual forte (mesmo que minoria).\n",
    "\n",
    "- Notas 2, 3 e 4.5 são bem menos comuns — geralmente clientes mais neutros ou levemente insatisfeitos."
   ]
  },
  {
   "cell_type": "code",
   "execution_count": null,
   "id": "03caf24b",
   "metadata": {},
   "outputs": [
    {
     "data": {
      "image/png": "[encoded data removed]",
      "text/plain": [
       "<Figure size 640x480 with 1 Axes>"
      ]
     },
     "metadata": {},
     "output_type": "display_data"
    }
   ],
   "source": [
    "# Avaliação média por cluster (supondo que você já tenha df_clientes com clusters)\n",
    "sns.boxplot(x='cluster', y='avaliacao_media', data=df_clientes, color = 'magenta')\n",
    "plt.title('Avaliação média por cluster')\n",
    "plt.show()"
   ]
  },
  {
   "cell_type": "markdown",
   "id": "c30b56a1",
   "metadata": {},
   "source": [
    "#### Conclusões:\n",
    "\n",
    "**Cluster 0:**\n",
    "\n",
    "- Avaliações altas e consistentes (a maioria entre 4.0 e 5.0).\n",
    "\n",
    "- Isso indica um grupo de clientes muito satisfeitos.\n",
    "\n",
    "**Cluster 1:**\n",
    "\n",
    "- Média baixa de avaliação (em torno de 2).\n",
    "\n",
    "- Claramente o cluster com maior insatisfação.\n",
    "\n",
    "- Pode representar clientes com problemas recorrentes (como atrasos, produtos ruins ou suporte ineficiente).\n",
    "\n",
    "**Cluster 2:**\n",
    "\n",
    "- Avaliações variando bastante, de 1 até 5.\n",
    "\n",
    "- É um grupo mais heterogêneo, com clientes tanto satisfeitos quanto insatisfeitos.\n",
    "\n",
    "- Pode indicar um grupo de clientes mais exigente ou com experiências variadas."
   ]
  },
  {
   "cell_type": "code",
   "execution_count": 92,
   "id": "7d738e8f",
   "metadata": {},
   "outputs": [
    {
     "data": {
      "image/png": "[encoded data removed]",
      "text/plain": [
       "<Figure size 800x600 with 1 Axes>"
      ]
     },
     "metadata": {},
     "output_type": "display_data"
    }
   ],
   "source": [
    "# 4. Avaliação média por estado\n",
    "avaliacao_estado = df_clientes.groupby('customer_state')['avaliacao_media'].mean().sort_values()\n",
    "avaliacao_estado.plot(kind='barh', figsize=(8,6), color = 'magenta')\n",
    "plt.title('Avaliação média por estado')\n",
    "plt.xlabel('Avaliação média')\n",
    "plt.show()"
   ]
  },
  {
   "cell_type": "markdown",
   "id": "e98b9d3e",
   "metadata": {},
   "source": [
    "#### Conclusões: \n",
    "\n",
    "**Estados com melhor avaliação média:**\n",
    "\n",
    "- AM (Amazonas), PR (Paraná), SP (São Paulo) estão no topo com médias acima de 4.\n",
    "\n",
    "- Indica alto nível de satisfação dos clientes dessas regiões — talvez por boa logística, atendimento ou perfil de consumo.\n",
    "\n",
    "**Estados com pior avaliação média:**\n",
    "\n",
    "- RR (Roraima), MA (Maranhão), AL (Alagoas) estão no fim, com médias abaixo de 3.5.\n",
    "\n",
    "- Isso pode sugerir problemas logísticos, atrasos nas entregas ou até menor oferta de produtos/serviços.\n",
    "\n",
    "A diferença entre os estados não é enorme, mas o padrão regional pode indicar onde há espaço para melhoria.\n"
   ]
  },
  {
   "cell_type": "code",
   "execution_count": 108,
   "id": "743f22ad",
   "metadata": {},
   "outputs": [
    {
     "data": {
      "image/png": "[encoded data removed]",
      "text/plain": [
       "<Figure size 640x480 with 2 Axes>"
      ]
     },
     "metadata": {},
     "output_type": "display_data"
    }
   ],
   "source": [
    "# 5. Correlação entre variáveis numéricas e avaliação média\n",
    "corr = df_clientes[['qtde_pedidos', 'frete_medio', 'valor_total', 'avaliacao_media']].corr()\n",
    "sns.heatmap(corr, annot=True, cmap='plasma')\n",
    "plt.title('Correlação entre variáveis')\n",
    "plt.show()"
   ]
  },
  {
   "cell_type": "markdown",
   "id": "603048a7",
   "metadata": {},
   "source": [
    "#### Conclusões:\n",
    "\n",
    "**Correlação mais forte:**\n",
    "`frete_medio` x `valor_total` = 0.45\n",
    "\n",
    "- Quanto maior o valor total gasto, maior tende a ser o frete médio (compra de itens pesados, distantes ou de valor agregado).\n",
    "\n",
    "**Correlações fracas com avaliacao_media:**\n",
    "`avaliacao_media` x `qtde_pedidos` ≈ 0.0048\n",
    "\n",
    "`avaliacao_media` x `frete_medio` ≈ -0.038\n",
    "\n",
    "`avaliacao_media` x `valor_total` ≈ -0.046\n",
    "\n",
    "Ou seja, a avaliação média do cliente parece não depender diretamente de:\n",
    "\n",
    "- Quantidade de pedidos,\n",
    "\n",
    "- Valor gasto,\n",
    "\n",
    "- Ou valor do frete.\n",
    "\n",
    "As variáveis quantitativas analisadas (valor total, frete médio, quantidade de pedidos) possuem correlação fraca ou inexistente com a avaliação média, indicando que a satisfação do cliente pode estar mais relacionada a fatores qualitativos, como tempo de entrega, atendimento, ou problemas logísticos."
   ]
  }
 ],
 "metadata": {
  "kernelspec": {
   "display_name": "Python 3",
   "language": "python",
   "name": "python3"
  },
  "language_info": {
   "codemirror_mode": {
    "name": "ipython",
    "version": 3
   },
   "file_extension": ".py",
   "mimetype": "text/x-python",
   "name": "python",
   "nbconvert_exporter": "python",
   "pygments_lexer": "ipython3",
   "version": "3.11.9"
  }
 },
 "nbformat": 4,
 "nbformat_minor": 5
}
