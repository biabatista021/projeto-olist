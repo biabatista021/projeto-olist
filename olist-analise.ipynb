{
 "cells": [
  {
   "cell_type": "markdown",
   "id": "d336abfd",
   "metadata": {},
   "source": [
    "## 1. Preparação dos Dados"
   ]
  },
  {
   "cell_type": "code",
   "execution_count": 62,
   "id": "82887a9d",
   "metadata": {},
   "outputs": [],
   "source": [
    "## BIBLIOTECAS UTILIZADAS\n",
    "import pandas as pd\n",
    "import numpy as np\n",
    "import sqlite3\n",
    "from datetime import datetime\n",
    "import matplotlib.pyplot as plt\n",
    "import seaborn as sns\n",
    "import plotly.express as px"
   ]
  },
  {
   "cell_type": "code",
   "execution_count": 2,
   "id": "60de669e",
   "metadata": {},
   "outputs": [],
   "source": [
    "# CARREGANDO OS DADOS\n",
    "clientes = pd.read_csv('dados\\olist_customers_dataset.csv')\n",
    "geolocalizacao = pd.read_csv('dados\\olist_geolocation_dataset.csv')\n",
    "itens_pedidos = pd.read_csv('dados\\olist_order_items_dataset.csv')\n",
    "pedidos_pagamentos = pd.read_csv('dados\\olist_order_payments_dataset.csv')\n",
    "comentarios_pedidos = pd.read_csv('dados\\olist_order_reviews_dataset.csv')\n",
    "pedidos = pd.read_csv('dados\\olist_orders_dataset.csv')\n",
    "produtos = pd.read_csv('dados\\olist_products_dataset.csv')\n",
    "vendedores = pd.read_csv('dados\\olist_sellers_dataset.csv')\n",
    "traducao_de_produto = pd.read_csv('dados\\product_category_name_translation.csv')"
   ]
  },
  {
   "cell_type": "markdown",
   "id": "d45fcc88",
   "metadata": {},
   "source": [
    "### 1.1 Carregando dados de Clientes"
   ]
  },
  {
   "cell_type": "code",
   "execution_count": null,
   "id": "2105c2b4",
   "metadata": {},
   "outputs": [
    {
     "data": {
      "text/html": [
       "<div>\n",
       "<style scoped>\n",
       "    .dataframe tbody tr th:only-of-type {\n",
       "        vertical-align: middle;\n",
       "    }\n",
       "\n",
       "    .dataframe tbody tr th {\n",
       "        vertical-align: top;\n",
       "    }\n",
       "\n",
       "    .dataframe thead th {\n",
       "        text-align: right;\n",
       "    }\n",
       "</style>\n",
       "<table border=\"1\" class=\"dataframe\">\n",
       "  <thead>\n",
       "    <tr style=\"text-align: right;\">\n",
       "      <th></th>\n",
       "      <th>customer_id</th>\n",
       "      <th>customer_unique_id</th>\n",
       "      <th>customer_zip_code_prefix</th>\n",
       "      <th>customer_city</th>\n",
       "      <th>customer_state</th>\n",
       "    </tr>\n",
       "  </thead>\n",
       "  <tbody>\n",
       "    <tr>\n",
       "      <th>0</th>\n",
       "      <td>06b8999e2fba1a1fbc88172c00ba8bc7</td>\n",
       "      <td>861eff4711a542e4b93843c6dd7febb0</td>\n",
       "      <td>14409</td>\n",
       "      <td>Franca</td>\n",
       "      <td>SP</td>\n",
       "    </tr>\n",
       "    <tr>\n",
       "      <th>1</th>\n",
       "      <td>18955e83d337fd6b2def6b18a428ac77</td>\n",
       "      <td>290c77bc529b7ac935b93aa66c333dc3</td>\n",
       "      <td>9790</td>\n",
       "      <td>Sao Bernardo Do Campo</td>\n",
       "      <td>SP</td>\n",
       "    </tr>\n",
       "    <tr>\n",
       "      <th>2</th>\n",
       "      <td>4e7b3e00288586ebd08712fdd0374a03</td>\n",
       "      <td>060e732b5b29e8181a18229c7b0b2b5e</td>\n",
       "      <td>1151</td>\n",
       "      <td>Sao Paulo</td>\n",
       "      <td>SP</td>\n",
       "    </tr>\n",
       "    <tr>\n",
       "      <th>3</th>\n",
       "      <td>b2b6027bc5c5109e529d4dc6358b12c3</td>\n",
       "      <td>259dac757896d24d7702b9acbbff3f3c</td>\n",
       "      <td>8775</td>\n",
       "      <td>Mogi Das Cruzes</td>\n",
       "      <td>SP</td>\n",
       "    </tr>\n",
       "    <tr>\n",
       "      <th>4</th>\n",
       "      <td>4f2d8ab171c80ec8364f7c12e35b23ad</td>\n",
       "      <td>345ecd01c38d18a9036ed96c73b8d066</td>\n",
       "      <td>13056</td>\n",
       "      <td>Campinas</td>\n",
       "      <td>SP</td>\n",
       "    </tr>\n",
       "  </tbody>\n",
       "</table>\n",
       "</div>"
      ],
      "text/plain": [
       "                        customer_id                customer_unique_id  \\\n",
       "0  06b8999e2fba1a1fbc88172c00ba8bc7  861eff4711a542e4b93843c6dd7febb0   \n",
       "1  18955e83d337fd6b2def6b18a428ac77  290c77bc529b7ac935b93aa66c333dc3   \n",
       "2  4e7b3e00288586ebd08712fdd0374a03  060e732b5b29e8181a18229c7b0b2b5e   \n",
       "3  b2b6027bc5c5109e529d4dc6358b12c3  259dac757896d24d7702b9acbbff3f3c   \n",
       "4  4f2d8ab171c80ec8364f7c12e35b23ad  345ecd01c38d18a9036ed96c73b8d066   \n",
       "\n",
       "   customer_zip_code_prefix          customer_city customer_state  \n",
       "0                     14409                 Franca             SP  \n",
       "1                      9790  Sao Bernardo Do Campo             SP  \n",
       "2                      1151              Sao Paulo             SP  \n",
       "3                      8775        Mogi Das Cruzes             SP  \n",
       "4                     13056               Campinas             SP  "
      ]
     },
     "execution_count": 3,
     "metadata": {},
     "output_type": "execute_result"
    }
   ],
   "source": [
    "# Convertendo os nomes das cidades para maiúsculo\n",
    "clientes['customer_city'] = clientes['customer_city'].str.title()\n",
    "\n",
    "#exibindo apenas as 5 primeiras linhas\n",
    "clientes.head(5)"
   ]
  },
  {
   "cell_type": "code",
   "execution_count": 4,
   "id": "e3651171",
   "metadata": {},
   "outputs": [
    {
     "data": {
      "text/plain": [
       "customer_id                 0\n",
       "customer_unique_id          0\n",
       "customer_zip_code_prefix    0\n",
       "customer_city               0\n",
       "customer_state              0\n",
       "dtype: int64"
      ]
     },
     "execution_count": 4,
     "metadata": {},
     "output_type": "execute_result"
    }
   ],
   "source": [
    "# Verificando existência de valores ausentes\n",
    "clientes.isnull().sum()"
   ]
  },
  {
   "cell_type": "code",
   "execution_count": 5,
   "id": "dda07cd0",
   "metadata": {},
   "outputs": [
    {
     "name": "stdout",
     "output_type": "stream",
     "text": [
      "Linhas completamente duplicadas: 0\n"
     ]
    }
   ],
   "source": [
    "# Verificando linhas completamente duplicadas\n",
    "duplicados_completos = clientes.duplicated().sum()\n",
    "print(f\"Linhas completamente duplicadas: {duplicados_completos}\")"
   ]
  },
  {
   "cell_type": "markdown",
   "id": "c55d25e6",
   "metadata": {},
   "source": [
    "### 1.2 Carregando dados de Geolocalização"
   ]
  },
  {
   "cell_type": "code",
   "execution_count": 6,
   "id": "9d3f0252",
   "metadata": {},
   "outputs": [
    {
     "data": {
      "text/html": [
       "<div>\n",
       "<style scoped>\n",
       "    .dataframe tbody tr th:only-of-type {\n",
       "        vertical-align: middle;\n",
       "    }\n",
       "\n",
       "    .dataframe tbody tr th {\n",
       "        vertical-align: top;\n",
       "    }\n",
       "\n",
       "    .dataframe thead th {\n",
       "        text-align: right;\n",
       "    }\n",
       "</style>\n",
       "<table border=\"1\" class=\"dataframe\">\n",
       "  <thead>\n",
       "    <tr style=\"text-align: right;\">\n",
       "      <th></th>\n",
       "      <th>geolocation_zip_code_prefix</th>\n",
       "      <th>geolocation_lat</th>\n",
       "      <th>geolocation_lng</th>\n",
       "      <th>geolocation_city</th>\n",
       "      <th>geolocation_state</th>\n",
       "    </tr>\n",
       "  </thead>\n",
       "  <tbody>\n",
       "    <tr>\n",
       "      <th>0</th>\n",
       "      <td>1037</td>\n",
       "      <td>-23.545621</td>\n",
       "      <td>-46.639292</td>\n",
       "      <td>Sao Paulo</td>\n",
       "      <td>SP</td>\n",
       "    </tr>\n",
       "    <tr>\n",
       "      <th>1</th>\n",
       "      <td>1046</td>\n",
       "      <td>-23.546081</td>\n",
       "      <td>-46.644820</td>\n",
       "      <td>Sao Paulo</td>\n",
       "      <td>SP</td>\n",
       "    </tr>\n",
       "    <tr>\n",
       "      <th>2</th>\n",
       "      <td>1046</td>\n",
       "      <td>-23.546129</td>\n",
       "      <td>-46.642951</td>\n",
       "      <td>Sao Paulo</td>\n",
       "      <td>SP</td>\n",
       "    </tr>\n",
       "    <tr>\n",
       "      <th>3</th>\n",
       "      <td>1041</td>\n",
       "      <td>-23.544392</td>\n",
       "      <td>-46.639499</td>\n",
       "      <td>Sao Paulo</td>\n",
       "      <td>SP</td>\n",
       "    </tr>\n",
       "    <tr>\n",
       "      <th>4</th>\n",
       "      <td>1035</td>\n",
       "      <td>-23.541578</td>\n",
       "      <td>-46.641607</td>\n",
       "      <td>Sao Paulo</td>\n",
       "      <td>SP</td>\n",
       "    </tr>\n",
       "  </tbody>\n",
       "</table>\n",
       "</div>"
      ],
      "text/plain": [
       "   geolocation_zip_code_prefix  geolocation_lat  geolocation_lng  \\\n",
       "0                         1037       -23.545621       -46.639292   \n",
       "1                         1046       -23.546081       -46.644820   \n",
       "2                         1046       -23.546129       -46.642951   \n",
       "3                         1041       -23.544392       -46.639499   \n",
       "4                         1035       -23.541578       -46.641607   \n",
       "\n",
       "  geolocation_city geolocation_state  \n",
       "0        Sao Paulo                SP  \n",
       "1        Sao Paulo                SP  \n",
       "2        Sao Paulo                SP  \n",
       "3        Sao Paulo                SP  \n",
       "4        Sao Paulo                SP  "
      ]
     },
     "execution_count": 6,
     "metadata": {},
     "output_type": "execute_result"
    }
   ],
   "source": [
    "# Convertendo os nomes das cidades para maiúsculo\n",
    "geolocalizacao['geolocation_city'] = geolocalizacao['geolocation_city'].str.title()\n",
    "\n",
    "# exibindo apenas as 5 primeiras linhas\n",
    "geolocalizacao.head(5)"
   ]
  },
  {
   "cell_type": "code",
   "execution_count": 7,
   "id": "ecf0fd3c",
   "metadata": {},
   "outputs": [
    {
     "data": {
      "text/plain": [
       "geolocation_zip_code_prefix    0\n",
       "geolocation_lat                0\n",
       "geolocation_lng                0\n",
       "geolocation_city               0\n",
       "geolocation_state              0\n",
       "dtype: int64"
      ]
     },
     "execution_count": 7,
     "metadata": {},
     "output_type": "execute_result"
    }
   ],
   "source": [
    "# Verificando existência de valores ausentes\n",
    "geolocalizacao.isnull().sum()"
   ]
  },
  {
   "cell_type": "markdown",
   "id": "1126a24b",
   "metadata": {},
   "source": [
    "### 1.3 Carregando dados de Itens Pedidos"
   ]
  },
  {
   "cell_type": "code",
   "execution_count": 8,
   "id": "65d3c3e8",
   "metadata": {},
   "outputs": [
    {
     "data": {
      "text/html": [
       "<div>\n",
       "<style scoped>\n",
       "    .dataframe tbody tr th:only-of-type {\n",
       "        vertical-align: middle;\n",
       "    }\n",
       "\n",
       "    .dataframe tbody tr th {\n",
       "        vertical-align: top;\n",
       "    }\n",
       "\n",
       "    .dataframe thead th {\n",
       "        text-align: right;\n",
       "    }\n",
       "</style>\n",
       "<table border=\"1\" class=\"dataframe\">\n",
       "  <thead>\n",
       "    <tr style=\"text-align: right;\">\n",
       "      <th></th>\n",
       "      <th>order_id</th>\n",
       "      <th>order_item_id</th>\n",
       "      <th>product_id</th>\n",
       "      <th>seller_id</th>\n",
       "      <th>shipping_limit_date</th>\n",
       "      <th>price</th>\n",
       "      <th>freight_value</th>\n",
       "    </tr>\n",
       "  </thead>\n",
       "  <tbody>\n",
       "    <tr>\n",
       "      <th>0</th>\n",
       "      <td>00010242fe8c5a6d1ba2dd792cb16214</td>\n",
       "      <td>1</td>\n",
       "      <td>4244733e06e7ecb4970a6e2683c13e61</td>\n",
       "      <td>48436dade18ac8b2bce089ec2a041202</td>\n",
       "      <td>2017-09-19 09:45:35</td>\n",
       "      <td>58.90</td>\n",
       "      <td>13.29</td>\n",
       "    </tr>\n",
       "    <tr>\n",
       "      <th>1</th>\n",
       "      <td>00018f77f2f0320c557190d7a144bdd3</td>\n",
       "      <td>1</td>\n",
       "      <td>e5f2d52b802189ee658865ca93d83a8f</td>\n",
       "      <td>dd7ddc04e1b6c2c614352b383efe2d36</td>\n",
       "      <td>2017-05-03 11:05:13</td>\n",
       "      <td>239.90</td>\n",
       "      <td>19.93</td>\n",
       "    </tr>\n",
       "    <tr>\n",
       "      <th>2</th>\n",
       "      <td>000229ec398224ef6ca0657da4fc703e</td>\n",
       "      <td>1</td>\n",
       "      <td>c777355d18b72b67abbeef9df44fd0fd</td>\n",
       "      <td>5b51032eddd242adc84c38acab88f23d</td>\n",
       "      <td>2018-01-18 14:48:30</td>\n",
       "      <td>199.00</td>\n",
       "      <td>17.87</td>\n",
       "    </tr>\n",
       "    <tr>\n",
       "      <th>3</th>\n",
       "      <td>00024acbcdf0a6daa1e931b038114c75</td>\n",
       "      <td>1</td>\n",
       "      <td>7634da152a4610f1595efa32f14722fc</td>\n",
       "      <td>9d7a1d34a5052409006425275ba1c2b4</td>\n",
       "      <td>2018-08-15 10:10:18</td>\n",
       "      <td>12.99</td>\n",
       "      <td>12.79</td>\n",
       "    </tr>\n",
       "    <tr>\n",
       "      <th>4</th>\n",
       "      <td>00042b26cf59d7ce69dfabb4e55b4fd9</td>\n",
       "      <td>1</td>\n",
       "      <td>ac6c3623068f30de03045865e4e10089</td>\n",
       "      <td>df560393f3a51e74553ab94004ba5c87</td>\n",
       "      <td>2017-02-13 13:57:51</td>\n",
       "      <td>199.90</td>\n",
       "      <td>18.14</td>\n",
       "    </tr>\n",
       "  </tbody>\n",
       "</table>\n",
       "</div>"
      ],
      "text/plain": [
       "                           order_id  order_item_id  \\\n",
       "0  00010242fe8c5a6d1ba2dd792cb16214              1   \n",
       "1  00018f77f2f0320c557190d7a144bdd3              1   \n",
       "2  000229ec398224ef6ca0657da4fc703e              1   \n",
       "3  00024acbcdf0a6daa1e931b038114c75              1   \n",
       "4  00042b26cf59d7ce69dfabb4e55b4fd9              1   \n",
       "\n",
       "                         product_id                         seller_id  \\\n",
       "0  4244733e06e7ecb4970a6e2683c13e61  48436dade18ac8b2bce089ec2a041202   \n",
       "1  e5f2d52b802189ee658865ca93d83a8f  dd7ddc04e1b6c2c614352b383efe2d36   \n",
       "2  c777355d18b72b67abbeef9df44fd0fd  5b51032eddd242adc84c38acab88f23d   \n",
       "3  7634da152a4610f1595efa32f14722fc  9d7a1d34a5052409006425275ba1c2b4   \n",
       "4  ac6c3623068f30de03045865e4e10089  df560393f3a51e74553ab94004ba5c87   \n",
       "\n",
       "   shipping_limit_date   price  freight_value  \n",
       "0  2017-09-19 09:45:35   58.90          13.29  \n",
       "1  2017-05-03 11:05:13  239.90          19.93  \n",
       "2  2018-01-18 14:48:30  199.00          17.87  \n",
       "3  2018-08-15 10:10:18   12.99          12.79  \n",
       "4  2017-02-13 13:57:51  199.90          18.14  "
      ]
     },
     "execution_count": 8,
     "metadata": {},
     "output_type": "execute_result"
    }
   ],
   "source": [
    "# exibindo apenas as 5 primeiras linhas do dataset\n",
    "itens_pedidos.head(5)"
   ]
  },
  {
   "cell_type": "code",
   "execution_count": null,
   "id": "6c59ac8a",
   "metadata": {},
   "outputs": [
    {
     "name": "stdout",
     "output_type": "stream",
     "text": [
      "<class 'pandas.core.frame.DataFrame'>\n",
      "RangeIndex: 112650 entries, 0 to 112649\n",
      "Data columns (total 7 columns):\n",
      " #   Column               Non-Null Count   Dtype  \n",
      "---  ------               --------------   -----  \n",
      " 0   order_id             112650 non-null  object \n",
      " 1   order_item_id        112650 non-null  int64  \n",
      " 2   product_id           112650 non-null  object \n",
      " 3   seller_id            112650 non-null  object \n",
      " 4   shipping_limit_date  112650 non-null  object \n",
      " 5   price                112650 non-null  float64\n",
      " 6   freight_value        112650 non-null  float64\n",
      "dtypes: float64(2), int64(1), object(4)\n",
      "memory usage: 6.0+ MB\n"
     ]
    }
   ],
   "source": [
    "# Imprimindo informações sobre o dataset\n",
    "itens_pedidos.info()"
   ]
  },
  {
   "cell_type": "code",
   "execution_count": 10,
   "id": "2a916aa7",
   "metadata": {},
   "outputs": [
    {
     "data": {
      "text/plain": [
       "order_id               0\n",
       "order_item_id          0\n",
       "product_id             0\n",
       "seller_id              0\n",
       "shipping_limit_date    0\n",
       "price                  0\n",
       "freight_value          0\n",
       "dtype: int64"
      ]
     },
     "execution_count": 10,
     "metadata": {},
     "output_type": "execute_result"
    }
   ],
   "source": [
    "# Verificando existência de valores ausentes\n",
    "itens_pedidos.isnull().sum()"
   ]
  },
  {
   "cell_type": "code",
   "execution_count": 11,
   "id": "73e44b50",
   "metadata": {},
   "outputs": [
    {
     "name": "stdout",
     "output_type": "stream",
     "text": [
      "Linhas completamente duplicadas: 0\n"
     ]
    }
   ],
   "source": [
    "# Verificando linhas completamente duplicadas\n",
    "duplicados_completos = itens_pedidos.duplicated().sum()\n",
    "print(f\"Linhas completamente duplicadas: {duplicados_completos}\")"
   ]
  },
  {
   "cell_type": "markdown",
   "id": "d2380158",
   "metadata": {},
   "source": [
    "### 1.4 Carregando dados de Pagamentos"
   ]
  },
  {
   "cell_type": "code",
   "execution_count": 12,
   "id": "51773c15",
   "metadata": {},
   "outputs": [
    {
     "data": {
      "text/html": [
       "<div>\n",
       "<style scoped>\n",
       "    .dataframe tbody tr th:only-of-type {\n",
       "        vertical-align: middle;\n",
       "    }\n",
       "\n",
       "    .dataframe tbody tr th {\n",
       "        vertical-align: top;\n",
       "    }\n",
       "\n",
       "    .dataframe thead th {\n",
       "        text-align: right;\n",
       "    }\n",
       "</style>\n",
       "<table border=\"1\" class=\"dataframe\">\n",
       "  <thead>\n",
       "    <tr style=\"text-align: right;\">\n",
       "      <th></th>\n",
       "      <th>order_id</th>\n",
       "      <th>payment_sequential</th>\n",
       "      <th>payment_type</th>\n",
       "      <th>payment_installments</th>\n",
       "      <th>payment_value</th>\n",
       "    </tr>\n",
       "  </thead>\n",
       "  <tbody>\n",
       "    <tr>\n",
       "      <th>0</th>\n",
       "      <td>b81ef226f3fe1789b1e8b2acac839d17</td>\n",
       "      <td>1</td>\n",
       "      <td>credit_card</td>\n",
       "      <td>8</td>\n",
       "      <td>99.33</td>\n",
       "    </tr>\n",
       "    <tr>\n",
       "      <th>1</th>\n",
       "      <td>a9810da82917af2d9aefd1278f1dcfa0</td>\n",
       "      <td>1</td>\n",
       "      <td>credit_card</td>\n",
       "      <td>1</td>\n",
       "      <td>24.39</td>\n",
       "    </tr>\n",
       "    <tr>\n",
       "      <th>2</th>\n",
       "      <td>25e8ea4e93396b6fa0d3dd708e76c1bd</td>\n",
       "      <td>1</td>\n",
       "      <td>credit_card</td>\n",
       "      <td>1</td>\n",
       "      <td>65.71</td>\n",
       "    </tr>\n",
       "    <tr>\n",
       "      <th>3</th>\n",
       "      <td>ba78997921bbcdc1373bb41e913ab953</td>\n",
       "      <td>1</td>\n",
       "      <td>credit_card</td>\n",
       "      <td>8</td>\n",
       "      <td>107.78</td>\n",
       "    </tr>\n",
       "    <tr>\n",
       "      <th>4</th>\n",
       "      <td>42fdf880ba16b47b59251dd489d4441a</td>\n",
       "      <td>1</td>\n",
       "      <td>credit_card</td>\n",
       "      <td>2</td>\n",
       "      <td>128.45</td>\n",
       "    </tr>\n",
       "  </tbody>\n",
       "</table>\n",
       "</div>"
      ],
      "text/plain": [
       "                           order_id  payment_sequential payment_type  \\\n",
       "0  b81ef226f3fe1789b1e8b2acac839d17                   1  credit_card   \n",
       "1  a9810da82917af2d9aefd1278f1dcfa0                   1  credit_card   \n",
       "2  25e8ea4e93396b6fa0d3dd708e76c1bd                   1  credit_card   \n",
       "3  ba78997921bbcdc1373bb41e913ab953                   1  credit_card   \n",
       "4  42fdf880ba16b47b59251dd489d4441a                   1  credit_card   \n",
       "\n",
       "   payment_installments  payment_value  \n",
       "0                     8          99.33  \n",
       "1                     1          24.39  \n",
       "2                     1          65.71  \n",
       "3                     8         107.78  \n",
       "4                     2         128.45  "
      ]
     },
     "execution_count": 12,
     "metadata": {},
     "output_type": "execute_result"
    }
   ],
   "source": [
    "# imprimindo apenas as 5 primeiras linhas\n",
    "pedidos_pagamentos.head(5)"
   ]
  },
  {
   "cell_type": "code",
   "execution_count": 13,
   "id": "4d0087a4",
   "metadata": {},
   "outputs": [
    {
     "data": {
      "text/plain": [
       "order_id                0\n",
       "payment_sequential      0\n",
       "payment_type            0\n",
       "payment_installments    0\n",
       "payment_value           0\n",
       "dtype: int64"
      ]
     },
     "execution_count": 13,
     "metadata": {},
     "output_type": "execute_result"
    }
   ],
   "source": [
    "# Verificando existência de valores ausentes\n",
    "pedidos_pagamentos.isnull().sum()"
   ]
  },
  {
   "cell_type": "code",
   "execution_count": 14,
   "id": "53e84691",
   "metadata": {},
   "outputs": [
    {
     "name": "stdout",
     "output_type": "stream",
     "text": [
      "Linhas completamente duplicadas: 0\n"
     ]
    }
   ],
   "source": [
    "# Verificando linhas completamente duplicadas\n",
    "duplicados_completos = pedidos_pagamentos.duplicated().sum()\n",
    "print(f\"Linhas completamente duplicadas: {duplicados_completos}\")"
   ]
  },
  {
   "cell_type": "markdown",
   "id": "dbf72ebc",
   "metadata": {},
   "source": [
    "### 1.5 Carregando dados de Comentários/Avaliações"
   ]
  },
  {
   "cell_type": "code",
   "execution_count": 15,
   "id": "969f1957",
   "metadata": {},
   "outputs": [
    {
     "data": {
      "text/html": [
       "<div>\n",
       "<style scoped>\n",
       "    .dataframe tbody tr th:only-of-type {\n",
       "        vertical-align: middle;\n",
       "    }\n",
       "\n",
       "    .dataframe tbody tr th {\n",
       "        vertical-align: top;\n",
       "    }\n",
       "\n",
       "    .dataframe thead th {\n",
       "        text-align: right;\n",
       "    }\n",
       "</style>\n",
       "<table border=\"1\" class=\"dataframe\">\n",
       "  <thead>\n",
       "    <tr style=\"text-align: right;\">\n",
       "      <th></th>\n",
       "      <th>review_id</th>\n",
       "      <th>order_id</th>\n",
       "      <th>review_score</th>\n",
       "      <th>review_comment_title</th>\n",
       "      <th>review_comment_message</th>\n",
       "      <th>review_creation_date</th>\n",
       "      <th>review_answer_timestamp</th>\n",
       "    </tr>\n",
       "  </thead>\n",
       "  <tbody>\n",
       "    <tr>\n",
       "      <th>0</th>\n",
       "      <td>7bc2406110b926393aa56f80a40eba40</td>\n",
       "      <td>73fc7af87114b39712e6da79b0a377eb</td>\n",
       "      <td>4</td>\n",
       "      <td>NaN</td>\n",
       "      <td>NaN</td>\n",
       "      <td>2018-01-18</td>\n",
       "      <td>2018-01-18 21:46:59</td>\n",
       "    </tr>\n",
       "    <tr>\n",
       "      <th>1</th>\n",
       "      <td>80e641a11e56f04c1ad469d5645fdfde</td>\n",
       "      <td>a548910a1c6147796b98fdf73dbeba33</td>\n",
       "      <td>5</td>\n",
       "      <td>NaN</td>\n",
       "      <td>NaN</td>\n",
       "      <td>2018-03-10</td>\n",
       "      <td>2018-03-11 03:05:13</td>\n",
       "    </tr>\n",
       "    <tr>\n",
       "      <th>2</th>\n",
       "      <td>228ce5500dc1d8e020d8d1322874b6f0</td>\n",
       "      <td>f9e4b658b201a9f2ecdecbb34bed034b</td>\n",
       "      <td>5</td>\n",
       "      <td>NaN</td>\n",
       "      <td>NaN</td>\n",
       "      <td>2018-02-17</td>\n",
       "      <td>2018-02-18 14:36:24</td>\n",
       "    </tr>\n",
       "    <tr>\n",
       "      <th>3</th>\n",
       "      <td>e64fb393e7b32834bb789ff8bb30750e</td>\n",
       "      <td>658677c97b385a9be170737859d3511b</td>\n",
       "      <td>5</td>\n",
       "      <td>NaN</td>\n",
       "      <td>Recebi bem antes do prazo estipulado.</td>\n",
       "      <td>2017-04-21</td>\n",
       "      <td>2017-04-21 22:02:06</td>\n",
       "    </tr>\n",
       "    <tr>\n",
       "      <th>4</th>\n",
       "      <td>f7c4243c7fe1938f181bec41a392bdeb</td>\n",
       "      <td>8e6bfb81e283fa7e4f11123a3fb894f1</td>\n",
       "      <td>5</td>\n",
       "      <td>NaN</td>\n",
       "      <td>Parabéns lojas lannister adorei comprar pela I...</td>\n",
       "      <td>2018-03-01</td>\n",
       "      <td>2018-03-02 10:26:53</td>\n",
       "    </tr>\n",
       "  </tbody>\n",
       "</table>\n",
       "</div>"
      ],
      "text/plain": [
       "                          review_id                          order_id  \\\n",
       "0  7bc2406110b926393aa56f80a40eba40  73fc7af87114b39712e6da79b0a377eb   \n",
       "1  80e641a11e56f04c1ad469d5645fdfde  a548910a1c6147796b98fdf73dbeba33   \n",
       "2  228ce5500dc1d8e020d8d1322874b6f0  f9e4b658b201a9f2ecdecbb34bed034b   \n",
       "3  e64fb393e7b32834bb789ff8bb30750e  658677c97b385a9be170737859d3511b   \n",
       "4  f7c4243c7fe1938f181bec41a392bdeb  8e6bfb81e283fa7e4f11123a3fb894f1   \n",
       "\n",
       "   review_score review_comment_title  \\\n",
       "0             4                  NaN   \n",
       "1             5                  NaN   \n",
       "2             5                  NaN   \n",
       "3             5                  NaN   \n",
       "4             5                  NaN   \n",
       "\n",
       "                              review_comment_message review_creation_date  \\\n",
       "0                                                NaN           2018-01-18   \n",
       "1                                                NaN           2018-03-10   \n",
       "2                                                NaN           2018-02-17   \n",
       "3              Recebi bem antes do prazo estipulado.           2017-04-21   \n",
       "4  Parabéns lojas lannister adorei comprar pela I...           2018-03-01   \n",
       "\n",
       "  review_answer_timestamp  \n",
       "0     2018-01-18 21:46:59  \n",
       "1     2018-03-11 03:05:13  \n",
       "2     2018-02-18 14:36:24  \n",
       "3     2017-04-21 22:02:06  \n",
       "4     2018-03-02 10:26:53  "
      ]
     },
     "execution_count": 15,
     "metadata": {},
     "output_type": "execute_result"
    }
   ],
   "source": [
    "# Limpando e tratando os dados\n",
    "# 1. Convertendo datas\n",
    "comentarios_pedidos['review_creation_date'] = pd.to_datetime(comentarios_pedidos['review_creation_date'])\n",
    "comentarios_pedidos['review_answer_timestamp'] = pd.to_datetime(comentarios_pedidos['review_answer_timestamp'])\n",
    "\n",
    "# Imprimindo as 5 primeiras linhas\n",
    "comentarios_pedidos.head(5)"
   ]
  },
  {
   "cell_type": "code",
   "execution_count": 16,
   "id": "1c149476",
   "metadata": {},
   "outputs": [
    {
     "name": "stdout",
     "output_type": "stream",
     "text": [
      "<class 'pandas.core.frame.DataFrame'>\n",
      "RangeIndex: 99224 entries, 0 to 99223\n",
      "Data columns (total 7 columns):\n",
      " #   Column                   Non-Null Count  Dtype         \n",
      "---  ------                   --------------  -----         \n",
      " 0   review_id                99224 non-null  object        \n",
      " 1   order_id                 99224 non-null  object        \n",
      " 2   review_score             99224 non-null  int64         \n",
      " 3   review_comment_title     11568 non-null  object        \n",
      " 4   review_comment_message   40977 non-null  object        \n",
      " 5   review_creation_date     99224 non-null  datetime64[ns]\n",
      " 6   review_answer_timestamp  99224 non-null  datetime64[ns]\n",
      "dtypes: datetime64[ns](2), int64(1), object(4)\n",
      "memory usage: 5.3+ MB\n"
     ]
    }
   ],
   "source": [
    "# Imprimindo informações do dataset\n",
    "comentarios_pedidos.info()"
   ]
  },
  {
   "cell_type": "code",
   "execution_count": 17,
   "id": "908efbdc",
   "metadata": {},
   "outputs": [
    {
     "data": {
      "text/plain": [
       "review_id                      0\n",
       "order_id                       0\n",
       "review_score                   0\n",
       "review_comment_title       87656\n",
       "review_comment_message     58247\n",
       "review_creation_date           0\n",
       "review_answer_timestamp        0\n",
       "dtype: int64"
      ]
     },
     "execution_count": 17,
     "metadata": {},
     "output_type": "execute_result"
    }
   ],
   "source": [
    "# Verificando existência de valores ausentes\n",
    "comentarios_pedidos.isnull().sum()"
   ]
  },
  {
   "cell_type": "markdown",
   "id": "023fd4eb",
   "metadata": {},
   "source": [
    "### 1.6 Carregando dados de Pedidos"
   ]
  },
  {
   "cell_type": "code",
   "execution_count": 18,
   "id": "249f29ce",
   "metadata": {},
   "outputs": [],
   "source": [
    "# Limpando e tratando os dados\n",
    "# 1. Convertendo datas\n",
    "pedidos['order_purchase_timestamp'] = pd.to_datetime(pedidos['order_purchase_timestamp'])\n",
    "pedidos['order_delivered_customer_date'] = pd.to_datetime(pedidos['order_delivered_customer_date'])\n",
    "pedidos['order_estimated_delivery_date'] = pd.to_datetime(pedidos['order_estimated_delivery_date'])"
   ]
  },
  {
   "cell_type": "code",
   "execution_count": 19,
   "id": "8b5eca9c",
   "metadata": {},
   "outputs": [
    {
     "data": {
      "text/html": [
       "<div>\n",
       "<style scoped>\n",
       "    .dataframe tbody tr th:only-of-type {\n",
       "        vertical-align: middle;\n",
       "    }\n",
       "\n",
       "    .dataframe tbody tr th {\n",
       "        vertical-align: top;\n",
       "    }\n",
       "\n",
       "    .dataframe thead th {\n",
       "        text-align: right;\n",
       "    }\n",
       "</style>\n",
       "<table border=\"1\" class=\"dataframe\">\n",
       "  <thead>\n",
       "    <tr style=\"text-align: right;\">\n",
       "      <th></th>\n",
       "      <th>order_id</th>\n",
       "      <th>customer_id</th>\n",
       "      <th>order_status</th>\n",
       "      <th>order_purchase_timestamp</th>\n",
       "      <th>order_approved_at</th>\n",
       "      <th>order_delivered_carrier_date</th>\n",
       "      <th>order_delivered_customer_date</th>\n",
       "      <th>order_estimated_delivery_date</th>\n",
       "    </tr>\n",
       "  </thead>\n",
       "  <tbody>\n",
       "    <tr>\n",
       "      <th>0</th>\n",
       "      <td>e481f51cbdc54678b7cc49136f2d6af7</td>\n",
       "      <td>9ef432eb6251297304e76186b10a928d</td>\n",
       "      <td>delivered</td>\n",
       "      <td>2017-10-02 10:56:33</td>\n",
       "      <td>2017-10-02 11:07:15</td>\n",
       "      <td>2017-10-04 19:55:00</td>\n",
       "      <td>2017-10-10 21:25:13</td>\n",
       "      <td>2017-10-18</td>\n",
       "    </tr>\n",
       "    <tr>\n",
       "      <th>1</th>\n",
       "      <td>53cdb2fc8bc7dce0b6741e2150273451</td>\n",
       "      <td>b0830fb4747a6c6d20dea0b8c802d7ef</td>\n",
       "      <td>delivered</td>\n",
       "      <td>2018-07-24 20:41:37</td>\n",
       "      <td>2018-07-26 03:24:27</td>\n",
       "      <td>2018-07-26 14:31:00</td>\n",
       "      <td>2018-08-07 15:27:45</td>\n",
       "      <td>2018-08-13</td>\n",
       "    </tr>\n",
       "    <tr>\n",
       "      <th>2</th>\n",
       "      <td>47770eb9100c2d0c44946d9cf07ec65d</td>\n",
       "      <td>41ce2a54c0b03bf3443c3d931a367089</td>\n",
       "      <td>delivered</td>\n",
       "      <td>2018-08-08 08:38:49</td>\n",
       "      <td>2018-08-08 08:55:23</td>\n",
       "      <td>2018-08-08 13:50:00</td>\n",
       "      <td>2018-08-17 18:06:29</td>\n",
       "      <td>2018-09-04</td>\n",
       "    </tr>\n",
       "    <tr>\n",
       "      <th>3</th>\n",
       "      <td>949d5b44dbf5de918fe9c16f97b45f8a</td>\n",
       "      <td>f88197465ea7920adcdbec7375364d82</td>\n",
       "      <td>delivered</td>\n",
       "      <td>2017-11-18 19:28:06</td>\n",
       "      <td>2017-11-18 19:45:59</td>\n",
       "      <td>2017-11-22 13:39:59</td>\n",
       "      <td>2017-12-02 00:28:42</td>\n",
       "      <td>2017-12-15</td>\n",
       "    </tr>\n",
       "    <tr>\n",
       "      <th>4</th>\n",
       "      <td>ad21c59c0840e6cb83a9ceb5573f8159</td>\n",
       "      <td>8ab97904e6daea8866dbdbc4fb7aad2c</td>\n",
       "      <td>delivered</td>\n",
       "      <td>2018-02-13 21:18:39</td>\n",
       "      <td>2018-02-13 22:20:29</td>\n",
       "      <td>2018-02-14 19:46:34</td>\n",
       "      <td>2018-02-16 18:17:02</td>\n",
       "      <td>2018-02-26</td>\n",
       "    </tr>\n",
       "  </tbody>\n",
       "</table>\n",
       "</div>"
      ],
      "text/plain": [
       "                           order_id                       customer_id  \\\n",
       "0  e481f51cbdc54678b7cc49136f2d6af7  9ef432eb6251297304e76186b10a928d   \n",
       "1  53cdb2fc8bc7dce0b6741e2150273451  b0830fb4747a6c6d20dea0b8c802d7ef   \n",
       "2  47770eb9100c2d0c44946d9cf07ec65d  41ce2a54c0b03bf3443c3d931a367089   \n",
       "3  949d5b44dbf5de918fe9c16f97b45f8a  f88197465ea7920adcdbec7375364d82   \n",
       "4  ad21c59c0840e6cb83a9ceb5573f8159  8ab97904e6daea8866dbdbc4fb7aad2c   \n",
       "\n",
       "  order_status order_purchase_timestamp    order_approved_at  \\\n",
       "0    delivered      2017-10-02 10:56:33  2017-10-02 11:07:15   \n",
       "1    delivered      2018-07-24 20:41:37  2018-07-26 03:24:27   \n",
       "2    delivered      2018-08-08 08:38:49  2018-08-08 08:55:23   \n",
       "3    delivered      2017-11-18 19:28:06  2017-11-18 19:45:59   \n",
       "4    delivered      2018-02-13 21:18:39  2018-02-13 22:20:29   \n",
       "\n",
       "  order_delivered_carrier_date order_delivered_customer_date  \\\n",
       "0          2017-10-04 19:55:00           2017-10-10 21:25:13   \n",
       "1          2018-07-26 14:31:00           2018-08-07 15:27:45   \n",
       "2          2018-08-08 13:50:00           2018-08-17 18:06:29   \n",
       "3          2017-11-22 13:39:59           2017-12-02 00:28:42   \n",
       "4          2018-02-14 19:46:34           2018-02-16 18:17:02   \n",
       "\n",
       "  order_estimated_delivery_date  \n",
       "0                    2017-10-18  \n",
       "1                    2018-08-13  \n",
       "2                    2018-09-04  \n",
       "3                    2017-12-15  \n",
       "4                    2018-02-26  "
      ]
     },
     "execution_count": 19,
     "metadata": {},
     "output_type": "execute_result"
    }
   ],
   "source": [
    "# Verificando as 5 primeiras linhas\n",
    "pedidos.head(5)"
   ]
  },
  {
   "cell_type": "code",
   "execution_count": 20,
   "id": "4e0bc9a9",
   "metadata": {},
   "outputs": [
    {
     "data": {
      "text/plain": [
       "order_id                            0\n",
       "customer_id                         0\n",
       "order_status                        0\n",
       "order_purchase_timestamp            0\n",
       "order_approved_at                 160\n",
       "order_delivered_carrier_date     1783\n",
       "order_delivered_customer_date    2965\n",
       "order_estimated_delivery_date       0\n",
       "dtype: int64"
      ]
     },
     "execution_count": 20,
     "metadata": {},
     "output_type": "execute_result"
    }
   ],
   "source": [
    "# Verificando as existência de valores nulos\n",
    "pedidos.isnull().sum()"
   ]
  },
  {
   "cell_type": "markdown",
   "id": "d1994ce7",
   "metadata": {},
   "source": [
    "### 1.6.1 Limpando dados de Pedidos"
   ]
  },
  {
   "cell_type": "code",
   "execution_count": null,
   "id": "aebf4f0a",
   "metadata": {},
   "outputs": [
    {
     "name": "stdout",
     "output_type": "stream",
     "text": [
      "Composição original dos nulos:\n",
      "order_status\n",
      "canceled     141\n",
      "delivered     14\n",
      "created        5\n",
      "Name: count, dtype: int64\n"
     ]
    }
   ],
   "source": [
    "# Verificar composição dos nulos - order_approved_at\n",
    "print(\"Composição original dos nulos:\")\n",
    "print(pedidos[pedidos['order_approved_at'].isnull()]['order_status'].value_counts())"
   ]
  },
  {
   "cell_type": "markdown",
   "id": "56edcb5d",
   "metadata": {},
   "source": [
    "1. Para status \"canceled\" (141 registros):\n",
    "\n",
    "- São esperados: pedidos cancelados não precisam ter data de aprovação;\n",
    "\n",
    "2. Para status \"delivered\" (14 registros):\n",
    "\n",
    "- Pedidos entregues deveriam ter sido aprovados, realizar correção."
   ]
  },
  {
   "cell_type": "code",
   "execution_count": 45,
   "id": "5f560801",
   "metadata": {},
   "outputs": [],
   "source": [
    "# Usando a data de compra como aproximação\n",
    "pedidos.loc[(pedidos['order_approved_at'].isnull()) & \n",
    "           (pedidos['order_status'] == 'delivered'),\n",
    "           'order_approved_at'] = pedidos['order_purchase_timestamp']"
   ]
  },
  {
   "cell_type": "markdown",
   "id": "0e8ef239",
   "metadata": {},
   "source": [
    "3. Para status \"created\" (5 registros):\n",
    "- Pedidos que nunca saíram do status inicial"
   ]
  },
  {
   "cell_type": "code",
   "execution_count": null,
   "id": "5212b7b5",
   "metadata": {},
   "outputs": [
    {
     "name": "stdout",
     "output_type": "stream",
     "text": [
      "Composição original dos nulos:\n",
      "order_status\n",
      "unavailable    609\n",
      "canceled       550\n",
      "invoiced       314\n",
      "processing     301\n",
      "created          5\n",
      "approved         2\n",
      "delivered        2\n",
      "Name: count, dtype: int64\n"
     ]
    }
   ],
   "source": [
    "# Verificar composição dos nulos - order_delivered_carrier_date\n",
    "print(\"Composição original dos nulos:\")\n",
    "print(pedidos[pedidos['order_delivered_carrier_date'].isnull()]['order_status'].value_counts())"
   ]
  },
  {
   "cell_type": "markdown",
   "id": "3fdbec82",
   "metadata": {},
   "source": [
    "- **unavailable**  ->  609  ->  Indica que o produto não estava disponível para envio.\n",
    "- **canceled** -> 550 -> Pedidos cancelados nunca são enviados.\n",
    "- **invoiced** -> 314 -> Fatura gerada, mas ainda não enviado ao transportador.\n",
    "- **processing** -> 301 -> Pedido em processamento (não enviado ainda).\n",
    "- **created** -> 5 -> Pedido recém-criado (não aprovado nem enviado)."
   ]
  },
  {
   "cell_type": "markdown",
   "id": "707e3112",
   "metadata": {},
   "source": [
    "##### Analisando pedidos 'Approved' - order_delivered_carrier_date"
   ]
  },
  {
   "cell_type": "code",
   "execution_count": 23,
   "id": "303fb07d",
   "metadata": {},
   "outputs": [
    {
     "name": "stdout",
     "output_type": "stream",
     "text": [
      "Pedidos aprovados sem data de envio:\n",
      "                               order_id order_purchase_timestamp\n",
      "44897  a2e4c44360b4a57bdff22f3a4630c173      2017-02-06 20:18:17\n",
      "88457  132f1e724165a07f6362532bfb97486e      2017-04-25 01:25:34\n"
     ]
    }
   ],
   "source": [
    "# Filtrando pedidos aprovados com nulos\n",
    "nulos_aprovados = pedidos[\n",
    "    (pedidos['order_status'] == 'approved') & \n",
    "    (pedidos['order_delivered_carrier_date'].isnull())\n",
    "]\n",
    "\n",
    "print(\"Pedidos aprovados sem data de envio:\")\n",
    "print(nulos_aprovados[['order_id', 'order_purchase_timestamp']])"
   ]
  },
  {
   "cell_type": "code",
   "execution_count": 24,
   "id": "4cfc6ee6",
   "metadata": {},
   "outputs": [
    {
     "name": "stdout",
     "output_type": "stream",
     "text": [
      "                               order_id  payment_sequential payment_type  \\\n",
      "20877  a2e4c44360b4a57bdff22f3a4630c173                   1  credit_card   \n",
      "\n",
      "       payment_installments  payment_value  \n",
      "20877                     1          61.62  \n"
     ]
    }
   ],
   "source": [
    "# Verificando se houve pagamento nesse pedido aprovado\n",
    "print(pedidos_pagamentos[pedidos_pagamentos['order_id'] == 'a2e4c44360b4a57bdff22f3a4630c173'])"
   ]
  },
  {
   "cell_type": "markdown",
   "id": "ab44e8a8",
   "metadata": {},
   "source": [
    "- O pedido foi realmente aprovado (status approved faz sentido).\n",
    "\n",
    "- Pagamento único no cartão (sem parcelamento).\n",
    "\n",
    "- Tratamento escolhido: marcar como 'cancelado' pois o pedido nunca foi despachado."
   ]
  },
  {
   "cell_type": "code",
   "execution_count": 25,
   "id": "22816a56",
   "metadata": {},
   "outputs": [],
   "source": [
    "# Alterando pedido para cancelado\n",
    "pedidos.loc[\n",
    "    pedidos['order_id'] == 'a2e4c44360b4a57bdff22f3a4630c173',\n",
    "    ['order_status', 'order_delivered_carrier_date']\n",
    "] = ['canceled', pd.NaT]  # Status + limpeza da data"
   ]
  },
  {
   "cell_type": "code",
   "execution_count": 26,
   "id": "b964b48d",
   "metadata": {},
   "outputs": [
    {
     "name": "stdout",
     "output_type": "stream",
     "text": [
      "                             order_id  payment_sequential payment_type  \\\n",
      "746  132f1e724165a07f6362532bfb97486e                   1  credit_card   \n",
      "\n",
      "     payment_installments  payment_value  \n",
      "746                     5         179.46  \n"
     ]
    }
   ],
   "source": [
    "# Verificando se pedido aprovado foi pago\n",
    "print(pedidos_pagamentos[pedidos_pagamentos['order_id'] == '132f1e724165a07f6362532bfb97486e'])"
   ]
  },
  {
   "cell_type": "markdown",
   "id": "99806e9b",
   "metadata": {},
   "source": [
    "- Status approved mas sem order_delivered_carrier_date.\n",
    "\n",
    "- Situação idêntica ao pedido anterior.\n",
    "\n",
    "- Tratamento: marcar como cancelado pois não houve envio."
   ]
  },
  {
   "cell_type": "code",
   "execution_count": 27,
   "id": "43115d68",
   "metadata": {},
   "outputs": [],
   "source": [
    "# Atualizando pedido aprovado para cancelado\n",
    "pedidos.loc[\n",
    "    pedidos['order_id'] == '132f1e724165a07f6362532bfb97486e',\n",
    "    ['order_status', 'order_delivered_carrier_date']\n",
    "] = ['canceled', pd.NaT]"
   ]
  },
  {
   "cell_type": "markdown",
   "id": "eeb7440e",
   "metadata": {},
   "source": [
    "##### Analisando pedidos 'Delivered' - order_delivered_carrier_date"
   ]
  },
  {
   "cell_type": "code",
   "execution_count": 28,
   "id": "6c0d1078",
   "metadata": {},
   "outputs": [
    {
     "name": "stdout",
     "output_type": "stream",
     "text": [
      "Pedidos entregues com order_delivered_carrier_date nulo:\n",
      "                               order_id order_purchase_timestamp  \\\n",
      "73222  2aa91108853cecb43c84a5dc5b277475      2017-09-29 08:52:58   \n",
      "92643  2d858f451373b04fb5c984a1cc2defaf      2017-05-25 23:22:43   \n",
      "\n",
      "      order_delivered_customer_date  \n",
      "73222           2017-11-20 19:44:47  \n",
      "92643                           NaT  \n"
     ]
    }
   ],
   "source": [
    "# Identificando os pedidos entregues com data de carrier nula\n",
    "entrega_inconsistente = pedidos[\n",
    "    (pedidos['order_status'] == 'delivered') & \n",
    "    (pedidos['order_delivered_carrier_date'].isnull())\n",
    "]\n",
    "\n",
    "print(\"Pedidos entregues com order_delivered_carrier_date nulo:\")\n",
    "print(entrega_inconsistente[['order_id', 'order_purchase_timestamp', 'order_delivered_customer_date']])"
   ]
  },
  {
   "cell_type": "code",
   "execution_count": 29,
   "id": "51898671",
   "metadata": {},
   "outputs": [
    {
     "name": "stdout",
     "output_type": "stream",
     "text": [
      "                              review_id                          order_id  \\\n",
      "74309  e945d1831a3d98008913fc31dcbb804d  2aa91108853cecb43c84a5dc5b277475   \n",
      "\n",
      "       review_score review_comment_title review_comment_message  \\\n",
      "74309             5                  NaN                    NaN   \n",
      "\n",
      "      review_creation_date review_answer_timestamp  \n",
      "74309           2017-10-17     2017-10-17 10:56:02  \n"
     ]
    }
   ],
   "source": [
    "# Veridicando se houve comentário feito para esse pedido\n",
    "print(comentarios_pedidos[comentarios_pedidos['order_id'] == '2aa91108853cecb43c84a5dc5b277475'])"
   ]
  },
  {
   "cell_type": "markdown",
   "id": "d452d3e2",
   "metadata": {},
   "source": [
    "- Sistema falhou em registrar a data de envio ao transportador\n",
    "\n",
    "- Mas todas as evidências indicam que o pedido foi completado normalmente"
   ]
  },
  {
   "cell_type": "code",
   "execution_count": null,
   "id": "63aabeed",
   "metadata": {},
   "outputs": [],
   "source": [
    "# Convertendo todas as colunas de data\n",
    "# Lista de colunas de data para converter\n",
    "date_cols = ['order_purchase_timestamp', 'order_approved_at', \n",
    "             'order_delivered_carrier_date', 'order_delivered_customer_date']\n",
    "\n",
    "# Converter para datetime com tratamento de erros\n",
    "for col in date_cols:\n",
    "    pedidos[col] = pd.to_datetime(pedidos[col], errors='coerce')"
   ]
  },
  {
   "cell_type": "code",
   "execution_count": null,
   "id": "42c08b06",
   "metadata": {},
   "outputs": [],
   "source": [
    "# Cálculo do tempo médio\n",
    "# Filtrar pedidos entregues com datas válidas\n",
    "pedidos_entregues = pedidos[\n",
    "    (pedidos['order_status'] == 'delivered') & \n",
    "    (pedidos['order_delivered_carrier_date'].notna()) & \n",
    "    (pedidos['order_approved_at'].notna())\n",
    "]\n",
    "\n",
    "# Calcular diferença em dias\n",
    "if not pedidos_entregues.empty:\n",
    "    tempo_medio = (pedidos_entregues['order_delivered_carrier_date'] - \n",
    "                  pedidos_entregues['order_approved_at']).dt.days.mean()\n",
    "else:\n",
    "    tempo_medio = 3  # Valor padrão se não houver dados"
   ]
  },
  {
   "cell_type": "code",
   "execution_count": null,
   "id": "0a3d917f",
   "metadata": {},
   "outputs": [],
   "source": [
    "# Preenchimento seguro da data estimada\n",
    "# Verificar se o pedido existe\n",
    "pedido_alvo = '2aa91108853cecb43c84a5dc5b277475'\n",
    "if pedido_alvo in pedidos['order_id'].values:\n",
    "    # Obter a data de aprovação (com verificação)\n",
    "    data_aprovacao = pedidos.loc[pedidos['order_id'] == pedido_alvo, 'order_approved_at'].iloc[0]\n",
    "    \n",
    "    if pd.notna(data_aprovacao):\n",
    "        pedidos.loc[pedidos['order_id'] == pedido_alvo, 'order_delivered_carrier_date'] = (\n",
    "            data_aprovacao + pd.Timedelta(days=tempo_medio))\n",
    "    else:\n",
    "        print(f\"Aviso: Pedido {pedido_alvo} não tem data de aprovação válida\")\n",
    "else:\n",
    "    print(f\"Aviso: Pedido {pedido_alvo} não encontrado\")\n",
    "        "
   ]
  },
  {
   "cell_type": "code",
   "execution_count": null,
   "id": "60178bff",
   "metadata": {},
   "outputs": [
    {
     "data": {
      "text/html": [
       "<div>\n",
       "<style scoped>\n",
       "    .dataframe tbody tr th:only-of-type {\n",
       "        vertical-align: middle;\n",
       "    }\n",
       "\n",
       "    .dataframe tbody tr th {\n",
       "        vertical-align: top;\n",
       "    }\n",
       "\n",
       "    .dataframe thead th {\n",
       "        text-align: right;\n",
       "    }\n",
       "</style>\n",
       "<table border=\"1\" class=\"dataframe\">\n",
       "  <thead>\n",
       "    <tr style=\"text-align: right;\">\n",
       "      <th></th>\n",
       "      <th>order_id</th>\n",
       "      <th>order_status</th>\n",
       "      <th>order_approved_at</th>\n",
       "      <th>order_delivered_carrier_date</th>\n",
       "    </tr>\n",
       "  </thead>\n",
       "  <tbody>\n",
       "    <tr>\n",
       "      <th>73222</th>\n",
       "      <td>2aa91108853cecb43c84a5dc5b277475</td>\n",
       "      <td>delivered</td>\n",
       "      <td>2017-09-29 09:07:16</td>\n",
       "      <td>2017-10-01 16:13:05.542825153</td>\n",
       "    </tr>\n",
       "  </tbody>\n",
       "</table>\n",
       "</div>"
      ],
      "text/plain": [
       "                               order_id order_status   order_approved_at  \\\n",
       "73222  2aa91108853cecb43c84a5dc5b277475    delivered 2017-09-29 09:07:16   \n",
       "\n",
       "       order_delivered_carrier_date  \n",
       "73222 2017-10-01 16:13:05.542825153  "
      ]
     },
     "metadata": {},
     "output_type": "display_data"
    },
    {
     "name": "stdout",
     "output_type": "stream",
     "text": [
      "\n",
      "Tipos das colunas após conversão:\n",
      "order_purchase_timestamp         datetime64[ns]\n",
      "order_approved_at                datetime64[ns]\n",
      "order_delivered_carrier_date     datetime64[ns]\n",
      "order_delivered_customer_date    datetime64[ns]\n",
      "dtype: object\n"
     ]
    }
   ],
   "source": [
    "# Mostrando o pedido modificado\n",
    "display(pedidos[pedidos['order_id'] == pedido_alvo][[\n",
    "    'order_id', 'order_status', 'order_approved_at', \n",
    "    'order_delivered_carrier_date'\n",
    "]])\n",
    "\n",
    "# Verificando tipos das colunas\n",
    "print(\"\\nTipos das colunas após conversão:\")\n",
    "print(pedidos[date_cols].dtypes)"
   ]
  },
  {
   "cell_type": "code",
   "execution_count": 37,
   "id": "a44d93a3",
   "metadata": {},
   "outputs": [
    {
     "name": "stdout",
     "output_type": "stream",
     "text": [
      "                              review_id                          order_id  \\\n",
      "51996  4e755f114e50d33b9ac6a56e0d7d3ea9  2d858f451373b04fb5c984a1cc2defaf   \n",
      "\n",
      "       review_score review_comment_title review_comment_message  \\\n",
      "51996             5                  NaN                    NaN   \n",
      "\n",
      "      review_creation_date review_answer_timestamp  \n",
      "51996           2017-06-25     2017-06-27 01:49:04  \n"
     ]
    }
   ],
   "source": [
    "# Analisando se o pedido possui comentários do cliente\n",
    "print(comentarios_pedidos[comentarios_pedidos['order_id'] == '2d858f451373b04fb5c984a1cc2defaf'])"
   ]
  },
  {
   "cell_type": "markdown",
   "id": "776fb463",
   "metadata": {},
   "source": [
    " O pedido está marcado como delivered, mas:\n",
    "\n",
    "- order_delivered_carrier_date = NaN (não foi registrado quando foi enviado ao transportador).\n",
    "\n",
    "- order_delivered_customer_date = NaT (não há registro de entrega ao cliente).\n",
    "\n",
    "Porém, o cliente deu nota 5 estrelas, o que sugere que recebeu o pedido sem problemas."
   ]
  },
  {
   "cell_type": "code",
   "execution_count": 38,
   "id": "6a413eac",
   "metadata": {},
   "outputs": [],
   "source": [
    "# Calcular a média de dias entre 'order_approved_at' e 'order_delivered_carrier_date'\n",
    "media_dias = pedidos[\n",
    "    (pedidos['order_status'] == 'delivered') & \n",
    "    (~pedidos['order_delivered_carrier_date'].isnull())\n",
    "].apply(\n",
    "    lambda x: (x['order_delivered_carrier_date'] - x['order_approved_at']).days,\n",
    "    axis=1\n",
    ").mean()\n",
    "\n",
    "# Preencher a data estimada para o pedido problemático\n",
    "pedidos.loc[\n",
    "    pedidos['order_id'] == '2d858f451373b04fb5c984a1cc2defaf',\n",
    "    'order_delivered_carrier_date'\n",
    "] = pedidos['order_approved_at'] + pd.Timedelta(days=media_dias)"
   ]
  },
  {
   "cell_type": "code",
   "execution_count": 46,
   "id": "da4e47d9",
   "metadata": {},
   "outputs": [
    {
     "name": "stdout",
     "output_type": "stream",
     "text": [
      "Composição original dos nulos:\n",
      "order_status\n",
      "shipped        1107\n",
      "canceled        621\n",
      "unavailable     609\n",
      "invoiced        314\n",
      "processing      301\n",
      "delivered         8\n",
      "created           5\n",
      "Name: count, dtype: int64\n"
     ]
    }
   ],
   "source": [
    "# Verificar composição dos nulos - order_delivered_customer_date\n",
    "print(\"Composição original dos nulos:\")\n",
    "print(pedidos[pedidos['order_delivered_customer_date'].isnull()]['order_status'].value_counts())"
   ]
  },
  {
   "cell_type": "markdown",
   "id": "e1581954",
   "metadata": {},
   "source": [
    "##### Status \"shipped\" - order_delivered_customer_date"
   ]
  },
  {
   "cell_type": "code",
   "execution_count": 51,
   "id": "49bb86a8",
   "metadata": {},
   "outputs": [],
   "source": [
    "# Pedidos marcados com enviados mas sem data de entrega\n",
    "# Verificar se há data de transporte como fallback\n",
    "pedidos.loc[(pedidos['order_status'] == 'shipped') & \n",
    "           (pedidos['order_delivered_customer_date'].isnull()),\n",
    "           'order_delivered_customer_date'] = pedidos['order_delivered_carrier_date'] + pd.Timedelta(days=5)  # estimativa média"
   ]
  },
  {
   "cell_type": "markdown",
   "id": "f4018e9d",
   "metadata": {},
   "source": [
    "##### Status 'delivered' - order_delivered_customer_date"
   ]
  },
  {
   "cell_type": "code",
   "execution_count": 49,
   "id": "0e079ce9",
   "metadata": {},
   "outputs": [],
   "source": [
    "# Usando data estimada\n",
    "pedidos.loc[(pedidos['order_status'] == 'delivered') & \n",
    "           (pedidos['order_delivered_customer_date'].isnull()),\n",
    "           'order_delivered_customer_date'] = pedidos['order_estimated_delivery_date']"
   ]
  },
  {
   "cell_type": "code",
   "execution_count": null,
   "id": "f7516656",
   "metadata": {},
   "outputs": [
    {
     "data": {
      "text/plain": [
       "order_id                            0\n",
       "customer_id                         0\n",
       "order_status                        0\n",
       "order_purchase_timestamp            0\n",
       "order_approved_at                 146\n",
       "order_delivered_carrier_date     1781\n",
       "order_delivered_customer_date    1850\n",
       "order_estimated_delivery_date       0\n",
       "dtype: int64"
      ]
     },
     "execution_count": 53,
     "metadata": {},
     "output_type": "execute_result"
    }
   ],
   "source": [
    "# Após correções\n",
    "pedidos.isnull().sum()"
   ]
  },
  {
   "cell_type": "markdown",
   "id": "8d403a93",
   "metadata": {},
   "source": [
    "### 1.7 Carregando dados de Produtos"
   ]
  },
  {
   "cell_type": "code",
   "execution_count": 39,
   "id": "0d2bd735",
   "metadata": {},
   "outputs": [
    {
     "data": {
      "text/html": [
       "<div>\n",
       "<style scoped>\n",
       "    .dataframe tbody tr th:only-of-type {\n",
       "        vertical-align: middle;\n",
       "    }\n",
       "\n",
       "    .dataframe tbody tr th {\n",
       "        vertical-align: top;\n",
       "    }\n",
       "\n",
       "    .dataframe thead th {\n",
       "        text-align: right;\n",
       "    }\n",
       "</style>\n",
       "<table border=\"1\" class=\"dataframe\">\n",
       "  <thead>\n",
       "    <tr style=\"text-align: right;\">\n",
       "      <th></th>\n",
       "      <th>product_id</th>\n",
       "      <th>product_category_name</th>\n",
       "      <th>product_name_lenght</th>\n",
       "      <th>product_description_lenght</th>\n",
       "      <th>product_photos_qty</th>\n",
       "      <th>product_weight_g</th>\n",
       "      <th>product_length_cm</th>\n",
       "      <th>product_height_cm</th>\n",
       "      <th>product_width_cm</th>\n",
       "    </tr>\n",
       "  </thead>\n",
       "  <tbody>\n",
       "    <tr>\n",
       "      <th>0</th>\n",
       "      <td>1e9e8ef04dbcff4541ed26657ea517e5</td>\n",
       "      <td>perfumaria</td>\n",
       "      <td>40.0</td>\n",
       "      <td>287.0</td>\n",
       "      <td>1.0</td>\n",
       "      <td>225.0</td>\n",
       "      <td>16.0</td>\n",
       "      <td>10.0</td>\n",
       "      <td>14.0</td>\n",
       "    </tr>\n",
       "    <tr>\n",
       "      <th>1</th>\n",
       "      <td>3aa071139cb16b67ca9e5dea641aaa2f</td>\n",
       "      <td>artes</td>\n",
       "      <td>44.0</td>\n",
       "      <td>276.0</td>\n",
       "      <td>1.0</td>\n",
       "      <td>1000.0</td>\n",
       "      <td>30.0</td>\n",
       "      <td>18.0</td>\n",
       "      <td>20.0</td>\n",
       "    </tr>\n",
       "    <tr>\n",
       "      <th>2</th>\n",
       "      <td>96bd76ec8810374ed1b65e291975717f</td>\n",
       "      <td>esporte_lazer</td>\n",
       "      <td>46.0</td>\n",
       "      <td>250.0</td>\n",
       "      <td>1.0</td>\n",
       "      <td>154.0</td>\n",
       "      <td>18.0</td>\n",
       "      <td>9.0</td>\n",
       "      <td>15.0</td>\n",
       "    </tr>\n",
       "    <tr>\n",
       "      <th>3</th>\n",
       "      <td>cef67bcfe19066a932b7673e239eb23d</td>\n",
       "      <td>bebes</td>\n",
       "      <td>27.0</td>\n",
       "      <td>261.0</td>\n",
       "      <td>1.0</td>\n",
       "      <td>371.0</td>\n",
       "      <td>26.0</td>\n",
       "      <td>4.0</td>\n",
       "      <td>26.0</td>\n",
       "    </tr>\n",
       "    <tr>\n",
       "      <th>4</th>\n",
       "      <td>9dc1a7de274444849c219cff195d0b71</td>\n",
       "      <td>utilidades_domesticas</td>\n",
       "      <td>37.0</td>\n",
       "      <td>402.0</td>\n",
       "      <td>4.0</td>\n",
       "      <td>625.0</td>\n",
       "      <td>20.0</td>\n",
       "      <td>17.0</td>\n",
       "      <td>13.0</td>\n",
       "    </tr>\n",
       "  </tbody>\n",
       "</table>\n",
       "</div>"
      ],
      "text/plain": [
       "                         product_id  product_category_name  \\\n",
       "0  1e9e8ef04dbcff4541ed26657ea517e5             perfumaria   \n",
       "1  3aa071139cb16b67ca9e5dea641aaa2f                  artes   \n",
       "2  96bd76ec8810374ed1b65e291975717f          esporte_lazer   \n",
       "3  cef67bcfe19066a932b7673e239eb23d                  bebes   \n",
       "4  9dc1a7de274444849c219cff195d0b71  utilidades_domesticas   \n",
       "\n",
       "   product_name_lenght  product_description_lenght  product_photos_qty  \\\n",
       "0                 40.0                       287.0                 1.0   \n",
       "1                 44.0                       276.0                 1.0   \n",
       "2                 46.0                       250.0                 1.0   \n",
       "3                 27.0                       261.0                 1.0   \n",
       "4                 37.0                       402.0                 4.0   \n",
       "\n",
       "   product_weight_g  product_length_cm  product_height_cm  product_width_cm  \n",
       "0             225.0               16.0               10.0              14.0  \n",
       "1            1000.0               30.0               18.0              20.0  \n",
       "2             154.0               18.0                9.0              15.0  \n",
       "3             371.0               26.0                4.0              26.0  \n",
       "4             625.0               20.0               17.0              13.0  "
      ]
     },
     "execution_count": 39,
     "metadata": {},
     "output_type": "execute_result"
    }
   ],
   "source": [
    "# analisando as 5 primeiras linhas\n",
    "produtos.head(5)"
   ]
  },
  {
   "cell_type": "code",
   "execution_count": 40,
   "id": "ab2f44d6",
   "metadata": {},
   "outputs": [
    {
     "data": {
      "text/plain": [
       "product_id                      0\n",
       "product_category_name         610\n",
       "product_name_lenght           610\n",
       "product_description_lenght    610\n",
       "product_photos_qty            610\n",
       "product_weight_g                2\n",
       "product_length_cm               2\n",
       "product_height_cm               2\n",
       "product_width_cm                2\n",
       "dtype: int64"
      ]
     },
     "execution_count": 40,
     "metadata": {},
     "output_type": "execute_result"
    }
   ],
   "source": [
    "# Verificando existência de valores ausentes\n",
    "produtos.isnull().sum()"
   ]
  },
  {
   "cell_type": "markdown",
   "id": "9ca65e97",
   "metadata": {},
   "source": [
    "### 1.7.1 Limpando dados de Produtos"
   ]
  },
  {
   "cell_type": "markdown",
   "id": "b8c6dbdd",
   "metadata": {},
   "source": [
    "Correção - product_category_name"
   ]
  },
  {
   "cell_type": "code",
   "execution_count": null,
   "id": "8459d93b",
   "metadata": {},
   "outputs": [],
   "source": [
    "# Preenchendo categoria nome com 'nao_informado'\n",
    "produtos['product_category_name'] = produtos['product_category_name'].fillna('nao_informado')"
   ]
  },
  {
   "cell_type": "markdown",
   "id": "144401cd",
   "metadata": {},
   "source": [
    "Correção - product_weight_g, product_length_cm, product_height_cm, product_width_cm "
   ]
  },
  {
   "cell_type": "code",
   "execution_count": 56,
   "id": "50c9d904",
   "metadata": {},
   "outputs": [],
   "source": [
    "# Preencher com médias da categoria\n",
    "for col in ['product_weight_g', 'product_length_cm', 'product_height_cm', 'product_width_cm']:\n",
    "    produtos[col] = produtos.groupby('product_category_name')[col].transform(\n",
    "        lambda x: x.fillna(x.median()))  # Usar mediana por ser menos sensível a outliers"
   ]
  },
  {
   "cell_type": "markdown",
   "id": "5f7712e9",
   "metadata": {},
   "source": [
    "Correção - product_name_lenght, product_description_lenght, product_photos_qty"
   ]
  },
  {
   "cell_type": "code",
   "execution_count": 61,
   "id": "4c57cb52",
   "metadata": {},
   "outputs": [],
   "source": [
    "# Versão alternativa que preenche primeiro com a média global quando a média do grupo é NaN\n",
    "for col in ['product_name_lenght', 'product_description_lenght', 'product_photos_qty']:\n",
    "    # Calcular médias por categoria\n",
    "    group_means = produtos.groupby('product_category_name')[col].transform('mean')\n",
    "    \n",
    "    # Calcular média global\n",
    "    global_mean = produtos[col].mean()\n",
    "    \n",
    "    # Preencher: primeiro tenta com a média do grupo, depois com a global\n",
    "    produtos[col] = produtos[col].fillna(group_means).fillna(global_mean)"
   ]
  },
  {
   "cell_type": "code",
   "execution_count": 60,
   "id": "14e02948",
   "metadata": {},
   "outputs": [
    {
     "data": {
      "text/plain": [
       "product_id                    0\n",
       "product_category_name         0\n",
       "product_name_lenght           0\n",
       "product_description_lenght    0\n",
       "product_photos_qty            0\n",
       "product_weight_g              0\n",
       "product_length_cm             0\n",
       "product_height_cm             0\n",
       "product_width_cm              0\n",
       "dtype: int64"
      ]
     },
     "execution_count": 60,
     "metadata": {},
     "output_type": "execute_result"
    }
   ],
   "source": [
    "# Verificando resultado após correções\n",
    "produtos.isnull().sum()"
   ]
  },
  {
   "cell_type": "markdown",
   "id": "8212206e",
   "metadata": {},
   "source": [
    "### 1.8 Carregando dados de Vendedores"
   ]
  },
  {
   "cell_type": "code",
   "execution_count": 41,
   "id": "68bec635",
   "metadata": {},
   "outputs": [
    {
     "data": {
      "text/html": [
       "<div>\n",
       "<style scoped>\n",
       "    .dataframe tbody tr th:only-of-type {\n",
       "        vertical-align: middle;\n",
       "    }\n",
       "\n",
       "    .dataframe tbody tr th {\n",
       "        vertical-align: top;\n",
       "    }\n",
       "\n",
       "    .dataframe thead th {\n",
       "        text-align: right;\n",
       "    }\n",
       "</style>\n",
       "<table border=\"1\" class=\"dataframe\">\n",
       "  <thead>\n",
       "    <tr style=\"text-align: right;\">\n",
       "      <th></th>\n",
       "      <th>seller_id</th>\n",
       "      <th>seller_zip_code_prefix</th>\n",
       "      <th>seller_city</th>\n",
       "      <th>seller_state</th>\n",
       "    </tr>\n",
       "  </thead>\n",
       "  <tbody>\n",
       "    <tr>\n",
       "      <th>0</th>\n",
       "      <td>3442f8959a84dea7ee197c632cb2df15</td>\n",
       "      <td>13023</td>\n",
       "      <td>Campinas</td>\n",
       "      <td>SP</td>\n",
       "    </tr>\n",
       "    <tr>\n",
       "      <th>1</th>\n",
       "      <td>d1b65fc7debc3361ea86b5f14c68d2e2</td>\n",
       "      <td>13844</td>\n",
       "      <td>Mogi Guacu</td>\n",
       "      <td>SP</td>\n",
       "    </tr>\n",
       "    <tr>\n",
       "      <th>2</th>\n",
       "      <td>ce3ad9de960102d0677a81f5d0bb7b2d</td>\n",
       "      <td>20031</td>\n",
       "      <td>Rio De Janeiro</td>\n",
       "      <td>RJ</td>\n",
       "    </tr>\n",
       "    <tr>\n",
       "      <th>3</th>\n",
       "      <td>c0f3eea2e14555b6faeea3dd58c1b1c3</td>\n",
       "      <td>4195</td>\n",
       "      <td>Sao Paulo</td>\n",
       "      <td>SP</td>\n",
       "    </tr>\n",
       "    <tr>\n",
       "      <th>4</th>\n",
       "      <td>51a04a8a6bdcb23deccc82b0b80742cf</td>\n",
       "      <td>12914</td>\n",
       "      <td>Braganca Paulista</td>\n",
       "      <td>SP</td>\n",
       "    </tr>\n",
       "  </tbody>\n",
       "</table>\n",
       "</div>"
      ],
      "text/plain": [
       "                          seller_id  seller_zip_code_prefix  \\\n",
       "0  3442f8959a84dea7ee197c632cb2df15                   13023   \n",
       "1  d1b65fc7debc3361ea86b5f14c68d2e2                   13844   \n",
       "2  ce3ad9de960102d0677a81f5d0bb7b2d                   20031   \n",
       "3  c0f3eea2e14555b6faeea3dd58c1b1c3                    4195   \n",
       "4  51a04a8a6bdcb23deccc82b0b80742cf                   12914   \n",
       "\n",
       "         seller_city seller_state  \n",
       "0           Campinas           SP  \n",
       "1         Mogi Guacu           SP  \n",
       "2     Rio De Janeiro           RJ  \n",
       "3          Sao Paulo           SP  \n",
       "4  Braganca Paulista           SP  "
      ]
     },
     "execution_count": 41,
     "metadata": {},
     "output_type": "execute_result"
    }
   ],
   "source": [
    "# Convertendo a primeira letra das cidade para maiúcula\n",
    "vendedores['seller_city'] = vendedores['seller_city'].str.title()\n",
    "\n",
    "# Verificando apenas as 5 primeiras linhas\n",
    "vendedores.head(5)"
   ]
  },
  {
   "cell_type": "code",
   "execution_count": null,
   "id": "1bd21ead",
   "metadata": {},
   "outputs": [
    {
     "data": {
      "text/plain": [
       "seller_id                 0\n",
       "seller_zip_code_prefix    0\n",
       "seller_city               0\n",
       "seller_state              0\n",
       "dtype: int64"
      ]
     },
     "execution_count": 57,
     "metadata": {},
     "output_type": "execute_result"
    }
   ],
   "source": [
    "# Verificnando exitência de valores nulos\n",
    "vendedores.isnull().sum()"
   ]
  },
  {
   "cell_type": "markdown",
   "id": "c7f0c027",
   "metadata": {},
   "source": [
    "### 📝 Histórico de Tratamento - Olist\n",
    "1. **Pedidos**: \n",
    "   - Nulos em `order_approved_at` → preenchidos com data de compra como aproximação\n",
    "   - Nulos em `order_delivered_carrier_date` → marcados como cancelados pois os pedidos nunca foram despachados\n",
    "   - Nulos em `order_delivered_customer_date` → preenchidos com datas estimadas\n",
    "2. **Produtos**:\n",
    "   - Categorias nulas → marcadas como \"nao_informado\"\n",
    "   - Tratando categorias descritivas nulas → preenchidas com média do grupo ou média global\n",
    "   - Tratando medidas físicas nulas → preenchidas com médias da categoria"
   ]
  },
  {
   "cell_type": "markdown",
   "id": "4ea90079",
   "metadata": {},
   "source": [
    "## 2. Análise Exploratória de Dados"
   ]
  },
  {
   "cell_type": "markdown",
   "id": "69660fd1",
   "metadata": {},
   "source": [
    "a) Qual o volume de pedidos por mês? Existe sazonalidade nas vendas?"
   ]
  },
  {
   "cell_type": "code",
   "execution_count": null,
   "id": "1625fdd4",
   "metadata": {},
   "outputs": [],
   "source": [
    "# Criando banco\n",
    "conn = sqlite3.connect('olist.db')"
   ]
  },
  {
   "cell_type": "code",
   "execution_count": 64,
   "id": "0dac0779",
   "metadata": {},
   "outputs": [
    {
     "data": {
      "text/plain": [
       "99441"
      ]
     },
     "execution_count": 64,
     "metadata": {},
     "output_type": "execute_result"
    }
   ],
   "source": [
    "# Carregando os dados do CSV para o banco (uma única vez)\n",
    "pedidos.to_sql('pedidos', conn, if_exists='replace', index=False)"
   ]
  },
  {
   "cell_type": "code",
   "execution_count": 66,
   "id": "88cf3ec7",
   "metadata": {},
   "outputs": [
    {
     "name": "stdout",
     "output_type": "stream",
     "text": [
      "   order_month  total_orders\n",
      "0      2016-09             4\n",
      "1      2016-10           324\n",
      "2      2016-12             1\n",
      "3      2017-01           800\n",
      "4      2017-02          1780\n",
      "5      2017-03          2682\n",
      "6      2017-04          2404\n",
      "7      2017-05          3700\n",
      "8      2017-06          3245\n",
      "9      2017-07          4026\n",
      "10     2017-08          4331\n",
      "11     2017-09          4285\n",
      "12     2017-10          4631\n",
      "13     2017-11          7544\n",
      "14     2017-12          5673\n",
      "15     2018-01          7269\n",
      "16     2018-02          6728\n",
      "17     2018-03          7211\n",
      "18     2018-04          6939\n",
      "19     2018-05          6873\n",
      "20     2018-06          6167\n",
      "21     2018-07          6292\n",
      "22     2018-08          6512\n",
      "23     2018-09            16\n",
      "24     2018-10             4\n"
     ]
    }
   ],
   "source": [
    "# Executando query SQL\n",
    "query = \"\"\"\n",
    "SELECT \n",
    "    strftime('%Y-%m', order_purchase_timestamp) as order_month,\n",
    "    COUNT(order_id) as total_orders\n",
    "FROM pedidos\n",
    "GROUP BY order_month\n",
    "ORDER BY order_month;\n",
    "\"\"\"\n",
    "\n",
    "volume_mensal = pd.read_sql_query(query, conn)\n",
    "\n",
    "print(volume_mensal)"
   ]
  },
  {
   "cell_type": "markdown",
   "id": "b5462ac9",
   "metadata": {},
   "source": [
    "- Os meses 2016-09, 2016-12, 2018-09, e 2018-10 têm volumes anormalmente baixos (ex: 1, 4, 16).\n",
    "- Irei removê-los da análise de sazonalidade, para não enviesar os resultados."
   ]
  },
  {
   "cell_type": "code",
   "execution_count": 67,
   "id": "2a013489",
   "metadata": {},
   "outputs": [
    {
     "name": "stdout",
     "output_type": "stream",
     "text": [
      "   order_month  total_orders\n",
      "1      2016-10           324\n",
      "3      2017-01           800\n",
      "4      2017-02          1780\n",
      "5      2017-03          2682\n",
      "6      2017-04          2404\n",
      "7      2017-05          3700\n",
      "8      2017-06          3245\n",
      "9      2017-07          4026\n",
      "10     2017-08          4331\n",
      "11     2017-09          4285\n",
      "12     2017-10          4631\n",
      "13     2017-11          7544\n",
      "14     2017-12          5673\n",
      "15     2018-01          7269\n",
      "16     2018-02          6728\n",
      "17     2018-03          7211\n",
      "18     2018-04          6939\n",
      "19     2018-05          6873\n",
      "20     2018-06          6167\n",
      "21     2018-07          6292\n",
      "22     2018-08          6512\n"
     ]
    }
   ],
   "source": [
    "# Excluindo manualmente os meses incompletos com volume anormalmente baixo\n",
    "meses_incompletos = ['2016-09', '2016-12', '2018-09', '2018-10']\n",
    "\n",
    "# Criando novo DataFrame sem esses meses\n",
    "volume_mensal_filtrado = volume_mensal[~volume_mensal['order_month'].isin(meses_incompletos)]\n",
    "\n",
    "print(volume_mensal_filtrado)"
   ]
  },
  {
   "cell_type": "code",
   "execution_count": 79,
   "id": "4ae74f7e",
   "metadata": {},
   "outputs": [
    {
     "data": {
      "image/png": "[encoded data removed]",
      "text/plain": [
       "<Figure size 1100x500 with 1 Axes>"
      ]
     },
     "metadata": {},
     "output_type": "display_data"
    }
   ],
   "source": [
    "# Plotando o volume mensal\n",
    "plt.figure(figsize=(11, 5))\n",
    "sns.lineplot(data=volume_mensal_filtrado, x='order_month', y='total_orders', marker='o', color = 'purple')\n",
    "plt.title('Volume de Pedidos por Mês')\n",
    "plt.xlabel('Mês do Pedido')\n",
    "plt.ylabel('Total de Pedidos')\n",
    "plt.xticks(rotation=45)\n",
    "plt.grid(True)\n",
    "plt.tight_layout()\n",
    "plt.show()"
   ]
  },
  {
   "cell_type": "markdown",
   "id": "97805ae5",
   "metadata": {},
   "source": [
    "1. Picos de vendas em:\n",
    "\n",
    "- Novembro de 2017: Provável influência da Black Friday\n",
    "\n",
    "- Janeiro de 2018: Alta pós-festas, possível efeito de trocas e promoções\n",
    "\n",
    "2. Queda em:\n",
    "\n",
    "- Fevereiro (mês curto)\n",
    "\n",
    "- Junho e julho têm pequenas quedas, sugerindo sazonalidade moderada\n",
    "\n",
    "Tendência geral de crescimento até metade de 2018."
   ]
  },
  {
   "cell_type": "markdown",
   "id": "c22d3beb",
   "metadata": {},
   "source": [
    "b) Qual a distribuição do tempo de entrega dos pedidos?"
   ]
  },
  {
   "cell_type": "code",
   "execution_count": 85,
   "id": "96cc4fda",
   "metadata": {},
   "outputs": [
    {
     "data": {
      "text/plain": [
       "99441"
      ]
     },
     "execution_count": 85,
     "metadata": {},
     "output_type": "execute_result"
    }
   ],
   "source": [
    "# Conectando ao SQLite e salva a tabela\n",
    "conn = sqlite3.connect(\"olist.db\")\n",
    "pedidos.to_sql(\"pedidos\", conn, if_exists=\"replace\", index=False)"
   ]
  },
  {
   "cell_type": "code",
   "execution_count": 92,
   "id": "fd4011b3",
   "metadata": {},
   "outputs": [],
   "source": [
    "# Query SQL para calcular o tempo de entrega\n",
    "# - Essa query calcula o tempo de entrega em dias com a função julianday() (SQLite), e filtra apenas as entregas que aconteceram (evita nulos e negativas).\n",
    "query = '''SELECT\n",
    "    order_id,\n",
    "    order_purchase_timestamp,\n",
    "    order_delivered_customer_date,\n",
    "    julianday(order_delivered_customer_date) - julianday(order_purchase_timestamp) AS delivery_time_days\n",
    "FROM\n",
    "    pedidos\n",
    "WHERE\n",
    "    order_delivered_customer_date IS NOT NULL\n",
    "    AND order_purchase_timestamp IS NOT NULL\n",
    "    AND julianday(order_delivered_customer_date) - julianday(order_purchase_timestamp) > 0;\n",
    "'''\n",
    "\n",
    "tempo_entrega = pd.read_sql_query(query, conn)\n"
   ]
  },
  {
   "cell_type": "code",
   "execution_count": 94,
   "id": "d3fbc78b",
   "metadata": {},
   "outputs": [
    {
     "name": "stdout",
     "output_type": "stream",
     "text": [
      "   media_dias_entrega  entrega_mais_rapida  entrega_mais_demorada\n",
      "0               12.52                 0.53                 209.63\n"
     ]
    }
   ],
   "source": [
    "query = '''SELECT\n",
    "    ROUND(AVG(julianday(order_delivered_customer_date) - julianday(order_purchase_timestamp)), 2) AS media_dias_entrega,\n",
    "    ROUND(MIN(julianday(order_delivered_customer_date) - julianday(order_purchase_timestamp)), 2) AS entrega_mais_rapida,\n",
    "    ROUND(MAX(julianday(order_delivered_customer_date) - julianday(order_purchase_timestamp)), 2) AS entrega_mais_demorada\n",
    "FROM\n",
    "    pedidos\n",
    "WHERE\n",
    "    order_delivered_customer_date IS NOT NULL\n",
    "    AND order_purchase_timestamp IS NOT NULL\n",
    "    AND julianday(order_delivered_customer_date) - julianday(order_purchase_timestamp) > 0;\n",
    "'''\n",
    "\n",
    "tempo_medio = pd.read_sql_query(query, conn)\n",
    "\n",
    "print(tempo_medio)"
   ]
  },
  {
   "cell_type": "code",
   "execution_count": null,
   "id": "85a9de98",
   "metadata": {},
   "outputs": [
    {
     "data": {
      "image/png": "[encoded data removed]",
      "text/plain": [
       "<Figure size 1000x500 with 1 Axes>"
      ]
     },
     "metadata": {},
     "output_type": "display_data"
    }
   ],
   "source": [
    "# Visualizando com python\n",
    "plt.figure(figsize=(10, 5))\n",
    "sns.histplot(tempo_entrega['delivery_time_days'], bins=30, kde=True, color='purple')\n",
    "plt.title('Distribuição do Tempo de Entrega (dias)')\n",
    "plt.xlabel('Dias para Entrega')\n",
    "plt.ylabel('Frequência')\n",
    "plt.grid(True)\n",
    "plt.show()"
   ]
  },
  {
   "cell_type": "markdown",
   "id": "6f4e4833",
   "metadata": {},
   "source": [
    "- Pico em torno de 7 a 15 dias: Condiz com a média de ~12,5 dias encontrada.\n",
    "- Entrega mais rápida: 0,53 dias.\n",
    "- Entrega mais demorada: 209,63 dias.\n",
    "- Distribuição assimétrica à direita: Isso é esperado em dados de entrega — a maioria dos pedidos chega em poucos dias, mas há outliers com entregas muito demoradas."
   ]
  },
  {
   "cell_type": "markdown",
   "id": "4e5c99d2",
   "metadata": {},
   "source": [
    "c) Qual a relação entre o valor do frete e a distância de entrega?"
   ]
  },
  {
   "cell_type": "markdown",
   "id": "a0ca985f",
   "metadata": {},
   "source": [
    "1 Colunas necessárias:\n",
    "- `freight_value` → valor do frete (está no dataset `order_items`)\n",
    "- `distance` → distância entre o vendedor e o cliente (não tem)\n",
    "2. Calculando a distância - requisitos necessários:\n",
    "- Tabela `geolocalizacao` com latitude/longitude por CEP, tabela `pedidos` e tabela `itens_pedidos`\n",
    "- Tabela `clientes` com `customer_zip_code`\n",
    "- Tabela `vendedores` com `seller_zip_code`\n",
    "- Aplicar a fórmula de Haversine para calcular a distância entre cliente e vendedor\n",
    "\n",
    "Passo a passo:\n",
    "\n",
    "I) Criando uma tabela com lat/long de clientes e vendedores"
   ]
  },
  {
   "cell_type": "code",
   "execution_count": 119,
   "id": "9413e29f",
   "metadata": {},
   "outputs": [
    {
     "data": {
      "text/plain": [
       "112650"
      ]
     },
     "execution_count": 119,
     "metadata": {},
     "output_type": "execute_result"
    }
   ],
   "source": [
    "# Conectando ao SQLite e salva a tabela\n",
    "conn = sqlite3.connect(\"olist.db\")\n",
    "geolocalizacao.to_sql(\"geolocalizacao\", conn, if_exists=\"replace\", index=False)\n",
    "clientes.to_sql(\"clientes\", conn, if_exists=\"replace\", index=False)\n",
    "vendedores.to_sql(\"vendedores\", conn, if_exists=\"replace\", index=False)\n",
    "itens_pedidos.to_sql(\"itens_pedidos\", conn, if_exists=\"replace\", index=False)\n"
   ]
  },
  {
   "cell_type": "code",
   "execution_count": 140,
   "id": "e6d2026b",
   "metadata": {},
   "outputs": [
    {
     "data": {
      "text/plain": [
       "<sqlite3.Cursor at 0x29054599740>"
      ]
     },
     "execution_count": 140,
     "metadata": {},
     "output_type": "execute_result"
    }
   ],
   "source": [
    "# Drop se já existir\n",
    "conn.execute(\"DROP VIEW IF EXISTS geolocation_avg\")\n",
    "\n",
    "query = '''CREATE VIEW geolocation_avg AS\n",
    "SELECT\n",
    "    geolocation_zip_code_prefix AS zip_code_prefix,\n",
    "    AVG(geolocation_lat) AS latitude,\n",
    "    AVG(geolocation_lng) AS longitude\n",
    "FROM geolocalizacao\n",
    "GROUP BY zip_code_prefix;\n",
    "'''\n",
    "\n",
    "conn.execute(query)"
   ]
  },
  {
   "cell_type": "markdown",
   "id": "8b8b45a2",
   "metadata": {},
   "source": [
    "II) Criando tabela com coordenadas dos clientes e vendedores por pedido"
   ]
  },
  {
   "cell_type": "code",
   "execution_count": 141,
   "id": "ec650ecd",
   "metadata": {},
   "outputs": [
    {
     "data": {
      "text/plain": [
       "<sqlite3.Cursor at 0x290545984c0>"
      ]
     },
     "execution_count": 141,
     "metadata": {},
     "output_type": "execute_result"
    }
   ],
   "source": [
    "# Drop se já existir\n",
    "conn.execute(\"DROP VIEW IF EXISTS order_coords\")\n",
    "\n",
    "query = '''CREATE VIEW order_coords AS\n",
    "SELECT\n",
    "    o.order_id,\n",
    "    c.customer_id,\n",
    "    s.seller_id,\n",
    "    gc.latitude AS customer_lat,\n",
    "    gc.longitude AS customer_lng,\n",
    "    gs.latitude AS seller_lat,\n",
    "    gs.longitude AS seller_lng\n",
    "FROM pedidos o\n",
    "JOIN clientes c ON o.customer_id = c.customer_id\n",
    "JOIN itens_pedidos oi ON o.order_id = oi.order_id\n",
    "JOIN vendedores s ON oi.seller_id = s.seller_id\n",
    "LEFT JOIN geolocation_avg gc ON c.customer_zip_code_prefix = gc.zip_code_prefix\n",
    "LEFT JOIN geolocation_avg gs ON s.seller_zip_code_prefix = gs.zip_code_prefix;\n",
    "'''\n",
    "\n",
    "conn.execute(query)"
   ]
  },
  {
   "cell_type": "markdown",
   "id": "729af097",
   "metadata": {},
   "source": [
    "III) Criando função Python para calcular distância Haversine"
   ]
  },
  {
   "cell_type": "code",
   "execution_count": 142,
   "id": "66664076",
   "metadata": {},
   "outputs": [],
   "source": [
    "# Função Haversine (retorna distância em km)\n",
    "def haversine_np(lon1, lat1, lon2, lat2):\n",
    "    \"\"\"\n",
    "    Calcula a distância haversine entre dois pares de coordenadas (vetorizado)\n",
    "    \"\"\"\n",
    "    lon1, lat1, lon2, lat2 = map(np.radians, [lon1, lat1, lon2, lat2])\n",
    "    dlon = lon2 - lon1 \n",
    "    dlat = lat2 - lat1 \n",
    "\n",
    "    a = np.sin(dlat / 2.0)**2 + np.cos(lat1) * np.cos(lat2) * np.sin(dlon / 2.0)**2\n",
    "    c = 2 * np.arcsin(np.sqrt(a))\n",
    "    km = 6371 * c\n",
    "    return km"
   ]
  },
  {
   "cell_type": "markdown",
   "id": "6ec067fb",
   "metadata": {},
   "source": [
    "IV) Puxando os dados com pandas + SQL e calculando a distância com a função Haversine"
   ]
  },
  {
   "cell_type": "code",
   "execution_count": 143,
   "id": "0614f93e",
   "metadata": {},
   "outputs": [],
   "source": [
    "query = \"\"\"\n",
    "SELECT\n",
    "    order_id,\n",
    "    customer_lat,\n",
    "    customer_lng,\n",
    "    seller_lat,\n",
    "    seller_lng,\n",
    "    freight_value\n",
    "FROM order_coords\n",
    "JOIN itens_pedidos USING(order_id)\n",
    "\"\"\"\n",
    "dist = pd.read_sql_query(query, conn)\n",
    "\n",
    "dist['distance_km'] = haversine_np(\n",
    "    dist['customer_lng'], dist['customer_lat'],\n",
    "    dist['seller_lng'], dist['seller_lat']\n",
    ")"
   ]
  },
  {
   "cell_type": "markdown",
   "id": "92f9593f",
   "metadata": {},
   "source": [
    "V) Analisando a relação entre frete e distância"
   ]
  },
  {
   "cell_type": "code",
   "execution_count": 144,
   "id": "f3d373c8",
   "metadata": {},
   "outputs": [
    {
     "data": {
      "text/html": [
       "<div>\n",
       "<style scoped>\n",
       "    .dataframe tbody tr th:only-of-type {\n",
       "        vertical-align: middle;\n",
       "    }\n",
       "\n",
       "    .dataframe tbody tr th {\n",
       "        vertical-align: top;\n",
       "    }\n",
       "\n",
       "    .dataframe thead th {\n",
       "        text-align: right;\n",
       "    }\n",
       "</style>\n",
       "<table border=\"1\" class=\"dataframe\">\n",
       "  <thead>\n",
       "    <tr style=\"text-align: right;\">\n",
       "      <th></th>\n",
       "      <th>freight_value</th>\n",
       "      <th>distance_km</th>\n",
       "    </tr>\n",
       "  </thead>\n",
       "  <tbody>\n",
       "    <tr>\n",
       "      <th>freight_value</th>\n",
       "      <td>1.000000</td>\n",
       "      <td>0.376559</td>\n",
       "    </tr>\n",
       "    <tr>\n",
       "      <th>distance_km</th>\n",
       "      <td>0.376559</td>\n",
       "      <td>1.000000</td>\n",
       "    </tr>\n",
       "  </tbody>\n",
       "</table>\n",
       "</div>"
      ],
      "text/plain": [
       "               freight_value  distance_km\n",
       "freight_value       1.000000     0.376559\n",
       "distance_km         0.376559     1.000000"
      ]
     },
     "execution_count": 144,
     "metadata": {},
     "output_type": "execute_result"
    }
   ],
   "source": [
    "dist[['freight_value', 'distance_km']].corr()"
   ]
  },
  {
   "cell_type": "markdown",
   "id": "22b8411a",
   "metadata": {},
   "source": [
    "- O valor 0.3766 indica uma correlação positiva moderada entre a distância e o frete.\n",
    "- Isso significa que, em média, quanto maior a distância entre o cliente e o vendedor, maior tende a ser o valor do frete.\n",
    "- Mas como a correlação não é forte, há outros fatores influenciando o valor do frete (peso, transportadora, tipo de entrega, etc.)."
   ]
  },
  {
   "cell_type": "code",
   "execution_count": 149,
   "id": "568dca65",
   "metadata": {},
   "outputs": [
    {
     "data": {
      "image/png": "[encoded data removed]",
      "text/plain": [
       "<Figure size 1000x600 with 1 Axes>"
      ]
     },
     "metadata": {},
     "output_type": "display_data"
    }
   ],
   "source": [
    "plt.figure(figsize=(10, 6))\n",
    "sns.scatterplot(x='distance_km', y='freight_value', data=dist, alpha=0.5, color = 'purple')\n",
    "plt.title('Relação entre Frete e Distância de Entrega')\n",
    "plt.xlabel('Distância (km)')\n",
    "plt.ylabel('Valor do Frete (R$)')\n",
    "plt.grid(True)\n",
    "plt.show()"
   ]
  },
  {
   "cell_type": "markdown",
   "id": "dbcab6f2",
   "metadata": {},
   "source": [
    "d) Quais são as categorias de produtos mais vendidos em termos de faturamento?"
   ]
  },
  {
   "cell_type": "markdown",
   "id": "fb5e25b4",
   "metadata": {},
   "source": [
    "Passo a passo:\n",
    "- Juntar as tabelas `itens_pedidos` e `produtos`, usando `product_id`.\n",
    "\n",
    "- Calcular o faturamento total por categoria (`product_category_name`) usando a coluna `price` da `itens_pedidos`.\n",
    "\n",
    "- Ordenar os resultados do maior para o menor"
   ]
  },
  {
   "cell_type": "code",
   "execution_count": 151,
   "id": "59971953",
   "metadata": {},
   "outputs": [
    {
     "name": "stdout",
     "output_type": "stream",
     "text": [
      "    product_category_name  total_faturamento\n",
      "0            beleza_saude         1258681.34\n",
      "1      relogios_presentes         1205005.68\n",
      "2         cama_mesa_banho         1036988.68\n",
      "3           esporte_lazer          988048.97\n",
      "4  informatica_acessorios          911954.32\n",
      "5        moveis_decoracao          729762.49\n",
      "6              cool_stuff          635290.85\n",
      "7   utilidades_domesticas          632248.66\n",
      "8              automotivo          592720.11\n",
      "9      ferramentas_jardim          485256.46\n"
     ]
    }
   ],
   "source": [
    "produtos.to_sql(\"produtos\", conn, if_exists=\"replace\", index=False)\n",
    "\n",
    "query = '''SELECT \n",
    "    p.product_category_name,\n",
    "    ROUND(SUM(oi.price), 2) AS total_faturamento\n",
    "FROM itens_pedidos oi\n",
    "JOIN produtos p ON oi.product_id = p.product_id\n",
    "GROUP BY p.product_category_name\n",
    "ORDER BY total_faturamento DESC\n",
    "LIMIT 10;\n",
    "'''\n",
    "top_categorias_query = pd.read_sql_query(query, conn)\n",
    "\n",
    "print(top_categorias_query)"
   ]
  },
  {
   "cell_type": "code",
   "execution_count": 156,
   "id": "29b44663",
   "metadata": {},
   "outputs": [
    {
     "data": {
      "image/png": "[encoded data removed]",
      "text/plain": [
       "<Figure size 900x500 with 1 Axes>"
      ]
     },
     "metadata": {},
     "output_type": "display_data"
    }
   ],
   "source": [
    "# Organizando os dados\n",
    "top_categorias_query.sort_values(\"total_faturamento\", ascending=True, inplace=True)\n",
    "\n",
    "# Criando o gráfico\n",
    "plt.figure(figsize=(9, 5))\n",
    "plt.barh(top_categorias_query['product_category_name'], top_categorias_query['total_faturamento'], color='purple')\n",
    "plt.xlabel('Faturamento Total (R$)')\n",
    "plt.title('Top 10 Categorias de Produtos por Faturamento')\n",
    "plt.grid(axis='x', linestyle='--', alpha=0.5)\n",
    "plt.tight_layout()\n",
    "plt.show()"
   ]
  },
  {
   "cell_type": "markdown",
   "id": "5b3bc639",
   "metadata": {},
   "source": [
    "- Categorias com maior faturamento: `beleza_saude`, `relogios_presentes` e `cama_mesa_banho`."
   ]
  },
  {
   "cell_type": "markdown",
   "id": "358cfe62",
   "metadata": {},
   "source": [
    "e) Quais estados brasileiros possuem o maior valor médio de pedido?"
   ]
  },
  {
   "cell_type": "markdown",
   "id": "8ec38a1a",
   "metadata": {},
   "source": [
    "- Calcular o valor médio dos pedidos (`freight_value` + `price`) por estado do cliente"
   ]
  },
  {
   "cell_type": "code",
   "execution_count": 157,
   "id": "ba50db92",
   "metadata": {},
   "outputs": [
    {
     "name": "stdout",
     "output_type": "stream",
     "text": [
      "   customer_state  valor_medio_pedido\n",
      "0              PB              234.20\n",
      "1              AL              216.73\n",
      "2              AC              213.80\n",
      "3              RO              207.04\n",
      "4              PA              201.53\n",
      "5              PI              199.51\n",
      "6              AP              198.33\n",
      "7              TO              194.78\n",
      "8              RR              193.55\n",
      "9              RN              192.62\n",
      "10             SE              189.69\n",
      "11             CE              186.47\n",
      "12             MA              183.46\n",
      "13             PE              178.43\n",
      "14             MT              176.46\n",
      "15             AM              168.70\n",
      "16             MS              166.00\n",
      "17             BA              160.97\n",
      "18             GO              149.04\n",
      "19             DF              146.81\n",
      "20             SC              146.12\n",
      "21             RJ              146.08\n",
      "22             ES              143.97\n",
      "23             RS              142.07\n",
      "24             MG              141.38\n",
      "25             PR              139.54\n",
      "26             SP              124.80\n"
     ]
    }
   ],
   "source": [
    "query = '''SELECT \n",
    "    c.customer_state,\n",
    "    ROUND(AVG(oi.price + oi.freight_value), 2) AS valor_medio_pedido\n",
    "FROM pedidos p\n",
    "JOIN clientes c ON p.customer_id = c.customer_id\n",
    "JOIN itens_pedidos oi ON p.order_id = oi.order_id\n",
    "GROUP BY c.customer_state\n",
    "ORDER BY valor_medio_pedido DESC;\n",
    "'''\n",
    "maior_valor_medio = pd.read_sql_query(query, conn)\n",
    "\n",
    "print(maior_valor_medio)"
   ]
  },
  {
   "cell_type": "markdown",
   "id": "5176cd79",
   "metadata": {},
   "source": [
    "- Estados com maior valor médio:\n",
    "1. PB - R$ 234,20\n",
    "2. AL - R$ 216,73\n",
    "3. AC - R$ 213,80\n",
    "4. RO - R$ 207,04\n",
    "5. PA - R$ 201,53\n",
    "\n",
    "- Enquanto SP (São Paulo), apesar de ser um dos maiores mercados, tem o menor valor médio: R$ 124,80."
   ]
  },
  {
   "cell_type": "code",
   "execution_count": 162,
   "id": "442ec820",
   "metadata": {},
   "outputs": [
    {
     "name": "stderr",
     "output_type": "stream",
     "text": [
      "C:\\Users\\bianc\\AppData\\Local\\Temp\\ipykernel_22272\\2669736533.py:6: FutureWarning: \n",
      "\n",
      "Passing `palette` without assigning `hue` is deprecated and will be removed in v0.14.0. Assign the `y` variable to `hue` and set `legend=False` for the same effect.\n",
      "\n",
      "  sns.barplot(x='valor_medio_pedido', y='customer_state', data=maior_valor_medio, palette='viridis')\n"
     ]
    },
    {
     "data": {
      "image/png": "[encoded data removed]",
      "text/plain": [
       "<Figure size 800x800 with 1 Axes>"
      ]
     },
     "metadata": {},
     "output_type": "display_data"
    }
   ],
   "source": [
    "# Ordenando os dados do maior para o menor valor médio de pedido\n",
    "maior_valor_medio = maior_valor_medio.sort_values(by='valor_medio_pedido', ascending=True)\n",
    "\n",
    "# Criando o gráfico\n",
    "plt.figure(figsize=(8, 8))\n",
    "sns.barplot(x='valor_medio_pedido', y='customer_state', data=maior_valor_medio, palette='viridis')\n",
    "plt.title('Valor Médio de Pedido por Estado', fontsize=16)\n",
    "plt.xlabel('Valor Médio do Pedido (R$)')\n",
    "plt.ylabel('Estado')\n",
    "\n",
    "# Mostrando o gráfico\n",
    "plt.tight_layout()\n",
    "plt.show()"
   ]
  },
  {
   "cell_type": "markdown",
   "id": "2e69030f",
   "metadata": {},
   "source": [
    "## 3. Solução de Problemas de Negócio"
   ]
  }
 ],
 "metadata": {
  "kernelspec": {
   "display_name": "Python 3",
   "language": "python",
   "name": "python3"
  },
  "language_info": {
   "codemirror_mode": {
    "name": "ipython",
    "version": 3
   },
   "file_extension": ".py",
   "mimetype": "text/x-python",
   "name": "python",
   "nbconvert_exporter": "python",
   "pygments_lexer": "ipython3",
   "version": "3.11.9"
  }
 },
 "nbformat": 4,
 "nbformat_minor": 5
}
